{
 "cells": [
  {
   "cell_type": "code",
   "execution_count": 1,
   "id": "e696fb9e",
   "metadata": {
    "_execution_state": "idle",
    "_uuid": "051d70d956493feee0c6d64651c6a088724dca2a",
    "execution": {
     "iopub.execute_input": "2024-06-06T09:18:08.859285Z",
     "iopub.status.busy": "2024-06-06T09:18:08.856443Z",
     "iopub.status.idle": "2024-06-06T09:18:10.206674Z",
     "shell.execute_reply": "2024-06-06T09:18:10.204697Z"
    },
    "papermill": {
     "duration": 1.362808,
     "end_time": "2024-06-06T09:18:10.209538",
     "exception": false,
     "start_time": "2024-06-06T09:18:08.846730",
     "status": "completed"
    },
    "tags": []
   },
   "outputs": [
    {
     "name": "stderr",
     "output_type": "stream",
     "text": [
      "── \u001b[1mAttaching core tidyverse packages\u001b[22m ──────────────────────── tidyverse 2.0.0 ──\n",
      "\u001b[32m✔\u001b[39m \u001b[34mdplyr    \u001b[39m 1.1.4     \u001b[32m✔\u001b[39m \u001b[34mreadr    \u001b[39m 2.1.4\n",
      "\u001b[32m✔\u001b[39m \u001b[34mforcats  \u001b[39m 1.0.0     \u001b[32m✔\u001b[39m \u001b[34mstringr  \u001b[39m 1.5.1\n",
      "\u001b[32m✔\u001b[39m \u001b[34mggplot2  \u001b[39m 3.4.4     \u001b[32m✔\u001b[39m \u001b[34mtibble   \u001b[39m 3.2.1\n",
      "\u001b[32m✔\u001b[39m \u001b[34mlubridate\u001b[39m 1.9.3     \u001b[32m✔\u001b[39m \u001b[34mtidyr    \u001b[39m 1.3.0\n",
      "\u001b[32m✔\u001b[39m \u001b[34mpurrr    \u001b[39m 1.0.2     \n",
      "── \u001b[1mConflicts\u001b[22m ────────────────────────────────────────── tidyverse_conflicts() ──\n",
      "\u001b[31m✖\u001b[39m \u001b[34mdplyr\u001b[39m::\u001b[32mfilter()\u001b[39m masks \u001b[34mstats\u001b[39m::filter()\n",
      "\u001b[31m✖\u001b[39m \u001b[34mdplyr\u001b[39m::\u001b[32mlag()\u001b[39m    masks \u001b[34mstats\u001b[39m::lag()\n",
      "\u001b[36mℹ\u001b[39m Use the conflicted package (\u001b[3m\u001b[34m<http://conflicted.r-lib.org/>\u001b[39m\u001b[23m) to force all conflicts to become errors\n"
     ]
    }
   ],
   "source": [
    "library(tidyverse) # metapackage of all tidyverse packages"
   ]
  },
  {
   "cell_type": "markdown",
   "id": "c56c2313",
   "metadata": {
    "papermill": {
     "duration": 0.006283,
     "end_time": "2024-06-06T09:18:10.222376",
     "exception": false,
     "start_time": "2024-06-06T09:18:10.216093",
     "status": "completed"
    },
    "tags": []
   },
   "source": [
    "# Data voor project"
   ]
  },
  {
   "cell_type": "code",
   "execution_count": 2,
   "id": "5c098522",
   "metadata": {
    "execution": {
     "iopub.execute_input": "2024-06-06T09:18:10.274730Z",
     "iopub.status.busy": "2024-06-06T09:18:10.237190Z",
     "iopub.status.idle": "2024-06-06T09:18:12.089787Z",
     "shell.execute_reply": "2024-06-06T09:18:12.087338Z"
    },
    "papermill": {
     "duration": 1.864423,
     "end_time": "2024-06-06T09:18:12.093090",
     "exception": false,
     "start_time": "2024-06-06T09:18:10.228667",
     "status": "completed"
    },
    "tags": []
   },
   "outputs": [
    {
     "data": {
      "text/html": [
       "<table class=\"dataframe\">\n",
       "<caption>A data.frame: 6 × 3</caption>\n",
       "<thead>\n",
       "\t<tr><th></th><th scope=col>League</th><th scope=col>ID</th><th scope=col>Season</th></tr>\n",
       "\t<tr><th></th><th scope=col>&lt;chr&gt;</th><th scope=col>&lt;int&gt;</th><th scope=col>&lt;int&gt;</th></tr>\n",
       "</thead>\n",
       "<tbody>\n",
       "\t<tr><th scope=row>1</th><td>World Cup        </td><td>1</td><td>2010</td></tr>\n",
       "\t<tr><th scope=row>2</th><td>World Cup        </td><td>1</td><td>2014</td></tr>\n",
       "\t<tr><th scope=row>3</th><td>World Cup        </td><td>1</td><td>2018</td></tr>\n",
       "\t<tr><th scope=row>4</th><td>World Cup        </td><td>1</td><td>2022</td></tr>\n",
       "\t<tr><th scope=row>5</th><td>Euro Championship</td><td>4</td><td>2008</td></tr>\n",
       "\t<tr><th scope=row>6</th><td>Euro Championship</td><td>4</td><td>2012</td></tr>\n",
       "</tbody>\n",
       "</table>\n"
      ],
      "text/latex": [
       "A data.frame: 6 × 3\n",
       "\\begin{tabular}{r|lll}\n",
       "  & League & ID & Season\\\\\n",
       "  & <chr> & <int> & <int>\\\\\n",
       "\\hline\n",
       "\t1 & World Cup         & 1 & 2010\\\\\n",
       "\t2 & World Cup         & 1 & 2014\\\\\n",
       "\t3 & World Cup         & 1 & 2018\\\\\n",
       "\t4 & World Cup         & 1 & 2022\\\\\n",
       "\t5 & Euro Championship & 4 & 2008\\\\\n",
       "\t6 & Euro Championship & 4 & 2012\\\\\n",
       "\\end{tabular}\n"
      ],
      "text/markdown": [
       "\n",
       "A data.frame: 6 × 3\n",
       "\n",
       "| <!--/--> | League &lt;chr&gt; | ID &lt;int&gt; | Season &lt;int&gt; |\n",
       "|---|---|---|---|\n",
       "| 1 | World Cup         | 1 | 2010 |\n",
       "| 2 | World Cup         | 1 | 2014 |\n",
       "| 3 | World Cup         | 1 | 2018 |\n",
       "| 4 | World Cup         | 1 | 2022 |\n",
       "| 5 | Euro Championship | 4 | 2008 |\n",
       "| 6 | Euro Championship | 4 | 2012 |\n",
       "\n"
      ],
      "text/plain": [
       "  League            ID Season\n",
       "1 World Cup         1  2010  \n",
       "2 World Cup         1  2014  \n",
       "3 World Cup         1  2018  \n",
       "4 World Cup         1  2022  \n",
       "5 Euro Championship 4  2008  \n",
       "6 Euro Championship 4  2012  "
      ]
     },
     "metadata": {},
     "output_type": "display_data"
    },
    {
     "data": {
      "text/html": [
       "<table class=\"dataframe\">\n",
       "<caption>A data.frame: 6 × 4</caption>\n",
       "<thead>\n",
       "\t<tr><th></th><th scope=col>Nation</th><th scope=col>Group</th><th scope=col>ID</th><th scope=col>FIFA_Rank</th></tr>\n",
       "\t<tr><th></th><th scope=col>&lt;chr&gt;</th><th scope=col>&lt;chr&gt;</th><th scope=col>&lt;int&gt;</th><th scope=col>&lt;int&gt;</th></tr>\n",
       "</thead>\n",
       "<tbody>\n",
       "\t<tr><th scope=row>1</th><td>Germany    </td><td>A</td><td>  25</td><td>16</td></tr>\n",
       "\t<tr><th scope=row>2</th><td>Scotland   </td><td>A</td><td>1108</td><td>39</td></tr>\n",
       "\t<tr><th scope=row>3</th><td>Hungary    </td><td>A</td><td> 769</td><td>26</td></tr>\n",
       "\t<tr><th scope=row>4</th><td>Switzerland</td><td>A</td><td>  15</td><td>19</td></tr>\n",
       "\t<tr><th scope=row>5</th><td>Spain      </td><td>B</td><td>   9</td><td> 8</td></tr>\n",
       "\t<tr><th scope=row>6</th><td>Croatia    </td><td>B</td><td>   3</td><td>10</td></tr>\n",
       "</tbody>\n",
       "</table>\n"
      ],
      "text/latex": [
       "A data.frame: 6 × 4\n",
       "\\begin{tabular}{r|llll}\n",
       "  & Nation & Group & ID & FIFA\\_Rank\\\\\n",
       "  & <chr> & <chr> & <int> & <int>\\\\\n",
       "\\hline\n",
       "\t1 & Germany     & A &   25 & 16\\\\\n",
       "\t2 & Scotland    & A & 1108 & 39\\\\\n",
       "\t3 & Hungary     & A &  769 & 26\\\\\n",
       "\t4 & Switzerland & A &   15 & 19\\\\\n",
       "\t5 & Spain       & B &    9 &  8\\\\\n",
       "\t6 & Croatia     & B &    3 & 10\\\\\n",
       "\\end{tabular}\n"
      ],
      "text/markdown": [
       "\n",
       "A data.frame: 6 × 4\n",
       "\n",
       "| <!--/--> | Nation &lt;chr&gt; | Group &lt;chr&gt; | ID &lt;int&gt; | FIFA_Rank &lt;int&gt; |\n",
       "|---|---|---|---|---|\n",
       "| 1 | Germany     | A |   25 | 16 |\n",
       "| 2 | Scotland    | A | 1108 | 39 |\n",
       "| 3 | Hungary     | A |  769 | 26 |\n",
       "| 4 | Switzerland | A |   15 | 19 |\n",
       "| 5 | Spain       | B |    9 |  8 |\n",
       "| 6 | Croatia     | B |    3 | 10 |\n",
       "\n"
      ],
      "text/plain": [
       "  Nation      Group ID   FIFA_Rank\n",
       "1 Germany     A       25 16       \n",
       "2 Scotland    A     1108 39       \n",
       "3 Hungary     A      769 26       \n",
       "4 Switzerland A       15 19       \n",
       "5 Spain       B        9  8       \n",
       "6 Croatia     B        3 10       "
      ]
     },
     "metadata": {},
     "output_type": "display_data"
    },
    {
     "data": {
      "text/html": [
       "<table class=\"dataframe\">\n",
       "<caption>A data.frame: 6 × 25</caption>\n",
       "<thead>\n",
       "\t<tr><th></th><th scope=col>X</th><th scope=col>id</th><th scope=col>name</th><th scope=col>birthdate</th><th scope=col>height</th><th scope=col>weight</th><th scope=col>season</th><th scope=col>rating</th><th scope=col>minutes</th><th scope=col>total_shots</th><th scope=col>⋯</th><th scope=col>tackles</th><th scope=col>total_duels</th><th scope=col>won_duels</th><th scope=col>total_dribbles</th><th scope=col>won_dribbles</th><th scope=col>fouls_drawn</th><th scope=col>fouls_comitted</th><th scope=col>yellow</th><th scope=col>red</th><th scope=col>yellowred</th></tr>\n",
       "\t<tr><th></th><th scope=col>&lt;int&gt;</th><th scope=col>&lt;int&gt;</th><th scope=col>&lt;chr&gt;</th><th scope=col>&lt;chr&gt;</th><th scope=col>&lt;chr&gt;</th><th scope=col>&lt;chr&gt;</th><th scope=col>&lt;chr&gt;</th><th scope=col>&lt;dbl&gt;</th><th scope=col>&lt;int&gt;</th><th scope=col>&lt;int&gt;</th><th scope=col>⋯</th><th scope=col>&lt;int&gt;</th><th scope=col>&lt;int&gt;</th><th scope=col>&lt;int&gt;</th><th scope=col>&lt;int&gt;</th><th scope=col>&lt;int&gt;</th><th scope=col>&lt;int&gt;</th><th scope=col>&lt;int&gt;</th><th scope=col>&lt;int&gt;</th><th scope=col>&lt;int&gt;</th><th scope=col>&lt;int&gt;</th></tr>\n",
       "</thead>\n",
       "<tbody>\n",
       "\t<tr><th scope=row>1</th><td>1</td><td> 27736</td><td>Ricardo Gabriel Canales Lanza    </td><td>1982-05-30</td><td>181 cm</td><td>78 kg</td><td>2010</td><td>NA</td><td> 312</td><td>0</td><td>⋯</td><td>0</td><td>0</td><td>0</td><td>0</td><td>0</td><td>0</td><td>0</td><td>0</td><td>0</td><td>0</td></tr>\n",
       "\t<tr><th scope=row>2</th><td>2</td><td> 35806</td><td>Francisco Javier Rodríguez Pinedo</td><td>1981-10-20</td><td>191 cm</td><td>80 kg</td><td>2010</td><td>NA</td><td>3136</td><td>0</td><td>⋯</td><td>0</td><td>0</td><td>0</td><td>0</td><td>0</td><td>0</td><td>0</td><td>9</td><td>1</td><td>1</td></tr>\n",
       "\t<tr><th scope=row>3</th><td>3</td><td>100768</td><td>Dominic Adiyiah                  </td><td>1989-11-29</td><td>172 cm</td><td>70 kg</td><td>2010</td><td>NA</td><td>1079</td><td>0</td><td>⋯</td><td>0</td><td>0</td><td>0</td><td>0</td><td>0</td><td>0</td><td>0</td><td>3</td><td>0</td><td>0</td></tr>\n",
       "\t<tr><th scope=row>4</th><td>4</td><td>104275</td><td>Nam-Chol Pak                     </td><td>1988-10-03</td><td>183 cm</td><td>78 kg</td><td>2010</td><td>NA</td><td> 472</td><td>0</td><td>⋯</td><td>0</td><td>0</td><td>0</td><td>0</td><td>0</td><td>0</td><td>0</td><td>0</td><td>0</td><td>0</td></tr>\n",
       "\t<tr><th scope=row>5</th><td>5</td><td>104297</td><td>Jun-Il Ri                        </td><td>1987-08-24</td><td>178 cm</td><td>66 kg</td><td>2010</td><td>NA</td><td>2483</td><td>0</td><td>⋯</td><td>0</td><td>0</td><td>0</td><td>0</td><td>0</td><td>0</td><td>0</td><td>0</td><td>0</td><td>0</td></tr>\n",
       "\t<tr><th scope=row>6</th><td>6</td><td>104375</td><td>Chol-Hyok An                     </td><td>1987-06-27</td><td>178 cm</td><td>72 kg</td><td>2010</td><td>NA</td><td> 504</td><td>0</td><td>⋯</td><td>0</td><td>0</td><td>0</td><td>0</td><td>0</td><td>0</td><td>0</td><td>2</td><td>0</td><td>0</td></tr>\n",
       "</tbody>\n",
       "</table>\n"
      ],
      "text/latex": [
       "A data.frame: 6 × 25\n",
       "\\begin{tabular}{r|lllllllllllllllllllll}\n",
       "  & X & id & name & birthdate & height & weight & season & rating & minutes & total\\_shots & ⋯ & tackles & total\\_duels & won\\_duels & total\\_dribbles & won\\_dribbles & fouls\\_drawn & fouls\\_comitted & yellow & red & yellowred\\\\\n",
       "  & <int> & <int> & <chr> & <chr> & <chr> & <chr> & <chr> & <dbl> & <int> & <int> & ⋯ & <int> & <int> & <int> & <int> & <int> & <int> & <int> & <int> & <int> & <int>\\\\\n",
       "\\hline\n",
       "\t1 & 1 &  27736 & Ricardo Gabriel Canales Lanza     & 1982-05-30 & 181 cm & 78 kg & 2010 & NA &  312 & 0 & ⋯ & 0 & 0 & 0 & 0 & 0 & 0 & 0 & 0 & 0 & 0\\\\\n",
       "\t2 & 2 &  35806 & Francisco Javier Rodríguez Pinedo & 1981-10-20 & 191 cm & 80 kg & 2010 & NA & 3136 & 0 & ⋯ & 0 & 0 & 0 & 0 & 0 & 0 & 0 & 9 & 1 & 1\\\\\n",
       "\t3 & 3 & 100768 & Dominic Adiyiah                   & 1989-11-29 & 172 cm & 70 kg & 2010 & NA & 1079 & 0 & ⋯ & 0 & 0 & 0 & 0 & 0 & 0 & 0 & 3 & 0 & 0\\\\\n",
       "\t4 & 4 & 104275 & Nam-Chol Pak                      & 1988-10-03 & 183 cm & 78 kg & 2010 & NA &  472 & 0 & ⋯ & 0 & 0 & 0 & 0 & 0 & 0 & 0 & 0 & 0 & 0\\\\\n",
       "\t5 & 5 & 104297 & Jun-Il Ri                         & 1987-08-24 & 178 cm & 66 kg & 2010 & NA & 2483 & 0 & ⋯ & 0 & 0 & 0 & 0 & 0 & 0 & 0 & 0 & 0 & 0\\\\\n",
       "\t6 & 6 & 104375 & Chol-Hyok An                      & 1987-06-27 & 178 cm & 72 kg & 2010 & NA &  504 & 0 & ⋯ & 0 & 0 & 0 & 0 & 0 & 0 & 0 & 2 & 0 & 0\\\\\n",
       "\\end{tabular}\n"
      ],
      "text/markdown": [
       "\n",
       "A data.frame: 6 × 25\n",
       "\n",
       "| <!--/--> | X &lt;int&gt; | id &lt;int&gt; | name &lt;chr&gt; | birthdate &lt;chr&gt; | height &lt;chr&gt; | weight &lt;chr&gt; | season &lt;chr&gt; | rating &lt;dbl&gt; | minutes &lt;int&gt; | total_shots &lt;int&gt; | ⋯ ⋯ | tackles &lt;int&gt; | total_duels &lt;int&gt; | won_duels &lt;int&gt; | total_dribbles &lt;int&gt; | won_dribbles &lt;int&gt; | fouls_drawn &lt;int&gt; | fouls_comitted &lt;int&gt; | yellow &lt;int&gt; | red &lt;int&gt; | yellowred &lt;int&gt; |\n",
       "|---|---|---|---|---|---|---|---|---|---|---|---|---|---|---|---|---|---|---|---|---|---|\n",
       "| 1 | 1 |  27736 | Ricardo Gabriel Canales Lanza     | 1982-05-30 | 181 cm | 78 kg | 2010 | NA |  312 | 0 | ⋯ | 0 | 0 | 0 | 0 | 0 | 0 | 0 | 0 | 0 | 0 |\n",
       "| 2 | 2 |  35806 | Francisco Javier Rodríguez Pinedo | 1981-10-20 | 191 cm | 80 kg | 2010 | NA | 3136 | 0 | ⋯ | 0 | 0 | 0 | 0 | 0 | 0 | 0 | 9 | 1 | 1 |\n",
       "| 3 | 3 | 100768 | Dominic Adiyiah                   | 1989-11-29 | 172 cm | 70 kg | 2010 | NA | 1079 | 0 | ⋯ | 0 | 0 | 0 | 0 | 0 | 0 | 0 | 3 | 0 | 0 |\n",
       "| 4 | 4 | 104275 | Nam-Chol Pak                      | 1988-10-03 | 183 cm | 78 kg | 2010 | NA |  472 | 0 | ⋯ | 0 | 0 | 0 | 0 | 0 | 0 | 0 | 0 | 0 | 0 |\n",
       "| 5 | 5 | 104297 | Jun-Il Ri                         | 1987-08-24 | 178 cm | 66 kg | 2010 | NA | 2483 | 0 | ⋯ | 0 | 0 | 0 | 0 | 0 | 0 | 0 | 0 | 0 | 0 |\n",
       "| 6 | 6 | 104375 | Chol-Hyok An                      | 1987-06-27 | 178 cm | 72 kg | 2010 | NA |  504 | 0 | ⋯ | 0 | 0 | 0 | 0 | 0 | 0 | 0 | 2 | 0 | 0 |\n",
       "\n"
      ],
      "text/plain": [
       "  X id     name                              birthdate  height weight season\n",
       "1 1  27736 Ricardo Gabriel Canales Lanza     1982-05-30 181 cm 78 kg  2010  \n",
       "2 2  35806 Francisco Javier Rodríguez Pinedo 1981-10-20 191 cm 80 kg  2010  \n",
       "3 3 100768 Dominic Adiyiah                   1989-11-29 172 cm 70 kg  2010  \n",
       "4 4 104275 Nam-Chol Pak                      1988-10-03 183 cm 78 kg  2010  \n",
       "5 5 104297 Jun-Il Ri                         1987-08-24 178 cm 66 kg  2010  \n",
       "6 6 104375 Chol-Hyok An                      1987-06-27 178 cm 72 kg  2010  \n",
       "  rating minutes total_shots ⋯ tackles total_duels won_duels total_dribbles\n",
       "1 NA      312    0           ⋯ 0       0           0         0             \n",
       "2 NA     3136    0           ⋯ 0       0           0         0             \n",
       "3 NA     1079    0           ⋯ 0       0           0         0             \n",
       "4 NA      472    0           ⋯ 0       0           0         0             \n",
       "5 NA     2483    0           ⋯ 0       0           0         0             \n",
       "6 NA      504    0           ⋯ 0       0           0         0             \n",
       "  won_dribbles fouls_drawn fouls_comitted yellow red yellowred\n",
       "1 0            0           0              0      0   0        \n",
       "2 0            0           0              9      1   1        \n",
       "3 0            0           0              3      0   0        \n",
       "4 0            0           0              0      0   0        \n",
       "5 0            0           0              0      0   0        \n",
       "6 0            0           0              2      0   0        "
      ]
     },
     "metadata": {},
     "output_type": "display_data"
    },
    {
     "data": {
      "text/html": [
       "<table class=\"dataframe\">\n",
       "<caption>A data.frame: 6 × 24</caption>\n",
       "<thead>\n",
       "\t<tr><th></th><th scope=col>X</th><th scope=col>id</th><th scope=col>name</th><th scope=col>logo</th><th scope=col>output.form</th><th scope=col>output.league.season</th><th scope=col>played.home</th><th scope=col>played.away</th><th scope=col>played.total</th><th scope=col>wins.home</th><th scope=col>⋯</th><th scope=col>draws.total</th><th scope=col>loses.home</th><th scope=col>loses.away</th><th scope=col>loses.total</th><th scope=col>home</th><th scope=col>away</th><th scope=col>total</th><th scope=col>home.1</th><th scope=col>away.1</th><th scope=col>total.1</th></tr>\n",
       "\t<tr><th></th><th scope=col>&lt;int&gt;</th><th scope=col>&lt;int&gt;</th><th scope=col>&lt;chr&gt;</th><th scope=col>&lt;chr&gt;</th><th scope=col>&lt;chr&gt;</th><th scope=col>&lt;int&gt;</th><th scope=col>&lt;int&gt;</th><th scope=col>&lt;int&gt;</th><th scope=col>&lt;int&gt;</th><th scope=col>&lt;int&gt;</th><th scope=col>⋯</th><th scope=col>&lt;int&gt;</th><th scope=col>&lt;int&gt;</th><th scope=col>&lt;int&gt;</th><th scope=col>&lt;int&gt;</th><th scope=col>&lt;int&gt;</th><th scope=col>&lt;int&gt;</th><th scope=col>&lt;int&gt;</th><th scope=col>&lt;int&gt;</th><th scope=col>&lt;int&gt;</th><th scope=col>&lt;int&gt;</th></tr>\n",
       "</thead>\n",
       "<tbody>\n",
       "\t<tr><th scope=row>1</th><td>1</td><td>  25</td><td>Germany    </td><td>https://media.api-sports.io/football/teams/25.png  </td><td>WLWWWLW</td><td>2010</td><td>4</td><td>3</td><td>7</td><td>2</td><td>⋯</td><td>0</td><td>2</td><td>0</td><td>2</td><td>8</td><td>8</td><td>16</td><td>3</td><td>2</td><td>5</td></tr>\n",
       "\t<tr><th scope=row>2</th><td>2</td><td>  15</td><td>Switzerland</td><td>https://media.api-sports.io/football/teams/15.png  </td><td>WLD    </td><td>2010</td><td>1</td><td>2</td><td>3</td><td>0</td><td>⋯</td><td>1</td><td>0</td><td>1</td><td>1</td><td>0</td><td>1</td><td> 1</td><td>0</td><td>1</td><td>1</td></tr>\n",
       "\t<tr><th scope=row>3</th><td>3</td><td>   9</td><td>Spain      </td><td>https://media.api-sports.io/football/teams/9.png   </td><td>LWWWWWW</td><td>2010</td><td>3</td><td>4</td><td>7</td><td>2</td><td>⋯</td><td>0</td><td>1</td><td>0</td><td>1</td><td>3</td><td>5</td><td> 8</td><td>1</td><td>1</td><td>2</td></tr>\n",
       "\t<tr><th scope=row>4</th><td>4</td><td> 768</td><td>Italy      </td><td>https://media.api-sports.io/football/teams/768.png </td><td>DDL    </td><td>2010</td><td>2</td><td>1</td><td>3</td><td>0</td><td>⋯</td><td>2</td><td>0</td><td>1</td><td>1</td><td>2</td><td>2</td><td> 4</td><td>2</td><td>3</td><td>5</td></tr>\n",
       "\t<tr><th scope=row>5</th><td>5</td><td>1091</td><td>Slovenia   </td><td>https://media.api-sports.io/football/teams/1091.png</td><td>WDL    </td><td>2010</td><td>2</td><td>1</td><td>3</td><td>0</td><td>⋯</td><td>1</td><td>1</td><td>0</td><td>1</td><td>2</td><td>1</td><td> 3</td><td>3</td><td>0</td><td>3</td></tr>\n",
       "\t<tr><th scope=row>6</th><td>6</td><td>  21</td><td>Denmark    </td><td>https://media.api-sports.io/football/teams/21.png  </td><td>LWL    </td><td>2010</td><td>1</td><td>2</td><td>3</td><td>0</td><td>⋯</td><td>0</td><td>1</td><td>1</td><td>2</td><td>1</td><td>2</td><td> 3</td><td>3</td><td>3</td><td>6</td></tr>\n",
       "</tbody>\n",
       "</table>\n"
      ],
      "text/latex": [
       "A data.frame: 6 × 24\n",
       "\\begin{tabular}{r|lllllllllllllllllllll}\n",
       "  & X & id & name & logo & output.form & output.league.season & played.home & played.away & played.total & wins.home & ⋯ & draws.total & loses.home & loses.away & loses.total & home & away & total & home.1 & away.1 & total.1\\\\\n",
       "  & <int> & <int> & <chr> & <chr> & <chr> & <int> & <int> & <int> & <int> & <int> & ⋯ & <int> & <int> & <int> & <int> & <int> & <int> & <int> & <int> & <int> & <int>\\\\\n",
       "\\hline\n",
       "\t1 & 1 &   25 & Germany     & https://media.api-sports.io/football/teams/25.png   & WLWWWLW & 2010 & 4 & 3 & 7 & 2 & ⋯ & 0 & 2 & 0 & 2 & 8 & 8 & 16 & 3 & 2 & 5\\\\\n",
       "\t2 & 2 &   15 & Switzerland & https://media.api-sports.io/football/teams/15.png   & WLD     & 2010 & 1 & 2 & 3 & 0 & ⋯ & 1 & 0 & 1 & 1 & 0 & 1 &  1 & 0 & 1 & 1\\\\\n",
       "\t3 & 3 &    9 & Spain       & https://media.api-sports.io/football/teams/9.png    & LWWWWWW & 2010 & 3 & 4 & 7 & 2 & ⋯ & 0 & 1 & 0 & 1 & 3 & 5 &  8 & 1 & 1 & 2\\\\\n",
       "\t4 & 4 &  768 & Italy       & https://media.api-sports.io/football/teams/768.png  & DDL     & 2010 & 2 & 1 & 3 & 0 & ⋯ & 2 & 0 & 1 & 1 & 2 & 2 &  4 & 2 & 3 & 5\\\\\n",
       "\t5 & 5 & 1091 & Slovenia    & https://media.api-sports.io/football/teams/1091.png & WDL     & 2010 & 2 & 1 & 3 & 0 & ⋯ & 1 & 1 & 0 & 1 & 2 & 1 &  3 & 3 & 0 & 3\\\\\n",
       "\t6 & 6 &   21 & Denmark     & https://media.api-sports.io/football/teams/21.png   & LWL     & 2010 & 1 & 2 & 3 & 0 & ⋯ & 0 & 1 & 1 & 2 & 1 & 2 &  3 & 3 & 3 & 6\\\\\n",
       "\\end{tabular}\n"
      ],
      "text/markdown": [
       "\n",
       "A data.frame: 6 × 24\n",
       "\n",
       "| <!--/--> | X &lt;int&gt; | id &lt;int&gt; | name &lt;chr&gt; | logo &lt;chr&gt; | output.form &lt;chr&gt; | output.league.season &lt;int&gt; | played.home &lt;int&gt; | played.away &lt;int&gt; | played.total &lt;int&gt; | wins.home &lt;int&gt; | ⋯ ⋯ | draws.total &lt;int&gt; | loses.home &lt;int&gt; | loses.away &lt;int&gt; | loses.total &lt;int&gt; | home &lt;int&gt; | away &lt;int&gt; | total &lt;int&gt; | home.1 &lt;int&gt; | away.1 &lt;int&gt; | total.1 &lt;int&gt; |\n",
       "|---|---|---|---|---|---|---|---|---|---|---|---|---|---|---|---|---|---|---|---|---|---|\n",
       "| 1 | 1 |   25 | Germany     | https://media.api-sports.io/football/teams/25.png   | WLWWWLW | 2010 | 4 | 3 | 7 | 2 | ⋯ | 0 | 2 | 0 | 2 | 8 | 8 | 16 | 3 | 2 | 5 |\n",
       "| 2 | 2 |   15 | Switzerland | https://media.api-sports.io/football/teams/15.png   | WLD     | 2010 | 1 | 2 | 3 | 0 | ⋯ | 1 | 0 | 1 | 1 | 0 | 1 |  1 | 0 | 1 | 1 |\n",
       "| 3 | 3 |    9 | Spain       | https://media.api-sports.io/football/teams/9.png    | LWWWWWW | 2010 | 3 | 4 | 7 | 2 | ⋯ | 0 | 1 | 0 | 1 | 3 | 5 |  8 | 1 | 1 | 2 |\n",
       "| 4 | 4 |  768 | Italy       | https://media.api-sports.io/football/teams/768.png  | DDL     | 2010 | 2 | 1 | 3 | 0 | ⋯ | 2 | 0 | 1 | 1 | 2 | 2 |  4 | 2 | 3 | 5 |\n",
       "| 5 | 5 | 1091 | Slovenia    | https://media.api-sports.io/football/teams/1091.png | WDL     | 2010 | 2 | 1 | 3 | 0 | ⋯ | 1 | 1 | 0 | 1 | 2 | 1 |  3 | 3 | 0 | 3 |\n",
       "| 6 | 6 |   21 | Denmark     | https://media.api-sports.io/football/teams/21.png   | LWL     | 2010 | 1 | 2 | 3 | 0 | ⋯ | 0 | 1 | 1 | 2 | 1 | 2 |  3 | 3 | 3 | 6 |\n",
       "\n"
      ],
      "text/plain": [
       "  X id   name        logo                                               \n",
       "1 1   25 Germany     https://media.api-sports.io/football/teams/25.png  \n",
       "2 2   15 Switzerland https://media.api-sports.io/football/teams/15.png  \n",
       "3 3    9 Spain       https://media.api-sports.io/football/teams/9.png   \n",
       "4 4  768 Italy       https://media.api-sports.io/football/teams/768.png \n",
       "5 5 1091 Slovenia    https://media.api-sports.io/football/teams/1091.png\n",
       "6 6   21 Denmark     https://media.api-sports.io/football/teams/21.png  \n",
       "  output.form output.league.season played.home played.away played.total\n",
       "1 WLWWWLW     2010                 4           3           7           \n",
       "2 WLD         2010                 1           2           3           \n",
       "3 LWWWWWW     2010                 3           4           7           \n",
       "4 DDL         2010                 2           1           3           \n",
       "5 WDL         2010                 2           1           3           \n",
       "6 LWL         2010                 1           2           3           \n",
       "  wins.home ⋯ draws.total loses.home loses.away loses.total home away total\n",
       "1 2         ⋯ 0           2          0          2           8    8    16   \n",
       "2 0         ⋯ 1           0          1          1           0    1     1   \n",
       "3 2         ⋯ 0           1          0          1           3    5     8   \n",
       "4 0         ⋯ 2           0          1          1           2    2     4   \n",
       "5 0         ⋯ 1           1          0          1           2    1     3   \n",
       "6 0         ⋯ 0           1          1          2           1    2     3   \n",
       "  home.1 away.1 total.1\n",
       "1 3      2      5      \n",
       "2 0      1      1      \n",
       "3 1      1      2      \n",
       "4 2      3      5      \n",
       "5 3      0      3      \n",
       "6 3      3      6      "
      ]
     },
     "metadata": {},
     "output_type": "display_data"
    },
    {
     "data": {
      "text/html": [
       "<table class=\"dataframe\">\n",
       "<caption>A data.frame: 6 × 8</caption>\n",
       "<thead>\n",
       "\t<tr><th></th><th scope=col>rank</th><th scope=col>country_full</th><th scope=col>country_abrv</th><th scope=col>total_points</th><th scope=col>previous_points</th><th scope=col>rank_change</th><th scope=col>confederation</th><th scope=col>rank_date</th></tr>\n",
       "\t<tr><th></th><th scope=col>&lt;dbl&gt;</th><th scope=col>&lt;chr&gt;</th><th scope=col>&lt;chr&gt;</th><th scope=col>&lt;dbl&gt;</th><th scope=col>&lt;dbl&gt;</th><th scope=col>&lt;int&gt;</th><th scope=col>&lt;chr&gt;</th><th scope=col>&lt;chr&gt;</th></tr>\n",
       "</thead>\n",
       "<tbody>\n",
       "\t<tr><th scope=row>1</th><td>83</td><td>Guatemala</td><td>GUA</td><td>15</td><td>0</td><td>83</td><td>CONCACAF</td><td>1992-12-31</td></tr>\n",
       "\t<tr><th scope=row>2</th><td>32</td><td>Zambia   </td><td>ZAM</td><td>38</td><td>0</td><td>32</td><td>CAF     </td><td>1992-12-31</td></tr>\n",
       "\t<tr><th scope=row>3</th><td>33</td><td>Portugal </td><td>POR</td><td>38</td><td>0</td><td>33</td><td>UEFA    </td><td>1992-12-31</td></tr>\n",
       "\t<tr><th scope=row>4</th><td>34</td><td>Austria  </td><td>AUT</td><td>38</td><td>0</td><td>34</td><td>UEFA    </td><td>1992-12-31</td></tr>\n",
       "\t<tr><th scope=row>5</th><td>35</td><td>Colombia </td><td>COL</td><td>36</td><td>0</td><td>35</td><td>CONMEBOL</td><td>1992-12-31</td></tr>\n",
       "\t<tr><th scope=row>6</th><td>36</td><td>Hungary  </td><td>HUN</td><td>36</td><td>0</td><td>36</td><td>UEFA    </td><td>1992-12-31</td></tr>\n",
       "</tbody>\n",
       "</table>\n"
      ],
      "text/latex": [
       "A data.frame: 6 × 8\n",
       "\\begin{tabular}{r|llllllll}\n",
       "  & rank & country\\_full & country\\_abrv & total\\_points & previous\\_points & rank\\_change & confederation & rank\\_date\\\\\n",
       "  & <dbl> & <chr> & <chr> & <dbl> & <dbl> & <int> & <chr> & <chr>\\\\\n",
       "\\hline\n",
       "\t1 & 83 & Guatemala & GUA & 15 & 0 & 83 & CONCACAF & 1992-12-31\\\\\n",
       "\t2 & 32 & Zambia    & ZAM & 38 & 0 & 32 & CAF      & 1992-12-31\\\\\n",
       "\t3 & 33 & Portugal  & POR & 38 & 0 & 33 & UEFA     & 1992-12-31\\\\\n",
       "\t4 & 34 & Austria   & AUT & 38 & 0 & 34 & UEFA     & 1992-12-31\\\\\n",
       "\t5 & 35 & Colombia  & COL & 36 & 0 & 35 & CONMEBOL & 1992-12-31\\\\\n",
       "\t6 & 36 & Hungary   & HUN & 36 & 0 & 36 & UEFA     & 1992-12-31\\\\\n",
       "\\end{tabular}\n"
      ],
      "text/markdown": [
       "\n",
       "A data.frame: 6 × 8\n",
       "\n",
       "| <!--/--> | rank &lt;dbl&gt; | country_full &lt;chr&gt; | country_abrv &lt;chr&gt; | total_points &lt;dbl&gt; | previous_points &lt;dbl&gt; | rank_change &lt;int&gt; | confederation &lt;chr&gt; | rank_date &lt;chr&gt; |\n",
       "|---|---|---|---|---|---|---|---|---|\n",
       "| 1 | 83 | Guatemala | GUA | 15 | 0 | 83 | CONCACAF | 1992-12-31 |\n",
       "| 2 | 32 | Zambia    | ZAM | 38 | 0 | 32 | CAF      | 1992-12-31 |\n",
       "| 3 | 33 | Portugal  | POR | 38 | 0 | 33 | UEFA     | 1992-12-31 |\n",
       "| 4 | 34 | Austria   | AUT | 38 | 0 | 34 | UEFA     | 1992-12-31 |\n",
       "| 5 | 35 | Colombia  | COL | 36 | 0 | 35 | CONMEBOL | 1992-12-31 |\n",
       "| 6 | 36 | Hungary   | HUN | 36 | 0 | 36 | UEFA     | 1992-12-31 |\n",
       "\n"
      ],
      "text/plain": [
       "  rank country_full country_abrv total_points previous_points rank_change\n",
       "1 83   Guatemala    GUA          15           0               83         \n",
       "2 32   Zambia       ZAM          38           0               32         \n",
       "3 33   Portugal     POR          38           0               33         \n",
       "4 34   Austria      AUT          38           0               34         \n",
       "5 35   Colombia     COL          36           0               35         \n",
       "6 36   Hungary      HUN          36           0               36         \n",
       "  confederation rank_date \n",
       "1 CONCACAF      1992-12-31\n",
       "2 CAF           1992-12-31\n",
       "3 UEFA          1992-12-31\n",
       "4 UEFA          1992-12-31\n",
       "5 CONMEBOL      1992-12-31\n",
       "6 UEFA          1992-12-31"
      ]
     },
     "metadata": {},
     "output_type": "display_data"
    }
   ],
   "source": [
    "leagues = read.csv(\"https://raw.githubusercontent.com/lucasweyrich958/EURO2024_Simulation/main/Leagues.csv\")\n",
    "nations = read.csv(\"https://raw.githubusercontent.com/lucasweyrich958/EURO2024_Simulation/main/Nations.csv\")\n",
    "team_data_scrape = read.csv(\"https://raw.githubusercontent.com/lucasweyrich958/EURO2024_Simulation/main/Team_scrape.csv\") \n",
    "player_data_scrape = read.csv('https://raw.githubusercontent.com/lucasweyrich958/EURO2024_Simulation/main/player_stats_data.csv')\n",
    "player_id_scrape = read.csv('https://raw.githubusercontent.com/lucasweyrich958/EURO2024_Simulation/main/player_id_data.csv')\n",
    "results=read.csv ('/kaggle/input/international-football-results-from-1872-to-2017/results.csv')\n",
    "goals=read.csv ('/kaggle/input/international-football-results-from-1872-to-2017/goalscorers.csv')\n",
    "shootouts=read.csv ('/kaggle/input/international-football-results-from-1872-to-2017/shootouts.csv')\n",
    "fifa_rank=read.csv ('/kaggle/input/fifaworldranking/fifa_ranking-2024-04-04.csv')\n",
    "head(leagues)\n",
    "head (nations)\n",
    "head (player_data_scrape)\n",
    "head (team_data_scrape)\n",
    "head (fifa_rank)\n"
   ]
  },
  {
   "cell_type": "code",
   "execution_count": 3,
   "id": "07ca9bee",
   "metadata": {
    "execution": {
     "iopub.execute_input": "2024-06-06T09:18:12.112945Z",
     "iopub.status.busy": "2024-06-06T09:18:12.111213Z",
     "iopub.status.idle": "2024-06-06T09:18:12.493084Z",
     "shell.execute_reply": "2024-06-06T09:18:12.491126Z"
    },
    "papermill": {
     "duration": 0.395481,
     "end_time": "2024-06-06T09:18:12.496578",
     "exception": false,
     "start_time": "2024-06-06T09:18:12.101097",
     "status": "completed"
    },
    "tags": []
   },
   "outputs": [],
   "source": [
    "fifa_rank$rank_date=as.Date(fifa_rank$rank_date, format = \"%Y-%m-%d\")\n",
    "fifa_rank=fifa_rank[order(fifa_rank$country_full, fifa_rank$rank_date),]\n",
    "fifa_rank=fifa_rank %>%\n",
    "  group_by(country_full) %>%\n",
    "  mutate(lag_rank_date = lag(rank_date, n=1, order_by=country_full))"
   ]
  },
  {
   "cell_type": "code",
   "execution_count": 4,
   "id": "f90a8ef4",
   "metadata": {
    "execution": {
     "iopub.execute_input": "2024-06-06T09:18:12.516857Z",
     "iopub.status.busy": "2024-06-06T09:18:12.515158Z",
     "iopub.status.idle": "2024-06-06T09:18:12.543554Z",
     "shell.execute_reply": "2024-06-06T09:18:12.541571Z"
    },
    "papermill": {
     "duration": 0.042586,
     "end_time": "2024-06-06T09:18:12.547001",
     "exception": false,
     "start_time": "2024-06-06T09:18:12.504415",
     "status": "completed"
    },
    "tags": []
   },
   "outputs": [],
   "source": [
    "Rank_Netherlands=subset (fifa_rank, country_full==\"Netherlands\", select=c(rank,  lag_rank_date, rank_date))\n",
    "Rank_overig=subset (fifa_rank, country_full!=\"Netherlands\", select=c(country_full, rank,  lag_rank_date, rank_date))\n"
   ]
  },
  {
   "cell_type": "markdown",
   "id": "22209b69",
   "metadata": {
    "papermill": {
     "duration": 0.007898,
     "end_time": "2024-06-06T09:18:12.562791",
     "exception": false,
     "start_time": "2024-06-06T09:18:12.554893",
     "status": "completed"
    },
    "tags": []
   },
   "source": [
    "Dataset maken"
   ]
  },
  {
   "cell_type": "code",
   "execution_count": 5,
   "id": "aad9c669",
   "metadata": {
    "execution": {
     "iopub.execute_input": "2024-06-06T09:18:12.582610Z",
     "iopub.status.busy": "2024-06-06T09:18:12.580958Z",
     "iopub.status.idle": "2024-06-06T09:18:13.056553Z",
     "shell.execute_reply": "2024-06-06T09:18:13.054687Z"
    },
    "papermill": {
     "duration": 0.489174,
     "end_time": "2024-06-06T09:18:13.059872",
     "exception": false,
     "start_time": "2024-06-06T09:18:12.570698",
     "status": "completed"
    },
    "tags": []
   },
   "outputs": [
    {
     "name": "stderr",
     "output_type": "stream",
     "text": [
      "------------------------------------------------------------------------------\n",
      "\n",
      "You have loaded plyr after dplyr - this is likely to cause problems.\n",
      "If you need functions from both plyr and dplyr, please load plyr first, then dplyr:\n",
      "library(plyr); library(dplyr)\n",
      "\n",
      "------------------------------------------------------------------------------\n",
      "\n",
      "\n",
      "Attaching package: ‘plyr’\n",
      "\n",
      "\n",
      "The following objects are masked from ‘package:dplyr’:\n",
      "\n",
      "    arrange, count, desc, failwith, id, mutate, rename, summarise,\n",
      "    summarize\n",
      "\n",
      "\n",
      "The following object is masked from ‘package:purrr’:\n",
      "\n",
      "    compact\n",
      "\n",
      "\n",
      "\n",
      "Attaching package: ‘zoo’\n",
      "\n",
      "\n",
      "The following objects are masked from ‘package:base’:\n",
      "\n",
      "    as.Date, as.Date.numeric\n",
      "\n",
      "\n"
     ]
    }
   ],
   "source": [
    "Netherlands=subset (results, (home_team==\"Netherlands\" | away_team==\"Netherlands\") & home_score >=0)\n",
    "\n",
    "Netherlands$date= as.Date(Netherlands$date, format = \"%Y-%m-%d\")\n",
    "Netherlands$goals_voor= with(Netherlands, ifelse (home_team==\"Netherlands\", Netherlands$home_score,\n",
    "                            ifelse (away_team==\"Netherlands\", Netherlands$away_score, 0)))\n",
    "Netherlands$goals_tegen= with(Netherlands, ifelse (home_team==\"Netherlands\", Netherlands$away_score,\n",
    "                            ifelse (away_team==\"Netherlands\", Netherlands$home_score, 0))) \n",
    "Netherlands$winst= with(Netherlands, ifelse (goals_voor>goals_tegen, 'W',\n",
    "                            ifelse (goals_voor<goals_tegen, 'L', 'D'))) \n",
    "Netherlands$winst_num= with(Netherlands, ifelse (goals_voor>goals_tegen, 3,\n",
    "                            ifelse (goals_voor<goals_tegen, 0, 1))) \n",
    "Netherlands$locatie= with(Netherlands, ifelse (country=='Netherlands', 'Thuis',\n",
    "                            ifelse (country!=\"Netherlands\" & neutral==\"FALSE\", 'Uit', 'Neutraal')))\n",
    "Netherlands$tegenstander= with(Netherlands, ifelse (home_team==\"Netherlands\", Netherlands$away_team,\n",
    "                            ifelse (away_team==\"Netherlands\", Netherlands$home_team, 0)))\n",
    "\n",
    "library(plyr)\n",
    "library(zoo)\n",
    "Netherlands$goal_voor10mean <- sapply(c(\"right\"),\n",
    "                function(x)zoo::rollmean(Netherlands$goals_voor,10,align = x, na.pad = TRUE))\n",
    "Netherlands$goal_voor5mean <- sapply(c(\"right\"),\n",
    "                function(x)zoo::rollmean(Netherlands$goals_voor,5,align = x, na.pad = TRUE))\n",
    "Netherlands$goal_tegen10mean <- sapply(c(\"right\"),\n",
    "                function(x)zoo::rollmean(Netherlands$goals_tegen,10,align = x, na.pad = TRUE))\n",
    "Netherlands$goal_tegen5mean <- sapply(c(\"right\"),\n",
    "                function(x)zoo::rollmean(Netherlands$goals_tegen,5,align = x, na.pad = TRUE))\n",
    "Netherlands$punten10mean <- sapply(c(\"right\"),\n",
    "                function(x)zoo::rollmean(Netherlands$winst_num,10,align = x, na.pad = TRUE))\n",
    "Netherlands$punten5mean <- sapply(c(\"right\"),\n",
    "                function(x)zoo::rollmean(Netherlands$winst_num,5,align = x, na.pad = TRUE))\n",
    "Netherlands=ddply(\n",
    "  Netherlands, \"tegenstander\",\n",
    "  transform,\n",
    "  score5meanvoor_per_tegenstander = rollmean(goals_voor, 5, align=\"right\", na.pad=TRUE ),\n",
    "  score5meantegen_per_tegenstander = rollmean(goals_tegen, 5, align=\"right\", na.pad=TRUE ),\n",
    "winst5mean_per_tegenstander = rollmean(winst_num, 5, align=\"right\", na.pad=TRUE ))\n",
    "Netherlands=ddply(\n",
    "  Netherlands,  \"tournament\",\n",
    "  transform,\n",
    "  score5meanvoor_per_tournament = rollmean(goals_voor, 5, align=\"right\", na.pad=TRUE ),\n",
    "  score5meantegen_per_tournament = rollmean(goals_tegen, 5, align=\"right\", na.pad=TRUE ),\n",
    "winst5mean_per_tournament = rollmean(winst_num, 5, align=\"right\", na.pad=TRUE ))\n",
    "                                   "
   ]
  },
  {
   "cell_type": "markdown",
   "id": "2fa9a8d5",
   "metadata": {
    "papermill": {
     "duration": 0.00859,
     "end_time": "2024-06-06T09:18:13.077028",
     "exception": false,
     "start_time": "2024-06-06T09:18:13.068438",
     "status": "completed"
    },
    "tags": []
   },
   "source": [
    "Koppelen met fifa gegevens"
   ]
  },
  {
   "cell_type": "code",
   "execution_count": 6,
   "id": "b4e1cf49",
   "metadata": {
    "execution": {
     "iopub.execute_input": "2024-06-06T09:18:13.098024Z",
     "iopub.status.busy": "2024-06-06T09:18:13.096317Z",
     "iopub.status.idle": "2024-06-06T09:18:13.152524Z",
     "shell.execute_reply": "2024-06-06T09:18:13.150653Z"
    },
    "papermill": {
     "duration": 0.079914,
     "end_time": "2024-06-06T09:18:13.165507",
     "exception": false,
     "start_time": "2024-06-06T09:18:13.085593",
     "status": "completed"
    },
    "tags": []
   },
   "outputs": [],
   "source": [
    "library (dplyr)\n",
    "stap_1=Netherlands %>%left_join(Rank_Netherlands, join_by(date >= lag_rank_date , date<rank_date ))\n",
    "stap_1=subset(stap_1, select =-c(lag_rank_date,rank_date))\n",
    "stap_2=stap_1 %>%left_join(Rank_overig, join_by(tegenstander==country_full,date >= lag_rank_date , date<rank_date ))\n",
    "stap_2=subset(stap_2, select =-c(lag_rank_date,rank_date))\n",
    "names(stap_2)[names(stap_2) == \"rank.x\"] <- \"Rang_NL_FIFA\"\n",
    "names(stap_2)[names(stap_2) == \"rank.y\"] <- \"Rang_Teg_FIFA\"\n",
    "stap_2$FIFA_Rang_verschil=stap_2$Rang_Teg_FIFA-stap_2$Rang_NL_FIFA #+ is slechter - is beter\n"
   ]
  },
  {
   "cell_type": "code",
   "execution_count": 7,
   "id": "3d167e90",
   "metadata": {
    "execution": {
     "iopub.execute_input": "2024-06-06T09:18:13.187449Z",
     "iopub.status.busy": "2024-06-06T09:18:13.185708Z",
     "iopub.status.idle": "2024-06-06T09:18:13.239264Z",
     "shell.execute_reply": "2024-06-06T09:18:13.236686Z"
    },
    "papermill": {
     "duration": 0.067993,
     "end_time": "2024-06-06T09:18:13.242332",
     "exception": false,
     "start_time": "2024-06-06T09:18:13.174339",
     "status": "completed"
    },
    "tags": []
   },
   "outputs": [
    {
     "name": "stdout",
     "output_type": "stream",
     "text": [
      "'data.frame':\t843 obs. of  30 variables:\n",
      " $ date                            : Date, format: \"2011-06-08\" \"1979-05-22\" ...\n",
      " $ home_team                       : chr  \"Uruguay\" \"Argentina\" \"Netherlands\" \"Argentina\" ...\n",
      " $ away_team                       : chr  \"Netherlands\" \"Netherlands\" \"Argentina\" \"Netherlands\" ...\n",
      " $ home_score                      : int  1 0 4 3 2 0 0 2 2 1 ...\n",
      " $ away_score                      : int  1 0 0 1 1 0 0 2 3 5 ...\n",
      " $ tournament                      : chr  \"Copa Confraternidad\" \"FIFA 75th Anniversary Cup\" \"FIFA World Cup\" \"FIFA World Cup\" ...\n",
      " $ city                            : chr  \"Montevideo\" \"Berne\" \"Gelsenkirchen\" \"Buenos Aires\" ...\n",
      " $ country                         : chr  \"Uruguay\" \"Switzerland\" \"Germany\" \"Argentina\" ...\n",
      " $ neutral                         : logi  FALSE TRUE TRUE FALSE TRUE TRUE ...\n",
      " $ goals_voor                      : num  1 0 4 1 2 0 0 2 3 5 ...\n",
      " $ goals_tegen                     : num  1 0 0 3 1 0 0 2 2 1 ...\n",
      " $ winst                           : chr  \"D\" \"D\" \"W\" \"L\" ...\n",
      " $ winst_num                       : num  1 1 3 0 3 1 1 1 3 3 ...\n",
      " $ locatie                         : chr  \"Uit\" \"Neutraal\" \"Neutraal\" \"Uit\" ...\n",
      " $ tegenstander                    : chr  \"Uruguay\" \"Argentina\" \"Argentina\" \"Argentina\" ...\n",
      " $ goal_voor10mean                 : num  2.6 1.6 1.8 2.2 2.6 1.1 1.6 2 2.4 1.9 ...\n",
      " $ goal_voor5mean                  : num  2.6 0.8 2 2.4 2.2 1.2 1.4 2 2.4 2.2 ...\n",
      " $ goal_tegen10mean                : num  0.7 1.3 0.5 1.1 0.8 0.6 0.7 0.9 0.9 0.5 ...\n",
      " $ goal_tegen5mean                 : num  1 1.6 0.2 2 0.8 0.6 0.6 0.8 0.8 0.8 ...\n",
      " $ punten10mean                    : num  2.6 1.6 2 2 2.4 2.1 2.1 2.4 2.1 2.3 ...\n",
      " $ punten5mean                     : num  2.2 0.8 2.2 1.4 2.2 2.2 2.2 2.2 2.6 2 ...\n",
      " $ score5meanvoor_per_tegenstander : num  1.2 NA NA NA 2.2 0.8 0.8 0.8 NA 1.6 ...\n",
      " $ score5meantegen_per_tegenstander: num  1.4 NA NA NA 1 0.4 0.4 0.6 NA 1 ...\n",
      " $ winst5mean_per_tegenstander     : num  1.4 NA NA NA 2 1.8 1.8 1.4 NA 1.4 ...\n",
      " $ score5meanvoor_per_tournament   : num  NA NA NA NA NA NA 1.4 1 1.4 2 ...\n",
      " $ score5meantegen_per_tournament  : num  NA NA NA NA NA NA 0.8 1.2 1 1 ...\n",
      " $ winst5mean_per_tournament       : num  NA NA NA NA NA NA 1.6 1.2 1.8 1.8 ...\n",
      " $ Rang_NL_FIFA                    : num  2 NA NA NA 8 6 3 6 3 NA ...\n",
      " $ Rang_Teg_FIFA                   : num  18 NA NA NA 5 3 2 2 76 NA ...\n",
      " $ FIFA_Rang_verschil              : num  16 NA NA NA -3 -3 -1 -4 73 NA ...\n"
     ]
    }
   ],
   "source": [
    "str (stap_2)"
   ]
  },
  {
   "cell_type": "markdown",
   "id": "a3847a19",
   "metadata": {
    "papermill": {
     "duration": 0.009147,
     "end_time": "2024-06-06T09:18:13.260514",
     "exception": false,
     "start_time": "2024-06-06T09:18:13.251367",
     "status": "completed"
    },
    "tags": []
   },
   "source": [
    "Laggen van variabelen anders voorspel je het zelf"
   ]
  },
  {
   "cell_type": "code",
   "execution_count": 8,
   "id": "fcacfc31",
   "metadata": {
    "execution": {
     "iopub.execute_input": "2024-06-06T09:18:13.283163Z",
     "iopub.status.busy": "2024-06-06T09:18:13.281247Z",
     "iopub.status.idle": "2024-06-06T09:18:13.324882Z",
     "shell.execute_reply": "2024-06-06T09:18:13.322772Z"
    },
    "papermill": {
     "duration": 0.058577,
     "end_time": "2024-06-06T09:18:13.328459",
     "exception": false,
     "start_time": "2024-06-06T09:18:13.269882",
     "status": "completed"
    },
    "tags": []
   },
   "outputs": [],
   "source": [
    "stap_2=stap_2[order(stap_2$date, decreasing = FALSE), ]\n",
    "# Toevoegen lag variabelen\n",
    "stap_2$lag_goal_voor10mean=lag (stap_2$goal_voor10mean )\n",
    "stap_2$lag_goal_voor5mean=lag (stap_2$goal_voor5mean )\n",
    "stap_2$lag_goal_tegen10mean=lag (stap_2$goal_tegen10mean )\n",
    "stap_2$lag_goal_tegen5mean=lag (stap_2$goal_tegen5mean )\n",
    "stap_2$lag_punten10mean=lag (stap_2$punten10mean )\n",
    "stap_2$lag_punten5mean=lag (stap_2$punten5mean )\n",
    "stap_2$lag_score5meanvoor_per_tegenstander=lag (stap_2$score5meanvoor_per_tegenstander )\n",
    "stap_2$lag_score5meantegen_per_tegenstander=lag (stap_2$score5meantegen_per_tegenstander )\n",
    "stap_2$lag_score5meanvoor_per_tournament =lag (stap_2$score5meanvoor_per_tournament )\n",
    "stap_2$lag_winst5mean_per_tournament =lag (stap_2$winst5mean_per_tournament)\n",
    "\n"
   ]
  },
  {
   "cell_type": "code",
   "execution_count": 9,
   "id": "35f1a91c",
   "metadata": {
    "execution": {
     "iopub.execute_input": "2024-06-06T09:18:13.350623Z",
     "iopub.status.busy": "2024-06-06T09:18:13.348930Z",
     "iopub.status.idle": "2024-06-06T09:18:13.404966Z",
     "shell.execute_reply": "2024-06-06T09:18:13.402473Z"
    },
    "papermill": {
     "duration": 0.070585,
     "end_time": "2024-06-06T09:18:13.408351",
     "exception": false,
     "start_time": "2024-06-06T09:18:13.337766",
     "status": "completed"
    },
    "tags": []
   },
   "outputs": [
    {
     "name": "stdout",
     "output_type": "stream",
     "text": [
      "'data.frame':\t843 obs. of  40 variables:\n",
      " $ date                                : Date, format: \"1905-04-30\" \"1905-05-14\" ...\n",
      " $ home_team                           : chr  \"Belgium\" \"Netherlands\" \"Belgium\" \"Netherlands\" ...\n",
      " $ away_team                           : chr  \"Netherlands\" \"Belgium\" \"Netherlands\" \"Belgium\" ...\n",
      " $ home_score                          : int  1 4 5 2 1 1 1 3 4 5 ...\n",
      " $ away_score                          : int  4 0 0 3 3 2 4 1 1 3 ...\n",
      " $ tournament                          : chr  \"Friendly\" \"Friendly\" \"Friendly\" \"Friendly\" ...\n",
      " $ city                                : chr  \"Antwerp\" \"Rotterdam\" \"Antwerp\" \"Rotterdam\" ...\n",
      " $ country                             : chr  \"Belgium\" \"Netherlands\" \"Belgium\" \"Netherlands\" ...\n",
      " $ neutral                             : logi  FALSE FALSE FALSE FALSE FALSE FALSE ...\n",
      " $ goals_voor                          : num  4 4 0 2 3 1 4 3 4 5 ...\n",
      " $ goals_tegen                         : num  1 0 5 3 1 2 1 1 1 3 ...\n",
      " $ winst                               : chr  \"W\" \"W\" \"L\" \"L\" ...\n",
      " $ winst_num                           : num  3 3 0 0 3 0 3 3 3 3 ...\n",
      " $ locatie                             : chr  \"Uit\" \"Thuis\" \"Uit\" \"Thuis\" ...\n",
      " $ tegenstander                        : chr  \"Belgium\" \"Belgium\" \"Belgium\" \"Belgium\" ...\n",
      " $ goal_voor10mean                     : num  NA NA NA NA NA NA NA NA NA 3 ...\n",
      " $ goal_voor5mean                      : num  NA NA NA NA 2.6 2 2 2.6 3 3.4 ...\n",
      " $ goal_tegen10mean                    : num  NA NA NA NA NA NA NA NA NA 1.8 ...\n",
      " $ goal_tegen5mean                     : num  NA NA NA NA 2 2.2 2.4 1.6 1.2 1.6 ...\n",
      " $ punten10mean                        : num  NA NA NA NA NA NA NA NA NA 2.1 ...\n",
      " $ punten5mean                         : num  NA NA NA NA 1.8 1.2 1.2 1.8 2.4 2.4 ...\n",
      " $ score5meanvoor_per_tegenstander     : num  NA NA NA NA 2.6 2 2 2.6 NA NA ...\n",
      " $ score5meantegen_per_tegenstander    : num  NA NA NA NA 2 2.2 2.4 1.6 NA NA ...\n",
      " $ winst5mean_per_tegenstander         : num  NA NA NA NA 1.8 1.2 1.2 1.8 NA NA ...\n",
      " $ score5meanvoor_per_tournament       : num  3.2 3.4 2.6 2.4 2.6 2 2 2.6 3.2 3.2 ...\n",
      " $ score5meantegen_per_tournament      : num  1.4 1 1.4 1.8 2 2.2 2.4 1.6 2 2 ...\n",
      " $ winst5mean_per_tournament           : num  3 3 2.4 1.8 1.8 1.2 1.2 1.8 2 2.6 ...\n",
      " $ Rang_NL_FIFA                        : num  NA NA NA NA NA NA NA NA NA NA ...\n",
      " $ Rang_Teg_FIFA                       : num  NA NA NA NA NA NA NA NA NA NA ...\n",
      " $ FIFA_Rang_verschil                  : num  NA NA NA NA NA NA NA NA NA NA ...\n",
      " $ lag_goal_voor10mean                 : num  NA NA NA NA NA NA NA NA NA NA ...\n",
      " $ lag_goal_voor5mean                  : num  NA NA NA NA NA 2.6 2 2 2.6 3 ...\n",
      " $ lag_goal_tegen10mean                : num  NA NA NA NA NA NA NA NA NA NA ...\n",
      " $ lag_goal_tegen5mean                 : num  NA NA NA NA NA 2 2.2 2.4 1.6 1.2 ...\n",
      " $ lag_punten10mean                    : num  NA NA NA NA NA NA NA NA NA NA ...\n",
      " $ lag_punten5mean                     : num  NA NA NA NA NA 1.8 1.2 1.2 1.8 2.4 ...\n",
      " $ lag_score5meanvoor_per_tegenstander : num  NA NA NA NA NA 2.6 2 2 2.6 NA ...\n",
      " $ lag_score5meantegen_per_tegenstander: num  NA NA NA NA NA 2 2.2 2.4 1.6 NA ...\n",
      " $ lag_score5meanvoor_per_tournament   : num  NA 3.2 3.4 2.6 2.4 2.6 2 2 2.6 3.2 ...\n",
      " $ lag_winst5mean_per_tournament       : num  NA 3 3 2.4 1.8 1.8 1.2 1.2 1.8 2 ...\n"
     ]
    }
   ],
   "source": [
    "str(stap_2)"
   ]
  },
  {
   "cell_type": "code",
   "execution_count": 10,
   "id": "60c89bd5",
   "metadata": {
    "execution": {
     "iopub.execute_input": "2024-06-06T09:18:13.431401Z",
     "iopub.status.busy": "2024-06-06T09:18:13.429612Z",
     "iopub.status.idle": "2024-06-06T09:18:13.447023Z",
     "shell.execute_reply": "2024-06-06T09:18:13.445174Z"
    },
    "papermill": {
     "duration": 0.032585,
     "end_time": "2024-06-06T09:18:13.450339",
     "exception": false,
     "start_time": "2024-06-06T09:18:13.417754",
     "status": "completed"
    },
    "tags": []
   },
   "outputs": [],
   "source": [
    "Analysebestand=subset (stap_2, date> as.Date(\"2000-01-01\"), select=-c(goal_voor10mean, goal_voor5mean,\n",
    "goal_tegen10mean, goal_tegen5mean, punten10mean, punten5mean,score5meanvoor_per_tegenstander, score5meantegen_per_tegenstander,\n",
    "winst5mean_per_tegenstander, score5meanvoor_per_tournament, score5meantegen_per_tournament, winst5mean_per_tournament))"
   ]
  },
  {
   "cell_type": "code",
   "execution_count": 11,
   "id": "9f71d2f2",
   "metadata": {
    "execution": {
     "iopub.execute_input": "2024-06-06T09:18:13.472167Z",
     "iopub.status.busy": "2024-06-06T09:18:13.470512Z",
     "iopub.status.idle": "2024-06-06T09:18:13.526996Z",
     "shell.execute_reply": "2024-06-06T09:18:13.524315Z"
    },
    "papermill": {
     "duration": 0.070923,
     "end_time": "2024-06-06T09:18:13.530166",
     "exception": false,
     "start_time": "2024-06-06T09:18:13.459243",
     "status": "completed"
    },
    "tags": []
   },
   "outputs": [
    {
     "name": "stdout",
     "output_type": "stream",
     "text": [
      "'data.frame':\t292 obs. of  28 variables:\n",
      " $ date                                : Date, format: \"2000-02-23\" \"2000-03-29\" ...\n",
      " $ home_team                           : chr  \"Netherlands\" \"Belgium\" \"Netherlands\" \"Netherlands\" ...\n",
      " $ away_team                           : chr  \"Germany\" \"Netherlands\" \"Scotland\" \"Romania\" ...\n",
      " $ home_score                          : int  2 2 0 2 3 1 3 3 6 0 ...\n",
      " $ away_score                          : int  1 2 0 1 1 0 0 2 1 0 ...\n",
      " $ tournament                          : chr  \"Friendly\" \"Friendly\" \"Friendly\" \"Friendly\" ...\n",
      " $ city                                : chr  \"Amsterdam\" \"Brussels\" \"Arnhem\" \"Amsterdam\" ...\n",
      " $ country                             : chr  \"Netherlands\" \"Belgium\" \"Netherlands\" \"Netherlands\" ...\n",
      " $ neutral                             : logi  FALSE FALSE FALSE FALSE TRUE FALSE ...\n",
      " $ goals_voor                          : num  2 2 0 2 3 1 3 3 6 0 ...\n",
      " $ goals_tegen                         : num  1 2 0 1 1 0 0 2 1 0 ...\n",
      " $ winst                               : chr  \"W\" \"D\" \"D\" \"W\" ...\n",
      " $ winst_num                           : num  3 1 1 3 3 3 3 3 3 1 ...\n",
      " $ locatie                             : chr  \"Thuis\" \"Uit\" \"Thuis\" \"Thuis\" ...\n",
      " $ tegenstander                        : chr  \"Germany\" \"Belgium\" \"Scotland\" \"Romania\" ...\n",
      " $ Rang_NL_FIFA                        : num  19 20 21 21 21 8 8 8 8 8 ...\n",
      " $ Rang_Teg_FIFA                       : num  5 33 24 11 37 NA 16 2 NA 6 ...\n",
      " $ FIFA_Rang_verschil                  : num  -14 13 3 -10 16 NA 8 -6 NA -2 ...\n",
      " $ lag_goal_voor10mean                 : num  1.4 1.5 1.7 1.6 1.7 1.8 1.8 2.1 1.9 2.3 ...\n",
      " $ lag_goal_voor5mean                  : num  1.8 2 2.4 1.4 1.4 1.8 1.6 1.8 2.4 3.2 ...\n",
      " $ lag_goal_tegen10mean                : num  1.7 1.7 1.9 1.8 1.7 1.6 1.3 1.3 1 0.9 ...\n",
      " $ lag_goal_tegen5mean                 : num  2.2 1.8 2.2 1.2 1 1 0.8 0.4 0.8 0.8 ...\n",
      " $ lag_punten10mean                    : num  0.8 1 1 1 1.3 1.5 1.8 2 2.2 2.4 ...\n",
      " $ lag_punten5mean                     : num  0.8 1.4 1.4 1.4 1.8 2.2 2.2 2.6 3 3 ...\n",
      " $ lag_score5meanvoor_per_tegenstander : num  NA 1.4 2.6 1 1.2 2.2 NA 2.6 1 NA ...\n",
      " $ lag_score5meantegen_per_tegenstander: num  NA 1.2 1.6 0.2 0.2 1 NA 0.8 1.2 NA ...\n",
      " $ lag_score5meanvoor_per_tournament   : num  3.6 1 1.8 1 1.2 1.4 NA 1.4 1.4 1.6 ...\n",
      " $ lag_winst5mean_per_tournament       : num  1.6 1 1.4 1.6 2.2 1.8 NA 1 1.4 1.6 ...\n"
     ]
    }
   ],
   "source": [
    "str (Analysebestand)"
   ]
  },
  {
   "cell_type": "code",
   "execution_count": 12,
   "id": "bb19c977",
   "metadata": {
    "execution": {
     "iopub.execute_input": "2024-06-06T09:18:13.553498Z",
     "iopub.status.busy": "2024-06-06T09:18:13.551770Z",
     "iopub.status.idle": "2024-06-06T09:18:16.197224Z",
     "shell.execute_reply": "2024-06-06T09:18:16.195212Z"
    },
    "papermill": {
     "duration": 2.660904,
     "end_time": "2024-06-06T09:18:16.200653",
     "exception": false,
     "start_time": "2024-06-06T09:18:13.539749",
     "status": "completed"
    },
    "tags": []
   },
   "outputs": [
    {
     "name": "stderr",
     "output_type": "stream",
     "text": [
      "Registered S3 method overwritten by 'GGally':\n",
      "  method from   \n",
      "  +.gg   ggplot2\n",
      "\n",
      "randomForest 4.6-14\n",
      "\n",
      "Type rfNews() to see new features/changes/bug fixes.\n",
      "\n",
      "\n",
      "Attaching package: ‘randomForest’\n",
      "\n",
      "\n",
      "The following object is masked from ‘package:dplyr’:\n",
      "\n",
      "    combine\n",
      "\n",
      "\n",
      "The following object is masked from ‘package:ggplot2’:\n",
      "\n",
      "    margin\n",
      "\n",
      "\n",
      "Loading required package: lattice\n",
      "\n",
      "\n",
      "Attaching package: ‘caret’\n",
      "\n",
      "\n",
      "The following objects are masked from ‘package:Metrics’:\n",
      "\n",
      "    precision, recall\n",
      "\n",
      "\n",
      "The following object is masked from ‘package:purrr’:\n",
      "\n",
      "    lift\n",
      "\n",
      "\n",
      "The following object is masked from ‘package:httr’:\n",
      "\n",
      "    progress\n",
      "\n",
      "\n"
     ]
    }
   ],
   "source": [
    "library(Metrics)\n",
    "library(randomForestExplainer)\n",
    "library(randomForest)\n",
    "library(tidyr)\n",
    "library(caret)"
   ]
  },
  {
   "cell_type": "code",
   "execution_count": 13,
   "id": "c9680369",
   "metadata": {
    "execution": {
     "iopub.execute_input": "2024-06-06T09:18:16.225189Z",
     "iopub.status.busy": "2024-06-06T09:18:16.223508Z",
     "iopub.status.idle": "2024-06-06T09:18:16.346480Z",
     "shell.execute_reply": "2024-06-06T09:18:16.343505Z"
    },
    "papermill": {
     "duration": 0.138777,
     "end_time": "2024-06-06T09:18:16.349761",
     "exception": false,
     "start_time": "2024-06-06T09:18:16.210984",
     "status": "completed"
    },
    "tags": []
   },
   "outputs": [
    {
     "name": "stdout",
     "output_type": "stream",
     "text": [
      "\n",
      "Call:\n",
      " randomForest(formula = as.factor(winst) ~ ., data = train, ntree = 180,      mtry = 5) \n",
      "               Type of random forest: classification\n",
      "                     Number of trees: 180\n",
      "No. of variables tried at each split: 5\n",
      "\n",
      "        OOB estimate of  error rate: 41.7%\n",
      "Confusion matrix:\n",
      "   D L   W class.error\n",
      "D  8 6  37   0.8431373\n",
      "L  5 8  28   0.8048780\n",
      "W 14 8 121   0.1538462\n"
     ]
    }
   ],
   "source": [
    "model_df = subset(Analysebestand, select = -c(date, home_team, away_team, home_score, away_score, city, winst_num, goals_tegen, goals_voor)) #Create model df by subtracting unneeded columns\n",
    "model_df[is.na(model_df)] = 0 #Replace NaNs with 0, because in this case it is bad if a team has NaN\n",
    "set.seed(2024) #Seed for reproducibility\n",
    "\n",
    "train_ind = createDataPartition(model_df$winst, p = 0.8, list = FALSE) #Create an index for split\n",
    "train = model_df[train_ind, ] #Create training set by applying row index\n",
    "test = model_df[-train_ind, ] #Create test set by subtracting row index\n",
    "\n",
    "model = randomForest(as.factor (winst) ~ ., \n",
    "                      data = train, ntree = 180, mtry = 5) #Fit a random forest model with 150 trees\n",
    "\n",
    "print(model)"
   ]
  },
  {
   "cell_type": "code",
   "execution_count": 14,
   "id": "c3741606",
   "metadata": {
    "execution": {
     "iopub.execute_input": "2024-06-06T09:18:16.375132Z",
     "iopub.status.busy": "2024-06-06T09:18:16.373455Z",
     "iopub.status.idle": "2024-06-06T09:18:16.687126Z",
     "shell.execute_reply": "2024-06-06T09:18:16.684224Z"
    },
    "papermill": {
     "duration": 0.331027,
     "end_time": "2024-06-06T09:18:16.691363",
     "exception": false,
     "start_time": "2024-06-06T09:18:16.360336",
     "status": "completed"
    },
    "tags": []
   },
   "outputs": [
    {
     "data": {
      "image/png": "[encoded data removed]"
     },
     "metadata": {
      "image/png": {
       "height": 420,
       "width": 420
      }
     },
     "output_type": "display_data"
    }
   ],
   "source": [
    "plot (model)"
   ]
  },
  {
   "cell_type": "code",
   "execution_count": 15,
   "id": "09068f4f",
   "metadata": {
    "execution": {
     "iopub.execute_input": "2024-06-06T09:18:16.722768Z",
     "iopub.status.busy": "2024-06-06T09:18:16.720515Z",
     "iopub.status.idle": "2024-06-06T09:18:17.194007Z",
     "shell.execute_reply": "2024-06-06T09:18:17.190758Z"
    },
    "papermill": {
     "duration": 0.492828,
     "end_time": "2024-06-06T09:18:17.197688",
     "exception": false,
     "start_time": "2024-06-06T09:18:16.704860",
     "status": "completed"
    },
    "tags": []
   },
   "outputs": [
    {
     "name": "stderr",
     "output_type": "stream",
     "text": [
      "Warning message:\n",
      "“\u001b[1m\u001b[22mRemoved 2 rows containing missing values (`position_stack()`).”\n"
     ]
    },
    {
     "data": {
      "image/png": "[encoded data removed]"
     },
     "metadata": {
      "image/png": {
       "height": 420,
       "width": 420
      }
     },
     "output_type": "display_data"
    }
   ],
   "source": [
    "imp_RF <- importance(model)\n",
    "imp_DF <- data.frame(Variables = row.names(imp_RF), MSE = imp_RF[,1])\n",
    "imp_DF <- imp_DF[order(imp_DF$MSE, decreasing = TRUE),]\n",
    "\n",
    "ggplot(imp_DF[1:20,], aes(x=reorder(Variables, MSE), y=MSE, fill=MSE)) + geom_bar(stat = 'identity') + labs(x = 'Variables', y= 'MeanDecreaseGini') + coord_flip() + theme(legend.position=\"none\")"
   ]
  }
 ],
 "metadata": {
  "kaggle": {
   "accelerator": "none",
   "dataSources": [
    {
     "datasetId": 4305,
     "sourceId": 8423407,
     "sourceType": "datasetVersion"
    },
    {
     "datasetId": 462919,
     "sourceId": 8299205,
     "sourceType": "datasetVersion"
    }
   ],
   "dockerImageVersionId": 30618,
   "isGpuEnabled": false,
   "isInternetEnabled": true,
   "language": "r",
   "sourceType": "notebook"
  },
  "kernelspec": {
   "display_name": "R",
   "language": "R",
   "name": "ir"
  },
  "language_info": {
   "codemirror_mode": "r",
   "file_extension": ".r",
   "mimetype": "text/x-r-source",
   "name": "R",
   "pygments_lexer": "r",
   "version": "4.0.5"
  },
  "papermill": {
   "default_parameters": {},
   "duration": 12.280753,
   "end_time": "2024-06-06T09:18:17.333853",
   "environment_variables": {},
   "exception": null,
   "input_path": "__notebook__.ipynb",
   "output_path": "__notebook__.ipynb",
   "parameters": {},
   "start_time": "2024-06-06T09:18:05.053100",
   "version": "2.5.0"
  }
 },
 "nbformat": 4,
 "nbformat_minor": 5
}
