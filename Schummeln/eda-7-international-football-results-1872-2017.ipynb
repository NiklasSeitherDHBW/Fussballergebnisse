{
 "cells": [
  {
   "cell_type": "code",
   "execution_count": 1,
   "id": "9782adf0",
   "metadata": {
    "_cell_guid": "b1076dfc-b9ad-4769-8c92-a6c4dae69d19",
    "_uuid": "8f2839f25d086af736a60e9eeb907d3b93b6e0e5",
    "execution": {
     "iopub.execute_input": "2024-06-04T19:36:19.763137Z",
     "iopub.status.busy": "2024-06-04T19:36:19.762247Z",
     "iopub.status.idle": "2024-06-04T19:36:22.743194Z",
     "shell.execute_reply": "2024-06-04T19:36:22.742181Z"
    },
    "papermill": {
     "duration": 3.0026,
     "end_time": "2024-06-04T19:36:22.745950",
     "exception": false,
     "start_time": "2024-06-04T19:36:19.743350",
     "status": "completed"
    },
    "tags": []
   },
   "outputs": [
    {
     "name": "stdout",
     "output_type": "stream",
     "text": [
      "/kaggle/input/international-football-results-from-1872-to-2017/goalscorers.csv\n",
      "/kaggle/input/international-football-results-from-1872-to-2017/shootouts.csv\n",
      "/kaggle/input/international-football-results-from-1872-to-2017/results.csv\n"
     ]
    }
   ],
   "source": [
    "# This Python 3 environment comes with many helpful analytics libraries installed\n",
    "# It is defined by the kaggle/python Docker image: https://github.com/kaggle/docker-python\n",
    "# For example, here's several helpful packages to load\n",
    "\n",
    "import numpy as np # linear algebra\n",
    "import pandas as pd # data processing, CSV file I/O (e.g. pd.read_c  sv)\n",
    "\n",
    "# Input data files are available in the read-only \"../input/\" directory\n",
    "# For example, running this (by clicking run or pressing Shift+Enter) will list all files under the input directory\n",
    "\n",
    "import os\n",
    "for dirname, _, filenames in os.walk('/kaggle/input'):\n",
    "    for filename in filenames:\n",
    "        print(os.path.join(dirname, filename))\n",
    "\n",
    "# You can write up to 20GB to the current directory (/kaggle/working/) that gets preserved as output when you create a version using \"Save & Run All\" \n",
    "# You can also write temporary files to /kaggle/temp/, but they won't be saved outside of the current session\n",
    "import matplotlib.pyplot as plt\n",
    "import plotly.express as px\n",
    "import plotly.graph_objs as go\n",
    "import warnings\n",
    "warnings.simplefilter(action='ignore', category=FutureWarning)\n",
    "import seaborn as sns\n",
    "sns.set_style('darkgrid')"
   ]
  },
  {
   "cell_type": "markdown",
   "id": "1db6c51b",
   "metadata": {
    "papermill": {
     "duration": 0.017024,
     "end_time": "2024-06-04T19:36:22.780781",
     "exception": false,
     "start_time": "2024-06-04T19:36:22.763757",
     "status": "completed"
    },
    "tags": []
   },
   "source": [
    "**Here, the analysis is performed on goalscorers and results csv files**"
   ]
  },
  {
   "cell_type": "code",
   "execution_count": 2,
   "id": "bf6f0259",
   "metadata": {
    "execution": {
     "iopub.execute_input": "2024-06-04T19:36:22.817419Z",
     "iopub.status.busy": "2024-06-04T19:36:22.816826Z",
     "iopub.status.idle": "2024-06-04T19:36:23.150306Z",
     "shell.execute_reply": "2024-06-04T19:36:23.149373Z"
    },
    "papermill": {
     "duration": 0.354945,
     "end_time": "2024-06-04T19:36:23.153044",
     "exception": false,
     "start_time": "2024-06-04T19:36:22.798099",
     "status": "completed"
    },
    "tags": []
   },
   "outputs": [
    {
     "data": {
      "text/html": [
       "<div>\n",
       "<style scoped>\n",
       "    .dataframe tbody tr th:only-of-type {\n",
       "        vertical-align: middle;\n",
       "    }\n",
       "\n",
       "    .dataframe tbody tr th {\n",
       "        vertical-align: top;\n",
       "    }\n",
       "\n",
       "    .dataframe thead th {\n",
       "        text-align: right;\n",
       "    }\n",
       "</style>\n",
       "<table border=\"1\" class=\"dataframe\">\n",
       "  <thead>\n",
       "    <tr style=\"text-align: right;\">\n",
       "      <th></th>\n",
       "      <th>date</th>\n",
       "      <th>home_team</th>\n",
       "      <th>away_team</th>\n",
       "      <th>team</th>\n",
       "      <th>scorer</th>\n",
       "      <th>minute</th>\n",
       "      <th>own_goal</th>\n",
       "      <th>penalty</th>\n",
       "    </tr>\n",
       "  </thead>\n",
       "  <tbody>\n",
       "    <tr>\n",
       "      <th>0</th>\n",
       "      <td>1916-07-02</td>\n",
       "      <td>Chile</td>\n",
       "      <td>Uruguay</td>\n",
       "      <td>Uruguay</td>\n",
       "      <td>José Piendibene</td>\n",
       "      <td>44.0</td>\n",
       "      <td>False</td>\n",
       "      <td>False</td>\n",
       "    </tr>\n",
       "    <tr>\n",
       "      <th>1</th>\n",
       "      <td>1916-07-02</td>\n",
       "      <td>Chile</td>\n",
       "      <td>Uruguay</td>\n",
       "      <td>Uruguay</td>\n",
       "      <td>Isabelino Gradín</td>\n",
       "      <td>55.0</td>\n",
       "      <td>False</td>\n",
       "      <td>False</td>\n",
       "    </tr>\n",
       "    <tr>\n",
       "      <th>2</th>\n",
       "      <td>1916-07-02</td>\n",
       "      <td>Chile</td>\n",
       "      <td>Uruguay</td>\n",
       "      <td>Uruguay</td>\n",
       "      <td>Isabelino Gradín</td>\n",
       "      <td>70.0</td>\n",
       "      <td>False</td>\n",
       "      <td>False</td>\n",
       "    </tr>\n",
       "    <tr>\n",
       "      <th>3</th>\n",
       "      <td>1916-07-02</td>\n",
       "      <td>Chile</td>\n",
       "      <td>Uruguay</td>\n",
       "      <td>Uruguay</td>\n",
       "      <td>José Piendibene</td>\n",
       "      <td>75.0</td>\n",
       "      <td>False</td>\n",
       "      <td>False</td>\n",
       "    </tr>\n",
       "    <tr>\n",
       "      <th>4</th>\n",
       "      <td>1916-07-06</td>\n",
       "      <td>Argentina</td>\n",
       "      <td>Chile</td>\n",
       "      <td>Argentina</td>\n",
       "      <td>Alberto Ohaco</td>\n",
       "      <td>2.0</td>\n",
       "      <td>False</td>\n",
       "      <td>False</td>\n",
       "    </tr>\n",
       "    <tr>\n",
       "      <th>...</th>\n",
       "      <td>...</td>\n",
       "      <td>...</td>\n",
       "      <td>...</td>\n",
       "      <td>...</td>\n",
       "      <td>...</td>\n",
       "      <td>...</td>\n",
       "      <td>...</td>\n",
       "      <td>...</td>\n",
       "    </tr>\n",
       "    <tr>\n",
       "      <th>44105</th>\n",
       "      <td>2024-02-10</td>\n",
       "      <td>Qatar</td>\n",
       "      <td>Jordan</td>\n",
       "      <td>Qatar</td>\n",
       "      <td>Akram Afif</td>\n",
       "      <td>73.0</td>\n",
       "      <td>False</td>\n",
       "      <td>True</td>\n",
       "    </tr>\n",
       "    <tr>\n",
       "      <th>44106</th>\n",
       "      <td>2024-02-10</td>\n",
       "      <td>Qatar</td>\n",
       "      <td>Jordan</td>\n",
       "      <td>Qatar</td>\n",
       "      <td>Akram Afif</td>\n",
       "      <td>90.0</td>\n",
       "      <td>False</td>\n",
       "      <td>True</td>\n",
       "    </tr>\n",
       "    <tr>\n",
       "      <th>44107</th>\n",
       "      <td>2024-02-11</td>\n",
       "      <td>Ivory Coast</td>\n",
       "      <td>Nigeria</td>\n",
       "      <td>Nigeria</td>\n",
       "      <td>William Troost-Ekong</td>\n",
       "      <td>38.0</td>\n",
       "      <td>False</td>\n",
       "      <td>False</td>\n",
       "    </tr>\n",
       "    <tr>\n",
       "      <th>44108</th>\n",
       "      <td>2024-02-11</td>\n",
       "      <td>Ivory Coast</td>\n",
       "      <td>Nigeria</td>\n",
       "      <td>Ivory Coast</td>\n",
       "      <td>Franck Kessié</td>\n",
       "      <td>62.0</td>\n",
       "      <td>False</td>\n",
       "      <td>False</td>\n",
       "    </tr>\n",
       "    <tr>\n",
       "      <th>44109</th>\n",
       "      <td>2024-02-11</td>\n",
       "      <td>Ivory Coast</td>\n",
       "      <td>Nigeria</td>\n",
       "      <td>Ivory Coast</td>\n",
       "      <td>Sébastien Haller</td>\n",
       "      <td>81.0</td>\n",
       "      <td>False</td>\n",
       "      <td>False</td>\n",
       "    </tr>\n",
       "  </tbody>\n",
       "</table>\n",
       "<p>44110 rows × 8 columns</p>\n",
       "</div>"
      ],
      "text/plain": [
       "             date    home_team away_team         team                scorer  \\\n",
       "0      1916-07-02        Chile   Uruguay      Uruguay       José Piendibene   \n",
       "1      1916-07-02        Chile   Uruguay      Uruguay      Isabelino Gradín   \n",
       "2      1916-07-02        Chile   Uruguay      Uruguay      Isabelino Gradín   \n",
       "3      1916-07-02        Chile   Uruguay      Uruguay       José Piendibene   \n",
       "4      1916-07-06    Argentina     Chile    Argentina         Alberto Ohaco   \n",
       "...           ...          ...       ...          ...                   ...   \n",
       "44105  2024-02-10        Qatar    Jordan        Qatar            Akram Afif   \n",
       "44106  2024-02-10        Qatar    Jordan        Qatar            Akram Afif   \n",
       "44107  2024-02-11  Ivory Coast   Nigeria      Nigeria  William Troost-Ekong   \n",
       "44108  2024-02-11  Ivory Coast   Nigeria  Ivory Coast         Franck Kessié   \n",
       "44109  2024-02-11  Ivory Coast   Nigeria  Ivory Coast      Sébastien Haller   \n",
       "\n",
       "       minute own_goal penalty  \n",
       "0        44.0    False   False  \n",
       "1        55.0    False   False  \n",
       "2        70.0    False   False  \n",
       "3        75.0    False   False  \n",
       "4         2.0    False   False  \n",
       "...       ...      ...     ...  \n",
       "44105    73.0    False    True  \n",
       "44106    90.0    False    True  \n",
       "44107    38.0    False   False  \n",
       "44108    62.0    False   False  \n",
       "44109    81.0    False   False  \n",
       "\n",
       "[44110 rows x 8 columns]"
      ]
     },
     "execution_count": 2,
     "metadata": {},
     "output_type": "execute_result"
    }
   ],
   "source": [
    "gs= pd.read_csv('/kaggle/input/international-football-results-from-1872-to-2017/goalscorers.csv')\n",
    "rs= pd.read_csv('/kaggle/input/international-football-results-from-1872-to-2017/results.csv')\n",
    "gs"
   ]
  },
  {
   "cell_type": "code",
   "execution_count": 3,
   "id": "516390fd",
   "metadata": {
    "execution": {
     "iopub.execute_input": "2024-06-04T19:36:23.190727Z",
     "iopub.status.busy": "2024-06-04T19:36:23.189990Z",
     "iopub.status.idle": "2024-06-04T19:36:23.208950Z",
     "shell.execute_reply": "2024-06-04T19:36:23.207921Z"
    },
    "papermill": {
     "duration": 0.040573,
     "end_time": "2024-06-04T19:36:23.211973",
     "exception": false,
     "start_time": "2024-06-04T19:36:23.171400",
     "status": "completed"
    },
    "tags": []
   },
   "outputs": [
    {
     "data": {
      "text/html": [
       "<div>\n",
       "<style scoped>\n",
       "    .dataframe tbody tr th:only-of-type {\n",
       "        vertical-align: middle;\n",
       "    }\n",
       "\n",
       "    .dataframe tbody tr th {\n",
       "        vertical-align: top;\n",
       "    }\n",
       "\n",
       "    .dataframe thead th {\n",
       "        text-align: right;\n",
       "    }\n",
       "</style>\n",
       "<table border=\"1\" class=\"dataframe\">\n",
       "  <thead>\n",
       "    <tr style=\"text-align: right;\">\n",
       "      <th></th>\n",
       "      <th>date</th>\n",
       "      <th>home_team</th>\n",
       "      <th>away_team</th>\n",
       "      <th>home_score</th>\n",
       "      <th>away_score</th>\n",
       "      <th>tournament</th>\n",
       "      <th>city</th>\n",
       "      <th>country</th>\n",
       "      <th>neutral</th>\n",
       "    </tr>\n",
       "  </thead>\n",
       "  <tbody>\n",
       "    <tr>\n",
       "      <th>0</th>\n",
       "      <td>1872-11-30</td>\n",
       "      <td>Scotland</td>\n",
       "      <td>England</td>\n",
       "      <td>0.0</td>\n",
       "      <td>0.0</td>\n",
       "      <td>Friendly</td>\n",
       "      <td>Glasgow</td>\n",
       "      <td>Scotland</td>\n",
       "      <td>False</td>\n",
       "    </tr>\n",
       "    <tr>\n",
       "      <th>1</th>\n",
       "      <td>1873-03-08</td>\n",
       "      <td>England</td>\n",
       "      <td>Scotland</td>\n",
       "      <td>4.0</td>\n",
       "      <td>2.0</td>\n",
       "      <td>Friendly</td>\n",
       "      <td>London</td>\n",
       "      <td>England</td>\n",
       "      <td>False</td>\n",
       "    </tr>\n",
       "    <tr>\n",
       "      <th>2</th>\n",
       "      <td>1874-03-07</td>\n",
       "      <td>Scotland</td>\n",
       "      <td>England</td>\n",
       "      <td>2.0</td>\n",
       "      <td>1.0</td>\n",
       "      <td>Friendly</td>\n",
       "      <td>Glasgow</td>\n",
       "      <td>Scotland</td>\n",
       "      <td>False</td>\n",
       "    </tr>\n",
       "    <tr>\n",
       "      <th>3</th>\n",
       "      <td>1875-03-06</td>\n",
       "      <td>England</td>\n",
       "      <td>Scotland</td>\n",
       "      <td>2.0</td>\n",
       "      <td>2.0</td>\n",
       "      <td>Friendly</td>\n",
       "      <td>London</td>\n",
       "      <td>England</td>\n",
       "      <td>False</td>\n",
       "    </tr>\n",
       "    <tr>\n",
       "      <th>4</th>\n",
       "      <td>1876-03-04</td>\n",
       "      <td>Scotland</td>\n",
       "      <td>England</td>\n",
       "      <td>3.0</td>\n",
       "      <td>0.0</td>\n",
       "      <td>Friendly</td>\n",
       "      <td>Glasgow</td>\n",
       "      <td>Scotland</td>\n",
       "      <td>False</td>\n",
       "    </tr>\n",
       "    <tr>\n",
       "      <th>...</th>\n",
       "      <td>...</td>\n",
       "      <td>...</td>\n",
       "      <td>...</td>\n",
       "      <td>...</td>\n",
       "      <td>...</td>\n",
       "      <td>...</td>\n",
       "      <td>...</td>\n",
       "      <td>...</td>\n",
       "      <td>...</td>\n",
       "    </tr>\n",
       "    <tr>\n",
       "      <th>47121</th>\n",
       "      <td>2024-07-06</td>\n",
       "      <td>NaN</td>\n",
       "      <td>NaN</td>\n",
       "      <td>NaN</td>\n",
       "      <td>NaN</td>\n",
       "      <td>UEFA Euro</td>\n",
       "      <td>Düsseldorf</td>\n",
       "      <td>Germany</td>\n",
       "      <td>True</td>\n",
       "    </tr>\n",
       "    <tr>\n",
       "      <th>47122</th>\n",
       "      <td>2024-07-06</td>\n",
       "      <td>NaN</td>\n",
       "      <td>NaN</td>\n",
       "      <td>NaN</td>\n",
       "      <td>NaN</td>\n",
       "      <td>UEFA Euro</td>\n",
       "      <td>Berlin</td>\n",
       "      <td>Germany</td>\n",
       "      <td>True</td>\n",
       "    </tr>\n",
       "    <tr>\n",
       "      <th>47123</th>\n",
       "      <td>2024-07-09</td>\n",
       "      <td>NaN</td>\n",
       "      <td>NaN</td>\n",
       "      <td>NaN</td>\n",
       "      <td>NaN</td>\n",
       "      <td>UEFA Euro</td>\n",
       "      <td>Munich</td>\n",
       "      <td>Germany</td>\n",
       "      <td>True</td>\n",
       "    </tr>\n",
       "    <tr>\n",
       "      <th>47124</th>\n",
       "      <td>2024-07-10</td>\n",
       "      <td>NaN</td>\n",
       "      <td>NaN</td>\n",
       "      <td>NaN</td>\n",
       "      <td>NaN</td>\n",
       "      <td>UEFA Euro</td>\n",
       "      <td>Dortmund</td>\n",
       "      <td>Germany</td>\n",
       "      <td>True</td>\n",
       "    </tr>\n",
       "    <tr>\n",
       "      <th>47125</th>\n",
       "      <td>2024-07-14</td>\n",
       "      <td>NaN</td>\n",
       "      <td>NaN</td>\n",
       "      <td>NaN</td>\n",
       "      <td>NaN</td>\n",
       "      <td>UEFA Euro</td>\n",
       "      <td>Berlin</td>\n",
       "      <td>Germany</td>\n",
       "      <td>True</td>\n",
       "    </tr>\n",
       "  </tbody>\n",
       "</table>\n",
       "<p>47126 rows × 9 columns</p>\n",
       "</div>"
      ],
      "text/plain": [
       "             date home_team away_team  home_score  away_score tournament  \\\n",
       "0      1872-11-30  Scotland   England         0.0         0.0   Friendly   \n",
       "1      1873-03-08   England  Scotland         4.0         2.0   Friendly   \n",
       "2      1874-03-07  Scotland   England         2.0         1.0   Friendly   \n",
       "3      1875-03-06   England  Scotland         2.0         2.0   Friendly   \n",
       "4      1876-03-04  Scotland   England         3.0         0.0   Friendly   \n",
       "...           ...       ...       ...         ...         ...        ...   \n",
       "47121  2024-07-06       NaN       NaN         NaN         NaN  UEFA Euro   \n",
       "47122  2024-07-06       NaN       NaN         NaN         NaN  UEFA Euro   \n",
       "47123  2024-07-09       NaN       NaN         NaN         NaN  UEFA Euro   \n",
       "47124  2024-07-10       NaN       NaN         NaN         NaN  UEFA Euro   \n",
       "47125  2024-07-14       NaN       NaN         NaN         NaN  UEFA Euro   \n",
       "\n",
       "             city   country  neutral  \n",
       "0         Glasgow  Scotland    False  \n",
       "1          London   England    False  \n",
       "2         Glasgow  Scotland    False  \n",
       "3          London   England    False  \n",
       "4         Glasgow  Scotland    False  \n",
       "...           ...       ...      ...  \n",
       "47121  Düsseldorf   Germany     True  \n",
       "47122      Berlin   Germany     True  \n",
       "47123      Munich   Germany     True  \n",
       "47124    Dortmund   Germany     True  \n",
       "47125      Berlin   Germany     True  \n",
       "\n",
       "[47126 rows x 9 columns]"
      ]
     },
     "execution_count": 3,
     "metadata": {},
     "output_type": "execute_result"
    }
   ],
   "source": [
    "rs"
   ]
  },
  {
   "cell_type": "code",
   "execution_count": null,
   "id": "159948ab",
   "metadata": {
    "papermill": {
     "duration": 0.017974,
     "end_time": "2024-06-04T19:36:23.248159",
     "exception": false,
     "start_time": "2024-06-04T19:36:23.230185",
     "status": "completed"
    },
    "tags": []
   },
   "outputs": [],
   "source": []
  },
  {
   "cell_type": "markdown",
   "id": "ac3c6592",
   "metadata": {
    "papermill": {
     "duration": 0.017807,
     "end_time": "2024-06-04T19:36:23.284201",
     "exception": false,
     "start_time": "2024-06-04T19:36:23.266394",
     "status": "completed"
    },
    "tags": []
   },
   "source": [
    "**Data Inspection**"
   ]
  },
  {
   "cell_type": "code",
   "execution_count": 4,
   "id": "2e971667",
   "metadata": {
    "execution": {
     "iopub.execute_input": "2024-06-04T19:36:23.322344Z",
     "iopub.status.busy": "2024-06-04T19:36:23.321928Z",
     "iopub.status.idle": "2024-06-04T19:36:23.329217Z",
     "shell.execute_reply": "2024-06-04T19:36:23.328196Z"
    },
    "papermill": {
     "duration": 0.029291,
     "end_time": "2024-06-04T19:36:23.331380",
     "exception": false,
     "start_time": "2024-06-04T19:36:23.302089",
     "status": "completed"
    },
    "tags": []
   },
   "outputs": [
    {
     "data": {
      "text/plain": [
       "Index(['date', 'home_team', 'away_team', 'team', 'scorer', 'minute',\n",
       "       'own_goal', 'penalty'],\n",
       "      dtype='object')"
      ]
     },
     "execution_count": 4,
     "metadata": {},
     "output_type": "execute_result"
    }
   ],
   "source": [
    "gs.columns"
   ]
  },
  {
   "cell_type": "code",
   "execution_count": 5,
   "id": "59d7c099",
   "metadata": {
    "execution": {
     "iopub.execute_input": "2024-06-04T19:36:23.369236Z",
     "iopub.status.busy": "2024-06-04T19:36:23.368574Z",
     "iopub.status.idle": "2024-06-04T19:36:23.426758Z",
     "shell.execute_reply": "2024-06-04T19:36:23.425361Z"
    },
    "papermill": {
     "duration": 0.079774,
     "end_time": "2024-06-04T19:36:23.429260",
     "exception": false,
     "start_time": "2024-06-04T19:36:23.349486",
     "status": "completed"
    },
    "tags": []
   },
   "outputs": [
    {
     "name": "stdout",
     "output_type": "stream",
     "text": [
      "<class 'pandas.core.frame.DataFrame'>\n",
      "RangeIndex: 44110 entries, 0 to 44109\n",
      "Data columns (total 8 columns):\n",
      " #   Column     Non-Null Count  Dtype  \n",
      "---  ------     --------------  -----  \n",
      " 0   date       44110 non-null  object \n",
      " 1   home_team  44110 non-null  object \n",
      " 2   away_team  44110 non-null  object \n",
      " 3   team       44110 non-null  object \n",
      " 4   scorer     44060 non-null  object \n",
      " 5   minute     43847 non-null  float64\n",
      " 6   own_goal   44108 non-null  object \n",
      " 7   penalty    44108 non-null  object \n",
      "dtypes: float64(1), object(7)\n",
      "memory usage: 2.7+ MB\n"
     ]
    }
   ],
   "source": [
    "gs.info()"
   ]
  },
  {
   "cell_type": "code",
   "execution_count": 6,
   "id": "3f968799",
   "metadata": {
    "execution": {
     "iopub.execute_input": "2024-06-04T19:36:23.469388Z",
     "iopub.status.busy": "2024-06-04T19:36:23.468567Z",
     "iopub.status.idle": "2024-06-04T19:36:23.475206Z",
     "shell.execute_reply": "2024-06-04T19:36:23.474214Z"
    },
    "papermill": {
     "duration": 0.028278,
     "end_time": "2024-06-04T19:36:23.477531",
     "exception": false,
     "start_time": "2024-06-04T19:36:23.449253",
     "status": "completed"
    },
    "tags": []
   },
   "outputs": [
    {
     "data": {
      "text/plain": [
       "(44110, 8)"
      ]
     },
     "execution_count": 6,
     "metadata": {},
     "output_type": "execute_result"
    }
   ],
   "source": [
    "gs.shape"
   ]
  },
  {
   "cell_type": "code",
   "execution_count": 7,
   "id": "3590b89f",
   "metadata": {
    "execution": {
     "iopub.execute_input": "2024-06-04T19:36:23.516147Z",
     "iopub.status.busy": "2024-06-04T19:36:23.515104Z",
     "iopub.status.idle": "2024-06-04T19:36:23.535327Z",
     "shell.execute_reply": "2024-06-04T19:36:23.534344Z"
    },
    "papermill": {
     "duration": 0.041878,
     "end_time": "2024-06-04T19:36:23.537588",
     "exception": false,
     "start_time": "2024-06-04T19:36:23.495710",
     "status": "completed"
    },
    "tags": []
   },
   "outputs": [
    {
     "data": {
      "text/html": [
       "<div>\n",
       "<style scoped>\n",
       "    .dataframe tbody tr th:only-of-type {\n",
       "        vertical-align: middle;\n",
       "    }\n",
       "\n",
       "    .dataframe tbody tr th {\n",
       "        vertical-align: top;\n",
       "    }\n",
       "\n",
       "    .dataframe thead th {\n",
       "        text-align: right;\n",
       "    }\n",
       "</style>\n",
       "<table border=\"1\" class=\"dataframe\">\n",
       "  <thead>\n",
       "    <tr style=\"text-align: right;\">\n",
       "      <th></th>\n",
       "      <th>minute</th>\n",
       "    </tr>\n",
       "  </thead>\n",
       "  <tbody>\n",
       "    <tr>\n",
       "      <th>count</th>\n",
       "      <td>43847.000000</td>\n",
       "    </tr>\n",
       "    <tr>\n",
       "      <th>mean</th>\n",
       "      <td>50.015212</td>\n",
       "    </tr>\n",
       "    <tr>\n",
       "      <th>std</th>\n",
       "      <td>26.354534</td>\n",
       "    </tr>\n",
       "    <tr>\n",
       "      <th>min</th>\n",
       "      <td>1.000000</td>\n",
       "    </tr>\n",
       "    <tr>\n",
       "      <th>25%</th>\n",
       "      <td>28.000000</td>\n",
       "    </tr>\n",
       "    <tr>\n",
       "      <th>50%</th>\n",
       "      <td>51.000000</td>\n",
       "    </tr>\n",
       "    <tr>\n",
       "      <th>75%</th>\n",
       "      <td>73.000000</td>\n",
       "    </tr>\n",
       "    <tr>\n",
       "      <th>max</th>\n",
       "      <td>122.000000</td>\n",
       "    </tr>\n",
       "  </tbody>\n",
       "</table>\n",
       "</div>"
      ],
      "text/plain": [
       "             minute\n",
       "count  43847.000000\n",
       "mean      50.015212\n",
       "std       26.354534\n",
       "min        1.000000\n",
       "25%       28.000000\n",
       "50%       51.000000\n",
       "75%       73.000000\n",
       "max      122.000000"
      ]
     },
     "execution_count": 7,
     "metadata": {},
     "output_type": "execute_result"
    }
   ],
   "source": [
    "gs.describe()\n"
   ]
  },
  {
   "cell_type": "code",
   "execution_count": 8,
   "id": "f6b927a4",
   "metadata": {
    "execution": {
     "iopub.execute_input": "2024-06-04T19:36:23.576200Z",
     "iopub.status.busy": "2024-06-04T19:36:23.575799Z",
     "iopub.status.idle": "2024-06-04T19:36:23.689731Z",
     "shell.execute_reply": "2024-06-04T19:36:23.688791Z"
    },
    "papermill": {
     "duration": 0.136172,
     "end_time": "2024-06-04T19:36:23.692336",
     "exception": false,
     "start_time": "2024-06-04T19:36:23.556164",
     "status": "completed"
    },
    "tags": []
   },
   "outputs": [
    {
     "data": {
      "text/html": [
       "<div>\n",
       "<style scoped>\n",
       "    .dataframe tbody tr th:only-of-type {\n",
       "        vertical-align: middle;\n",
       "    }\n",
       "\n",
       "    .dataframe tbody tr th {\n",
       "        vertical-align: top;\n",
       "    }\n",
       "\n",
       "    .dataframe thead th {\n",
       "        text-align: right;\n",
       "    }\n",
       "</style>\n",
       "<table border=\"1\" class=\"dataframe\">\n",
       "  <thead>\n",
       "    <tr style=\"text-align: right;\">\n",
       "      <th></th>\n",
       "      <th>date</th>\n",
       "      <th>home_team</th>\n",
       "      <th>away_team</th>\n",
       "      <th>team</th>\n",
       "      <th>scorer</th>\n",
       "      <th>own_goal</th>\n",
       "      <th>penalty</th>\n",
       "    </tr>\n",
       "  </thead>\n",
       "  <tbody>\n",
       "    <tr>\n",
       "      <th>count</th>\n",
       "      <td>44110</td>\n",
       "      <td>44110</td>\n",
       "      <td>44110</td>\n",
       "      <td>44110</td>\n",
       "      <td>44060</td>\n",
       "      <td>44108</td>\n",
       "      <td>44108</td>\n",
       "    </tr>\n",
       "    <tr>\n",
       "      <th>unique</th>\n",
       "      <td>4599</td>\n",
       "      <td>220</td>\n",
       "      <td>220</td>\n",
       "      <td>220</td>\n",
       "      <td>14249</td>\n",
       "      <td>2</td>\n",
       "      <td>2</td>\n",
       "    </tr>\n",
       "    <tr>\n",
       "      <th>top</th>\n",
       "      <td>2011-10-11</td>\n",
       "      <td>Brazil</td>\n",
       "      <td>Uruguay</td>\n",
       "      <td>Brazil</td>\n",
       "      <td>Cristiano Ronaldo</td>\n",
       "      <td>False</td>\n",
       "      <td>False</td>\n",
       "    </tr>\n",
       "    <tr>\n",
       "      <th>freq</th>\n",
       "      <td>145</td>\n",
       "      <td>1021</td>\n",
       "      <td>782</td>\n",
       "      <td>1046</td>\n",
       "      <td>111</td>\n",
       "      <td>43302</td>\n",
       "      <td>41160</td>\n",
       "    </tr>\n",
       "  </tbody>\n",
       "</table>\n",
       "</div>"
      ],
      "text/plain": [
       "              date home_team away_team    team             scorer own_goal  \\\n",
       "count        44110     44110     44110   44110              44060    44108   \n",
       "unique        4599       220       220     220              14249        2   \n",
       "top     2011-10-11    Brazil   Uruguay  Brazil  Cristiano Ronaldo    False   \n",
       "freq           145      1021       782    1046                111    43302   \n",
       "\n",
       "       penalty  \n",
       "count    44108  \n",
       "unique       2  \n",
       "top      False  \n",
       "freq     41160  "
      ]
     },
     "execution_count": 8,
     "metadata": {},
     "output_type": "execute_result"
    }
   ],
   "source": [
    "gs.select_dtypes(include='object').describe()"
   ]
  },
  {
   "cell_type": "code",
   "execution_count": 9,
   "id": "5cc4240c",
   "metadata": {
    "execution": {
     "iopub.execute_input": "2024-06-04T19:36:23.733183Z",
     "iopub.status.busy": "2024-06-04T19:36:23.732784Z",
     "iopub.status.idle": "2024-06-04T19:36:23.775579Z",
     "shell.execute_reply": "2024-06-04T19:36:23.774388Z"
    },
    "papermill": {
     "duration": 0.065849,
     "end_time": "2024-06-04T19:36:23.778017",
     "exception": false,
     "start_time": "2024-06-04T19:36:23.712168",
     "status": "completed"
    },
    "tags": []
   },
   "outputs": [
    {
     "data": {
      "text/plain": [
       "date           0\n",
       "home_team      0\n",
       "away_team      0\n",
       "team           0\n",
       "scorer        50\n",
       "minute       263\n",
       "own_goal       2\n",
       "penalty        2\n",
       "dtype: int64"
      ]
     },
     "execution_count": 9,
     "metadata": {},
     "output_type": "execute_result"
    }
   ],
   "source": [
    "gs.isna().sum()"
   ]
  },
  {
   "cell_type": "code",
   "execution_count": 10,
   "id": "890a8ce3",
   "metadata": {
    "execution": {
     "iopub.execute_input": "2024-06-04T19:36:23.818176Z",
     "iopub.status.busy": "2024-06-04T19:36:23.817774Z",
     "iopub.status.idle": "2024-06-04T19:36:23.840862Z",
     "shell.execute_reply": "2024-06-04T19:36:23.840003Z"
    },
    "papermill": {
     "duration": 0.046158,
     "end_time": "2024-06-04T19:36:23.843401",
     "exception": false,
     "start_time": "2024-06-04T19:36:23.797243",
     "status": "completed"
    },
    "tags": []
   },
   "outputs": [],
   "source": [
    "gs['date'] = pd.to_datetime(gs['date'])\n",
    "gs['year'] = gs['date'].dt.year"
   ]
  },
  {
   "cell_type": "code",
   "execution_count": 11,
   "id": "985b2552",
   "metadata": {
    "execution": {
     "iopub.execute_input": "2024-06-04T19:36:23.883823Z",
     "iopub.status.busy": "2024-06-04T19:36:23.883392Z",
     "iopub.status.idle": "2024-06-04T19:36:23.894415Z",
     "shell.execute_reply": "2024-06-04T19:36:23.892997Z"
    },
    "papermill": {
     "duration": 0.034117,
     "end_time": "2024-06-04T19:36:23.896908",
     "exception": false,
     "start_time": "2024-06-04T19:36:23.862791",
     "status": "completed"
    },
    "tags": []
   },
   "outputs": [
    {
     "name": "stdout",
     "output_type": "stream",
     "text": [
      "<class 'pandas.core.series.Series'>\n",
      "RangeIndex: 44110 entries, 0 to 44109\n",
      "Series name: date\n",
      "Non-Null Count  Dtype         \n",
      "--------------  -----         \n",
      "44110 non-null  datetime64[ns]\n",
      "dtypes: datetime64[ns](1)\n",
      "memory usage: 344.7 KB\n"
     ]
    }
   ],
   "source": [
    "gs.date.info()"
   ]
  },
  {
   "cell_type": "markdown",
   "id": "89553611",
   "metadata": {
    "papermill": {
     "duration": 0.019096,
     "end_time": "2024-06-04T19:36:23.936088",
     "exception": false,
     "start_time": "2024-06-04T19:36:23.916992",
     "status": "completed"
    },
    "tags": []
   },
   "source": [
    "**Analysis**"
   ]
  },
  {
   "cell_type": "code",
   "execution_count": null,
   "id": "47dfdd29",
   "metadata": {
    "papermill": {
     "duration": 0.019038,
     "end_time": "2024-06-04T19:36:23.974324",
     "exception": false,
     "start_time": "2024-06-04T19:36:23.955286",
     "status": "completed"
    },
    "tags": []
   },
   "outputs": [],
   "source": []
  },
  {
   "cell_type": "markdown",
   "id": "8fd294ad",
   "metadata": {
    "papermill": {
     "duration": 0.018709,
     "end_time": "2024-06-04T19:36:24.012267",
     "exception": false,
     "start_time": "2024-06-04T19:36:23.993558",
     "status": "completed"
    },
    "tags": []
   },
   "source": [
    "# Which teams have played the most matches in the dataset?"
   ]
  },
  {
   "cell_type": "code",
   "execution_count": 12,
   "id": "410f8394",
   "metadata": {
    "execution": {
     "iopub.execute_input": "2024-06-04T19:36:24.052196Z",
     "iopub.status.busy": "2024-06-04T19:36:24.051780Z",
     "iopub.status.idle": "2024-06-04T19:36:24.072609Z",
     "shell.execute_reply": "2024-06-04T19:36:24.071628Z"
    },
    "papermill": {
     "duration": 0.043874,
     "end_time": "2024-06-04T19:36:24.075266",
     "exception": false,
     "start_time": "2024-06-04T19:36:24.031392",
     "status": "completed"
    },
    "tags": []
   },
   "outputs": [
    {
     "data": {
      "text/html": [
       "<div>\n",
       "<style scoped>\n",
       "    .dataframe tbody tr th:only-of-type {\n",
       "        vertical-align: middle;\n",
       "    }\n",
       "\n",
       "    .dataframe tbody tr th {\n",
       "        vertical-align: top;\n",
       "    }\n",
       "\n",
       "    .dataframe thead th {\n",
       "        text-align: right;\n",
       "    }\n",
       "</style>\n",
       "<table border=\"1\" class=\"dataframe\">\n",
       "  <thead>\n",
       "    <tr style=\"text-align: right;\">\n",
       "      <th></th>\n",
       "      <th>team</th>\n",
       "      <th>count</th>\n",
       "    </tr>\n",
       "  </thead>\n",
       "  <tbody>\n",
       "    <tr>\n",
       "      <th>0</th>\n",
       "      <td>Brazil</td>\n",
       "      <td>1046</td>\n",
       "    </tr>\n",
       "    <tr>\n",
       "      <th>1</th>\n",
       "      <td>Germany</td>\n",
       "      <td>963</td>\n",
       "    </tr>\n",
       "    <tr>\n",
       "      <th>2</th>\n",
       "      <td>Argentina</td>\n",
       "      <td>939</td>\n",
       "    </tr>\n",
       "    <tr>\n",
       "      <th>3</th>\n",
       "      <td>Spain</td>\n",
       "      <td>884</td>\n",
       "    </tr>\n",
       "    <tr>\n",
       "      <th>4</th>\n",
       "      <td>Netherlands</td>\n",
       "      <td>848</td>\n",
       "    </tr>\n",
       "    <tr>\n",
       "      <th>...</th>\n",
       "      <td>...</td>\n",
       "      <td>...</td>\n",
       "    </tr>\n",
       "    <tr>\n",
       "      <th>215</th>\n",
       "      <td>Eritrea</td>\n",
       "      <td>4</td>\n",
       "    </tr>\n",
       "    <tr>\n",
       "      <th>216</th>\n",
       "      <td>Somalia</td>\n",
       "      <td>3</td>\n",
       "    </tr>\n",
       "    <tr>\n",
       "      <th>217</th>\n",
       "      <td>Anguilla</td>\n",
       "      <td>2</td>\n",
       "    </tr>\n",
       "    <tr>\n",
       "      <th>218</th>\n",
       "      <td>South Sudan</td>\n",
       "      <td>2</td>\n",
       "    </tr>\n",
       "    <tr>\n",
       "      <th>219</th>\n",
       "      <td>French Guiana</td>\n",
       "      <td>2</td>\n",
       "    </tr>\n",
       "  </tbody>\n",
       "</table>\n",
       "<p>220 rows × 2 columns</p>\n",
       "</div>"
      ],
      "text/plain": [
       "              team  count\n",
       "0           Brazil   1046\n",
       "1          Germany    963\n",
       "2        Argentina    939\n",
       "3            Spain    884\n",
       "4      Netherlands    848\n",
       "..             ...    ...\n",
       "215        Eritrea      4\n",
       "216        Somalia      3\n",
       "217       Anguilla      2\n",
       "218    South Sudan      2\n",
       "219  French Guiana      2\n",
       "\n",
       "[220 rows x 2 columns]"
      ]
     },
     "execution_count": 12,
     "metadata": {},
     "output_type": "execute_result"
    }
   ],
   "source": [
    "gs['team'].value_counts(ascending=False).reset_index()"
   ]
  },
  {
   "cell_type": "code",
   "execution_count": 13,
   "id": "ed11ae05",
   "metadata": {
    "execution": {
     "iopub.execute_input": "2024-06-04T19:36:24.116419Z",
     "iopub.status.busy": "2024-06-04T19:36:24.115732Z",
     "iopub.status.idle": "2024-06-04T19:36:24.554433Z",
     "shell.execute_reply": "2024-06-04T19:36:24.553469Z"
    },
    "papermill": {
     "duration": 0.462448,
     "end_time": "2024-06-04T19:36:24.557371",
     "exception": false,
     "start_time": "2024-06-04T19:36:24.094923",
     "status": "completed"
    },
    "tags": []
   },
   "outputs": [
    {
     "data": {
      "image/png": "[encoded data removed]",
      "text/plain": [
       "<Figure size 1050x420 with 1 Axes>"
      ]
     },
     "metadata": {},
     "output_type": "display_data"
    }
   ],
   "source": [
    "match_played=gs['team'].value_counts(ascending=False).head(10)\n",
    "plt.figure(figsize=(15, 6), dpi=70)\n",
    "sns.barplot(x=match_played.values, y=match_played.index, palette='plasma')\n",
    "    \n",
    "plt.title('Most Matches Played by Top 10 Teams', fontsize=14)\n",
    "plt.xlabel('No.of Matches Played')\n",
    "plt.ylabel('Teams')\n",
    "plt.show()"
   ]
  },
  {
   "cell_type": "markdown",
   "id": "0072e41b",
   "metadata": {
    "papermill": {
     "duration": 0.020803,
     "end_time": "2024-06-04T19:36:24.603580",
     "exception": false,
     "start_time": "2024-06-04T19:36:24.582777",
     "status": "completed"
    },
    "tags": []
   },
   "source": [
    "# What is the distribution of matches played over the years?"
   ]
  },
  {
   "cell_type": "code",
   "execution_count": 14,
   "id": "dbd98380",
   "metadata": {
    "execution": {
     "iopub.execute_input": "2024-06-04T19:36:24.652993Z",
     "iopub.status.busy": "2024-06-04T19:36:24.652035Z",
     "iopub.status.idle": "2024-06-04T19:36:26.652212Z",
     "shell.execute_reply": "2024-06-04T19:36:26.651082Z"
    },
    "papermill": {
     "duration": 2.029938,
     "end_time": "2024-06-04T19:36:26.654892",
     "exception": false,
     "start_time": "2024-06-04T19:36:24.624954",
     "status": "completed"
    },
    "tags": []
   },
   "outputs": [
    {
     "data": {
      "image/png": "[encoded data removed]",
      "text/plain": [
       "<Figure size 1400x600 with 1 Axes>"
      ]
     },
     "metadata": {},
     "output_type": "display_data"
    }
   ],
   "source": [
    "matches_by_year = gs.groupby('year').size()\n",
    "plt.figure(figsize=(14, 6))\n",
    "matches_by_year.plot(kind='bar', color='orange')\n",
    "plt.title('Distribution of Matches Played Over the Years')\n",
    "plt.xlabel('Year')\n",
    "plt.ylabel('No. of Matches')\n",
    "plt.tight_layout()\n",
    "plt.show()"
   ]
  },
  {
   "cell_type": "markdown",
   "id": "8e34410e",
   "metadata": {
    "papermill": {
     "duration": 0.075597,
     "end_time": "2024-06-04T19:36:26.751859",
     "exception": false,
     "start_time": "2024-06-04T19:36:26.676262",
     "status": "completed"
    },
    "tags": []
   },
   "source": [
    "# How many matches resulted in own goals?"
   ]
  },
  {
   "cell_type": "code",
   "execution_count": 15,
   "id": "9e0203f0",
   "metadata": {
    "execution": {
     "iopub.execute_input": "2024-06-04T19:36:26.795023Z",
     "iopub.status.busy": "2024-06-04T19:36:26.794607Z",
     "iopub.status.idle": "2024-06-04T19:36:26.809590Z",
     "shell.execute_reply": "2024-06-04T19:36:26.808554Z"
    },
    "papermill": {
     "duration": 0.039206,
     "end_time": "2024-06-04T19:36:26.811870",
     "exception": false,
     "start_time": "2024-06-04T19:36:26.772664",
     "status": "completed"
    },
    "tags": []
   },
   "outputs": [
    {
     "data": {
      "text/plain": [
       "own_goal\n",
       "False    43302\n",
       "True       806\n",
       "Name: count, dtype: int64"
      ]
     },
     "execution_count": 15,
     "metadata": {},
     "output_type": "execute_result"
    }
   ],
   "source": [
    "gs['own_goal'].value_counts()"
   ]
  },
  {
   "cell_type": "code",
   "execution_count": 16,
   "id": "e1bdb744",
   "metadata": {
    "execution": {
     "iopub.execute_input": "2024-06-04T19:36:26.856202Z",
     "iopub.status.busy": "2024-06-04T19:36:26.855804Z",
     "iopub.status.idle": "2024-06-04T19:36:27.034503Z",
     "shell.execute_reply": "2024-06-04T19:36:27.032763Z"
    },
    "papermill": {
     "duration": 0.207475,
     "end_time": "2024-06-04T19:36:27.040805",
     "exception": false,
     "start_time": "2024-06-04T19:36:26.833330",
     "status": "completed"
    },
    "tags": []
   },
   "outputs": [
    {
     "data": {
      "image/png": "[encoded data removed]",
      "text/plain": [
       "<Figure size 640x480 with 1 Axes>"
      ]
     },
     "metadata": {},
     "output_type": "display_data"
    }
   ],
   "source": [
    "goals = gs['own_goal'].value_counts()\n",
    "plt.pie(goals.values, labels= goals.index, autopct='%1.1f%%', startangle=90, explode=[0, 0.1], colors=['turquoise', 'yellow'])\n",
    "plt.title('Distribution of own goal matches', size=10)\n",
    "plt.axis('equal')\n",
    "plt.show()"
   ]
  },
  {
   "cell_type": "markdown",
   "id": "04af3d31",
   "metadata": {
    "papermill": {
     "duration": 0.021463,
     "end_time": "2024-06-04T19:36:27.107486",
     "exception": false,
     "start_time": "2024-06-04T19:36:27.086023",
     "status": "completed"
    },
    "tags": []
   },
   "source": [
    "# Top Goal Scorer's "
   ]
  },
  {
   "cell_type": "code",
   "execution_count": 17,
   "id": "ee2b018c",
   "metadata": {
    "execution": {
     "iopub.execute_input": "2024-06-04T19:36:27.153108Z",
     "iopub.status.busy": "2024-06-04T19:36:27.152383Z",
     "iopub.status.idle": "2024-06-04T19:36:27.178246Z",
     "shell.execute_reply": "2024-06-04T19:36:27.177246Z"
    },
    "papermill": {
     "duration": 0.051293,
     "end_time": "2024-06-04T19:36:27.180579",
     "exception": false,
     "start_time": "2024-06-04T19:36:27.129286",
     "status": "completed"
    },
    "tags": []
   },
   "outputs": [
    {
     "data": {
      "text/html": [
       "<div>\n",
       "<style scoped>\n",
       "    .dataframe tbody tr th:only-of-type {\n",
       "        vertical-align: middle;\n",
       "    }\n",
       "\n",
       "    .dataframe tbody tr th {\n",
       "        vertical-align: top;\n",
       "    }\n",
       "\n",
       "    .dataframe thead th {\n",
       "        text-align: right;\n",
       "    }\n",
       "</style>\n",
       "<table border=\"1\" class=\"dataframe\">\n",
       "  <thead>\n",
       "    <tr style=\"text-align: right;\">\n",
       "      <th></th>\n",
       "      <th>scorer</th>\n",
       "      <th>count</th>\n",
       "    </tr>\n",
       "  </thead>\n",
       "  <tbody>\n",
       "    <tr>\n",
       "      <th>0</th>\n",
       "      <td>Cristiano Ronaldo</td>\n",
       "      <td>111</td>\n",
       "    </tr>\n",
       "    <tr>\n",
       "      <th>1</th>\n",
       "      <td>Robert Lewandowski</td>\n",
       "      <td>62</td>\n",
       "    </tr>\n",
       "    <tr>\n",
       "      <th>2</th>\n",
       "      <td>Romelu Lukaku</td>\n",
       "      <td>61</td>\n",
       "    </tr>\n",
       "    <tr>\n",
       "      <th>3</th>\n",
       "      <td>Harry Kane</td>\n",
       "      <td>55</td>\n",
       "    </tr>\n",
       "    <tr>\n",
       "      <th>4</th>\n",
       "      <td>Lionel Messi</td>\n",
       "      <td>54</td>\n",
       "    </tr>\n",
       "    <tr>\n",
       "      <th>...</th>\n",
       "      <td>...</td>\n",
       "      <td>...</td>\n",
       "    </tr>\n",
       "    <tr>\n",
       "      <th>14244</th>\n",
       "      <td>Martin Andresen</td>\n",
       "      <td>1</td>\n",
       "    </tr>\n",
       "    <tr>\n",
       "      <th>14245</th>\n",
       "      <td>Simen Brenne</td>\n",
       "      <td>1</td>\n",
       "    </tr>\n",
       "    <tr>\n",
       "      <th>14246</th>\n",
       "      <td>Zvezdan Cvetković</td>\n",
       "      <td>1</td>\n",
       "    </tr>\n",
       "    <tr>\n",
       "      <th>14247</th>\n",
       "      <td>Zvonko Živković</td>\n",
       "      <td>1</td>\n",
       "    </tr>\n",
       "    <tr>\n",
       "      <th>14248</th>\n",
       "      <td>Jassem Gaber</td>\n",
       "      <td>1</td>\n",
       "    </tr>\n",
       "  </tbody>\n",
       "</table>\n",
       "<p>14249 rows × 2 columns</p>\n",
       "</div>"
      ],
      "text/plain": [
       "                   scorer  count\n",
       "0       Cristiano Ronaldo    111\n",
       "1      Robert Lewandowski     62\n",
       "2           Romelu Lukaku     61\n",
       "3              Harry Kane     55\n",
       "4            Lionel Messi     54\n",
       "...                   ...    ...\n",
       "14244     Martin Andresen      1\n",
       "14245        Simen Brenne      1\n",
       "14246   Zvezdan Cvetković      1\n",
       "14247     Zvonko Živković      1\n",
       "14248        Jassem Gaber      1\n",
       "\n",
       "[14249 rows x 2 columns]"
      ]
     },
     "execution_count": 17,
     "metadata": {},
     "output_type": "execute_result"
    }
   ],
   "source": [
    "gs['scorer'].value_counts(ascending=False).reset_index()"
   ]
  },
  {
   "cell_type": "code",
   "execution_count": 18,
   "id": "92dc8240",
   "metadata": {
    "execution": {
     "iopub.execute_input": "2024-06-04T19:36:27.227245Z",
     "iopub.status.busy": "2024-06-04T19:36:27.226124Z",
     "iopub.status.idle": "2024-06-04T19:36:27.735134Z",
     "shell.execute_reply": "2024-06-04T19:36:27.734101Z"
    },
    "papermill": {
     "duration": 0.535275,
     "end_time": "2024-06-04T19:36:27.738005",
     "exception": false,
     "start_time": "2024-06-04T19:36:27.202730",
     "status": "completed"
    },
    "tags": []
   },
   "outputs": [
    {
     "data": {
      "image/png": "[encoded data removed]",
      "text/plain": [
       "<Figure size 1120x480 with 1 Axes>"
      ]
     },
     "metadata": {},
     "output_type": "display_data"
    }
   ],
   "source": [
    "top_gs = gs['scorer'].value_counts(ascending=False).head(15)\n",
    "plt.figure(figsize=(14,6), dpi=80)\n",
    "sns.barplot(x=top_gs.values, y=top_gs.index, palette='Reds_r')\n",
    "\n",
    "for i, v in enumerate(top_gs.values):\n",
    "    plt.text(x=v+0.5, y=i, s=str(v), fontsize=9, color='black', va='center')\n",
    "    \n",
    "plt.title('Top 15 Goal Scorer', fontsize=14)\n",
    "plt.xlabel('No.of goals scored')\n",
    "plt.ylabel('Player Name')\n",
    "plt.tight_layout()\n",
    "plt.show()"
   ]
  },
  {
   "cell_type": "markdown",
   "id": "65b561db",
   "metadata": {
    "papermill": {
     "duration": 0.021448,
     "end_time": "2024-06-04T19:36:27.781898",
     "exception": false,
     "start_time": "2024-06-04T19:36:27.760450",
     "status": "completed"
    },
    "tags": []
   },
   "source": [
    "# What is the frequency of penalty goals in matches?"
   ]
  },
  {
   "cell_type": "code",
   "execution_count": 19,
   "id": "d820539b",
   "metadata": {
    "execution": {
     "iopub.execute_input": "2024-06-04T19:36:27.829116Z",
     "iopub.status.busy": "2024-06-04T19:36:27.828371Z",
     "iopub.status.idle": "2024-06-04T19:36:27.846609Z",
     "shell.execute_reply": "2024-06-04T19:36:27.845294Z"
    },
    "papermill": {
     "duration": 0.044845,
     "end_time": "2024-06-04T19:36:27.848959",
     "exception": false,
     "start_time": "2024-06-04T19:36:27.804114",
     "status": "completed"
    },
    "tags": []
   },
   "outputs": [
    {
     "data": {
      "text/html": [
       "<div>\n",
       "<style scoped>\n",
       "    .dataframe tbody tr th:only-of-type {\n",
       "        vertical-align: middle;\n",
       "    }\n",
       "\n",
       "    .dataframe tbody tr th {\n",
       "        vertical-align: top;\n",
       "    }\n",
       "\n",
       "    .dataframe thead th {\n",
       "        text-align: right;\n",
       "    }\n",
       "</style>\n",
       "<table border=\"1\" class=\"dataframe\">\n",
       "  <thead>\n",
       "    <tr style=\"text-align: right;\">\n",
       "      <th></th>\n",
       "      <th>penalty</th>\n",
       "      <th>count</th>\n",
       "    </tr>\n",
       "  </thead>\n",
       "  <tbody>\n",
       "    <tr>\n",
       "      <th>0</th>\n",
       "      <td>False</td>\n",
       "      <td>41160</td>\n",
       "    </tr>\n",
       "    <tr>\n",
       "      <th>1</th>\n",
       "      <td>True</td>\n",
       "      <td>2948</td>\n",
       "    </tr>\n",
       "  </tbody>\n",
       "</table>\n",
       "</div>"
      ],
      "text/plain": [
       "   penalty  count\n",
       "0    False  41160\n",
       "1     True   2948"
      ]
     },
     "execution_count": 19,
     "metadata": {},
     "output_type": "execute_result"
    }
   ],
   "source": [
    "gs['penalty'].value_counts().reset_index()"
   ]
  },
  {
   "cell_type": "code",
   "execution_count": 20,
   "id": "60fc1776",
   "metadata": {
    "execution": {
     "iopub.execute_input": "2024-06-04T19:36:27.896918Z",
     "iopub.status.busy": "2024-06-04T19:36:27.896245Z",
     "iopub.status.idle": "2024-06-04T19:36:28.031806Z",
     "shell.execute_reply": "2024-06-04T19:36:28.030650Z"
    },
    "papermill": {
     "duration": 0.164925,
     "end_time": "2024-06-04T19:36:28.036882",
     "exception": false,
     "start_time": "2024-06-04T19:36:27.871957",
     "status": "completed"
    },
    "tags": []
   },
   "outputs": [
    {
     "data": {
      "image/png": "[encoded data removed]",
      "text/plain": [
       "<Figure size 640x480 with 1 Axes>"
      ]
     },
     "metadata": {},
     "output_type": "display_data"
    }
   ],
   "source": [
    "pen = gs['penalty'].value_counts()\n",
    "plt.pie(pen.values, labels= pen.index, autopct='%1.1f%%', startangle=90, explode=[0, 0.1], colors=['lime', 'orange'])\n",
    "plt.title('Distribution of penalty goals in matches', size=10)\n",
    "plt.axis('equal')\n",
    "plt.show()"
   ]
  },
  {
   "cell_type": "code",
   "execution_count": 21,
   "id": "221bfbbb",
   "metadata": {
    "execution": {
     "iopub.execute_input": "2024-06-04T19:36:28.126299Z",
     "iopub.status.busy": "2024-06-04T19:36:28.125902Z",
     "iopub.status.idle": "2024-06-04T19:36:28.195923Z",
     "shell.execute_reply": "2024-06-04T19:36:28.194929Z"
    },
    "papermill": {
     "duration": 0.111692,
     "end_time": "2024-06-04T19:36:28.198331",
     "exception": false,
     "start_time": "2024-06-04T19:36:28.086639",
     "status": "completed"
    },
    "tags": []
   },
   "outputs": [
    {
     "data": {
      "text/html": [
       "<div>\n",
       "<style scoped>\n",
       "    .dataframe tbody tr th:only-of-type {\n",
       "        vertical-align: middle;\n",
       "    }\n",
       "\n",
       "    .dataframe tbody tr th {\n",
       "        vertical-align: top;\n",
       "    }\n",
       "\n",
       "    .dataframe thead th {\n",
       "        text-align: right;\n",
       "    }\n",
       "</style>\n",
       "<table border=\"1\" class=\"dataframe\">\n",
       "  <thead>\n",
       "    <tr style=\"text-align: right;\">\n",
       "      <th></th>\n",
       "      <th>scorer</th>\n",
       "      <th>penalty</th>\n",
       "    </tr>\n",
       "  </thead>\n",
       "  <tbody>\n",
       "    <tr>\n",
       "      <th>0</th>\n",
       "      <td>Cristiano Ronaldo</td>\n",
       "      <td>19</td>\n",
       "    </tr>\n",
       "    <tr>\n",
       "      <th>1</th>\n",
       "      <td>Harry Kane</td>\n",
       "      <td>19</td>\n",
       "    </tr>\n",
       "    <tr>\n",
       "      <th>2</th>\n",
       "      <td>Lionel Messi</td>\n",
       "      <td>14</td>\n",
       "    </tr>\n",
       "    <tr>\n",
       "      <th>3</th>\n",
       "      <td>Hristo Stoichkov</td>\n",
       "      <td>13</td>\n",
       "    </tr>\n",
       "    <tr>\n",
       "      <th>4</th>\n",
       "      <td>Robert Lewandowski</td>\n",
       "      <td>12</td>\n",
       "    </tr>\n",
       "    <tr>\n",
       "      <th>...</th>\n",
       "      <td>...</td>\n",
       "      <td>...</td>\n",
       "    </tr>\n",
       "    <tr>\n",
       "      <th>14244</th>\n",
       "      <td>Han Peng</td>\n",
       "      <td>0</td>\n",
       "    </tr>\n",
       "    <tr>\n",
       "      <th>14245</th>\n",
       "      <td>Hani Al Saqer</td>\n",
       "      <td>0</td>\n",
       "    </tr>\n",
       "    <tr>\n",
       "      <th>14246</th>\n",
       "      <td>Hannes Löhr</td>\n",
       "      <td>0</td>\n",
       "    </tr>\n",
       "    <tr>\n",
       "      <th>14247</th>\n",
       "      <td>Hannes Reinmayr</td>\n",
       "      <td>0</td>\n",
       "    </tr>\n",
       "    <tr>\n",
       "      <th>14248</th>\n",
       "      <td>Ștefan Iovan</td>\n",
       "      <td>0</td>\n",
       "    </tr>\n",
       "  </tbody>\n",
       "</table>\n",
       "<p>14249 rows × 2 columns</p>\n",
       "</div>"
      ],
      "text/plain": [
       "                   scorer penalty\n",
       "0       Cristiano Ronaldo      19\n",
       "1              Harry Kane      19\n",
       "2            Lionel Messi      14\n",
       "3        Hristo Stoichkov      13\n",
       "4      Robert Lewandowski      12\n",
       "...                   ...     ...\n",
       "14244            Han Peng       0\n",
       "14245       Hani Al Saqer       0\n",
       "14246         Hannes Löhr       0\n",
       "14247     Hannes Reinmayr       0\n",
       "14248        Ștefan Iovan       0\n",
       "\n",
       "[14249 rows x 2 columns]"
      ]
     },
     "execution_count": 21,
     "metadata": {},
     "output_type": "execute_result"
    }
   ],
   "source": [
    "gs.groupby('scorer')['penalty'].sum().sort_values(ascending=False).reset_index()"
   ]
  },
  {
   "cell_type": "code",
   "execution_count": 22,
   "id": "76423c59",
   "metadata": {
    "execution": {
     "iopub.execute_input": "2024-06-04T19:36:28.247592Z",
     "iopub.status.busy": "2024-06-04T19:36:28.247191Z",
     "iopub.status.idle": "2024-06-04T19:36:28.266933Z",
     "shell.execute_reply": "2024-06-04T19:36:28.265492Z"
    },
    "papermill": {
     "duration": 0.047357,
     "end_time": "2024-06-04T19:36:28.269430",
     "exception": false,
     "start_time": "2024-06-04T19:36:28.222073",
     "status": "completed"
    },
    "tags": []
   },
   "outputs": [
    {
     "data": {
      "text/html": [
       "<div>\n",
       "<style scoped>\n",
       "    .dataframe tbody tr th:only-of-type {\n",
       "        vertical-align: middle;\n",
       "    }\n",
       "\n",
       "    .dataframe tbody tr th {\n",
       "        vertical-align: top;\n",
       "    }\n",
       "\n",
       "    .dataframe thead th {\n",
       "        text-align: right;\n",
       "    }\n",
       "</style>\n",
       "<table border=\"1\" class=\"dataframe\">\n",
       "  <thead>\n",
       "    <tr style=\"text-align: right;\">\n",
       "      <th></th>\n",
       "      <th>date</th>\n",
       "      <th>home_team</th>\n",
       "      <th>away_team</th>\n",
       "      <th>team</th>\n",
       "      <th>scorer</th>\n",
       "      <th>minute</th>\n",
       "      <th>own_goal</th>\n",
       "      <th>penalty</th>\n",
       "      <th>year</th>\n",
       "    </tr>\n",
       "  </thead>\n",
       "  <tbody>\n",
       "    <tr>\n",
       "      <th>0</th>\n",
       "      <td>1916-07-02</td>\n",
       "      <td>Chile</td>\n",
       "      <td>Uruguay</td>\n",
       "      <td>Uruguay</td>\n",
       "      <td>José Piendibene</td>\n",
       "      <td>44.0</td>\n",
       "      <td>False</td>\n",
       "      <td>False</td>\n",
       "      <td>1916</td>\n",
       "    </tr>\n",
       "    <tr>\n",
       "      <th>1</th>\n",
       "      <td>1916-07-02</td>\n",
       "      <td>Chile</td>\n",
       "      <td>Uruguay</td>\n",
       "      <td>Uruguay</td>\n",
       "      <td>Isabelino Gradín</td>\n",
       "      <td>55.0</td>\n",
       "      <td>False</td>\n",
       "      <td>False</td>\n",
       "      <td>1916</td>\n",
       "    </tr>\n",
       "    <tr>\n",
       "      <th>2</th>\n",
       "      <td>1916-07-02</td>\n",
       "      <td>Chile</td>\n",
       "      <td>Uruguay</td>\n",
       "      <td>Uruguay</td>\n",
       "      <td>Isabelino Gradín</td>\n",
       "      <td>70.0</td>\n",
       "      <td>False</td>\n",
       "      <td>False</td>\n",
       "      <td>1916</td>\n",
       "    </tr>\n",
       "    <tr>\n",
       "      <th>3</th>\n",
       "      <td>1916-07-02</td>\n",
       "      <td>Chile</td>\n",
       "      <td>Uruguay</td>\n",
       "      <td>Uruguay</td>\n",
       "      <td>José Piendibene</td>\n",
       "      <td>75.0</td>\n",
       "      <td>False</td>\n",
       "      <td>False</td>\n",
       "      <td>1916</td>\n",
       "    </tr>\n",
       "    <tr>\n",
       "      <th>4</th>\n",
       "      <td>1916-07-06</td>\n",
       "      <td>Argentina</td>\n",
       "      <td>Chile</td>\n",
       "      <td>Argentina</td>\n",
       "      <td>Alberto Ohaco</td>\n",
       "      <td>2.0</td>\n",
       "      <td>False</td>\n",
       "      <td>False</td>\n",
       "      <td>1916</td>\n",
       "    </tr>\n",
       "    <tr>\n",
       "      <th>...</th>\n",
       "      <td>...</td>\n",
       "      <td>...</td>\n",
       "      <td>...</td>\n",
       "      <td>...</td>\n",
       "      <td>...</td>\n",
       "      <td>...</td>\n",
       "      <td>...</td>\n",
       "      <td>...</td>\n",
       "      <td>...</td>\n",
       "    </tr>\n",
       "    <tr>\n",
       "      <th>44105</th>\n",
       "      <td>2024-02-10</td>\n",
       "      <td>Qatar</td>\n",
       "      <td>Jordan</td>\n",
       "      <td>Qatar</td>\n",
       "      <td>Akram Afif</td>\n",
       "      <td>73.0</td>\n",
       "      <td>False</td>\n",
       "      <td>True</td>\n",
       "      <td>2024</td>\n",
       "    </tr>\n",
       "    <tr>\n",
       "      <th>44106</th>\n",
       "      <td>2024-02-10</td>\n",
       "      <td>Qatar</td>\n",
       "      <td>Jordan</td>\n",
       "      <td>Qatar</td>\n",
       "      <td>Akram Afif</td>\n",
       "      <td>90.0</td>\n",
       "      <td>False</td>\n",
       "      <td>True</td>\n",
       "      <td>2024</td>\n",
       "    </tr>\n",
       "    <tr>\n",
       "      <th>44107</th>\n",
       "      <td>2024-02-11</td>\n",
       "      <td>Ivory Coast</td>\n",
       "      <td>Nigeria</td>\n",
       "      <td>Nigeria</td>\n",
       "      <td>William Troost-Ekong</td>\n",
       "      <td>38.0</td>\n",
       "      <td>False</td>\n",
       "      <td>False</td>\n",
       "      <td>2024</td>\n",
       "    </tr>\n",
       "    <tr>\n",
       "      <th>44108</th>\n",
       "      <td>2024-02-11</td>\n",
       "      <td>Ivory Coast</td>\n",
       "      <td>Nigeria</td>\n",
       "      <td>Ivory Coast</td>\n",
       "      <td>Franck Kessié</td>\n",
       "      <td>62.0</td>\n",
       "      <td>False</td>\n",
       "      <td>False</td>\n",
       "      <td>2024</td>\n",
       "    </tr>\n",
       "    <tr>\n",
       "      <th>44109</th>\n",
       "      <td>2024-02-11</td>\n",
       "      <td>Ivory Coast</td>\n",
       "      <td>Nigeria</td>\n",
       "      <td>Ivory Coast</td>\n",
       "      <td>Sébastien Haller</td>\n",
       "      <td>81.0</td>\n",
       "      <td>False</td>\n",
       "      <td>False</td>\n",
       "      <td>2024</td>\n",
       "    </tr>\n",
       "  </tbody>\n",
       "</table>\n",
       "<p>44110 rows × 9 columns</p>\n",
       "</div>"
      ],
      "text/plain": [
       "            date    home_team away_team         team                scorer  \\\n",
       "0     1916-07-02        Chile   Uruguay      Uruguay       José Piendibene   \n",
       "1     1916-07-02        Chile   Uruguay      Uruguay      Isabelino Gradín   \n",
       "2     1916-07-02        Chile   Uruguay      Uruguay      Isabelino Gradín   \n",
       "3     1916-07-02        Chile   Uruguay      Uruguay       José Piendibene   \n",
       "4     1916-07-06    Argentina     Chile    Argentina         Alberto Ohaco   \n",
       "...          ...          ...       ...          ...                   ...   \n",
       "44105 2024-02-10        Qatar    Jordan        Qatar            Akram Afif   \n",
       "44106 2024-02-10        Qatar    Jordan        Qatar            Akram Afif   \n",
       "44107 2024-02-11  Ivory Coast   Nigeria      Nigeria  William Troost-Ekong   \n",
       "44108 2024-02-11  Ivory Coast   Nigeria  Ivory Coast         Franck Kessié   \n",
       "44109 2024-02-11  Ivory Coast   Nigeria  Ivory Coast      Sébastien Haller   \n",
       "\n",
       "       minute own_goal penalty  year  \n",
       "0        44.0    False   False  1916  \n",
       "1        55.0    False   False  1916  \n",
       "2        70.0    False   False  1916  \n",
       "3        75.0    False   False  1916  \n",
       "4         2.0    False   False  1916  \n",
       "...       ...      ...     ...   ...  \n",
       "44105    73.0    False    True  2024  \n",
       "44106    90.0    False    True  2024  \n",
       "44107    38.0    False   False  2024  \n",
       "44108    62.0    False   False  2024  \n",
       "44109    81.0    False   False  2024  \n",
       "\n",
       "[44110 rows x 9 columns]"
      ]
     },
     "execution_count": 22,
     "metadata": {},
     "output_type": "execute_result"
    }
   ],
   "source": [
    "gs"
   ]
  },
  {
   "cell_type": "markdown",
   "id": "220e2abc",
   "metadata": {
    "papermill": {
     "duration": 0.023809,
     "end_time": "2024-06-04T19:36:28.317767",
     "exception": false,
     "start_time": "2024-06-04T19:36:28.293958",
     "status": "completed"
    },
    "tags": []
   },
   "source": [
    "# Analysis of results.csv"
   ]
  },
  {
   "cell_type": "code",
   "execution_count": 23,
   "id": "d81b0de7",
   "metadata": {
    "execution": {
     "iopub.execute_input": "2024-06-04T19:36:28.368597Z",
     "iopub.status.busy": "2024-06-04T19:36:28.368208Z",
     "iopub.status.idle": "2024-06-04T19:36:28.388012Z",
     "shell.execute_reply": "2024-06-04T19:36:28.386938Z"
    },
    "papermill": {
     "duration": 0.048514,
     "end_time": "2024-06-04T19:36:28.390402",
     "exception": false,
     "start_time": "2024-06-04T19:36:28.341888",
     "status": "completed"
    },
    "tags": []
   },
   "outputs": [
    {
     "data": {
      "text/html": [
       "<div>\n",
       "<style scoped>\n",
       "    .dataframe tbody tr th:only-of-type {\n",
       "        vertical-align: middle;\n",
       "    }\n",
       "\n",
       "    .dataframe tbody tr th {\n",
       "        vertical-align: top;\n",
       "    }\n",
       "\n",
       "    .dataframe thead th {\n",
       "        text-align: right;\n",
       "    }\n",
       "</style>\n",
       "<table border=\"1\" class=\"dataframe\">\n",
       "  <thead>\n",
       "    <tr style=\"text-align: right;\">\n",
       "      <th></th>\n",
       "      <th>date</th>\n",
       "      <th>home_team</th>\n",
       "      <th>away_team</th>\n",
       "      <th>home_score</th>\n",
       "      <th>away_score</th>\n",
       "      <th>tournament</th>\n",
       "      <th>city</th>\n",
       "      <th>country</th>\n",
       "      <th>neutral</th>\n",
       "    </tr>\n",
       "  </thead>\n",
       "  <tbody>\n",
       "    <tr>\n",
       "      <th>0</th>\n",
       "      <td>1872-11-30</td>\n",
       "      <td>Scotland</td>\n",
       "      <td>England</td>\n",
       "      <td>0.0</td>\n",
       "      <td>0.0</td>\n",
       "      <td>Friendly</td>\n",
       "      <td>Glasgow</td>\n",
       "      <td>Scotland</td>\n",
       "      <td>False</td>\n",
       "    </tr>\n",
       "    <tr>\n",
       "      <th>1</th>\n",
       "      <td>1873-03-08</td>\n",
       "      <td>England</td>\n",
       "      <td>Scotland</td>\n",
       "      <td>4.0</td>\n",
       "      <td>2.0</td>\n",
       "      <td>Friendly</td>\n",
       "      <td>London</td>\n",
       "      <td>England</td>\n",
       "      <td>False</td>\n",
       "    </tr>\n",
       "    <tr>\n",
       "      <th>2</th>\n",
       "      <td>1874-03-07</td>\n",
       "      <td>Scotland</td>\n",
       "      <td>England</td>\n",
       "      <td>2.0</td>\n",
       "      <td>1.0</td>\n",
       "      <td>Friendly</td>\n",
       "      <td>Glasgow</td>\n",
       "      <td>Scotland</td>\n",
       "      <td>False</td>\n",
       "    </tr>\n",
       "    <tr>\n",
       "      <th>3</th>\n",
       "      <td>1875-03-06</td>\n",
       "      <td>England</td>\n",
       "      <td>Scotland</td>\n",
       "      <td>2.0</td>\n",
       "      <td>2.0</td>\n",
       "      <td>Friendly</td>\n",
       "      <td>London</td>\n",
       "      <td>England</td>\n",
       "      <td>False</td>\n",
       "    </tr>\n",
       "    <tr>\n",
       "      <th>4</th>\n",
       "      <td>1876-03-04</td>\n",
       "      <td>Scotland</td>\n",
       "      <td>England</td>\n",
       "      <td>3.0</td>\n",
       "      <td>0.0</td>\n",
       "      <td>Friendly</td>\n",
       "      <td>Glasgow</td>\n",
       "      <td>Scotland</td>\n",
       "      <td>False</td>\n",
       "    </tr>\n",
       "    <tr>\n",
       "      <th>...</th>\n",
       "      <td>...</td>\n",
       "      <td>...</td>\n",
       "      <td>...</td>\n",
       "      <td>...</td>\n",
       "      <td>...</td>\n",
       "      <td>...</td>\n",
       "      <td>...</td>\n",
       "      <td>...</td>\n",
       "      <td>...</td>\n",
       "    </tr>\n",
       "    <tr>\n",
       "      <th>47121</th>\n",
       "      <td>2024-07-06</td>\n",
       "      <td>NaN</td>\n",
       "      <td>NaN</td>\n",
       "      <td>NaN</td>\n",
       "      <td>NaN</td>\n",
       "      <td>UEFA Euro</td>\n",
       "      <td>Düsseldorf</td>\n",
       "      <td>Germany</td>\n",
       "      <td>True</td>\n",
       "    </tr>\n",
       "    <tr>\n",
       "      <th>47122</th>\n",
       "      <td>2024-07-06</td>\n",
       "      <td>NaN</td>\n",
       "      <td>NaN</td>\n",
       "      <td>NaN</td>\n",
       "      <td>NaN</td>\n",
       "      <td>UEFA Euro</td>\n",
       "      <td>Berlin</td>\n",
       "      <td>Germany</td>\n",
       "      <td>True</td>\n",
       "    </tr>\n",
       "    <tr>\n",
       "      <th>47123</th>\n",
       "      <td>2024-07-09</td>\n",
       "      <td>NaN</td>\n",
       "      <td>NaN</td>\n",
       "      <td>NaN</td>\n",
       "      <td>NaN</td>\n",
       "      <td>UEFA Euro</td>\n",
       "      <td>Munich</td>\n",
       "      <td>Germany</td>\n",
       "      <td>True</td>\n",
       "    </tr>\n",
       "    <tr>\n",
       "      <th>47124</th>\n",
       "      <td>2024-07-10</td>\n",
       "      <td>NaN</td>\n",
       "      <td>NaN</td>\n",
       "      <td>NaN</td>\n",
       "      <td>NaN</td>\n",
       "      <td>UEFA Euro</td>\n",
       "      <td>Dortmund</td>\n",
       "      <td>Germany</td>\n",
       "      <td>True</td>\n",
       "    </tr>\n",
       "    <tr>\n",
       "      <th>47125</th>\n",
       "      <td>2024-07-14</td>\n",
       "      <td>NaN</td>\n",
       "      <td>NaN</td>\n",
       "      <td>NaN</td>\n",
       "      <td>NaN</td>\n",
       "      <td>UEFA Euro</td>\n",
       "      <td>Berlin</td>\n",
       "      <td>Germany</td>\n",
       "      <td>True</td>\n",
       "    </tr>\n",
       "  </tbody>\n",
       "</table>\n",
       "<p>47126 rows × 9 columns</p>\n",
       "</div>"
      ],
      "text/plain": [
       "             date home_team away_team  home_score  away_score tournament  \\\n",
       "0      1872-11-30  Scotland   England         0.0         0.0   Friendly   \n",
       "1      1873-03-08   England  Scotland         4.0         2.0   Friendly   \n",
       "2      1874-03-07  Scotland   England         2.0         1.0   Friendly   \n",
       "3      1875-03-06   England  Scotland         2.0         2.0   Friendly   \n",
       "4      1876-03-04  Scotland   England         3.0         0.0   Friendly   \n",
       "...           ...       ...       ...         ...         ...        ...   \n",
       "47121  2024-07-06       NaN       NaN         NaN         NaN  UEFA Euro   \n",
       "47122  2024-07-06       NaN       NaN         NaN         NaN  UEFA Euro   \n",
       "47123  2024-07-09       NaN       NaN         NaN         NaN  UEFA Euro   \n",
       "47124  2024-07-10       NaN       NaN         NaN         NaN  UEFA Euro   \n",
       "47125  2024-07-14       NaN       NaN         NaN         NaN  UEFA Euro   \n",
       "\n",
       "             city   country  neutral  \n",
       "0         Glasgow  Scotland    False  \n",
       "1          London   England    False  \n",
       "2         Glasgow  Scotland    False  \n",
       "3          London   England    False  \n",
       "4         Glasgow  Scotland    False  \n",
       "...           ...       ...      ...  \n",
       "47121  Düsseldorf   Germany     True  \n",
       "47122      Berlin   Germany     True  \n",
       "47123      Munich   Germany     True  \n",
       "47124    Dortmund   Germany     True  \n",
       "47125      Berlin   Germany     True  \n",
       "\n",
       "[47126 rows x 9 columns]"
      ]
     },
     "execution_count": 23,
     "metadata": {},
     "output_type": "execute_result"
    }
   ],
   "source": [
    "rs"
   ]
  },
  {
   "cell_type": "code",
   "execution_count": 24,
   "id": "87b6b9f8",
   "metadata": {
    "execution": {
     "iopub.execute_input": "2024-06-04T19:36:28.441707Z",
     "iopub.status.busy": "2024-06-04T19:36:28.441293Z",
     "iopub.status.idle": "2024-06-04T19:36:28.484015Z",
     "shell.execute_reply": "2024-06-04T19:36:28.482739Z"
    },
    "papermill": {
     "duration": 0.07136,
     "end_time": "2024-06-04T19:36:28.486323",
     "exception": false,
     "start_time": "2024-06-04T19:36:28.414963",
     "status": "completed"
    },
    "tags": []
   },
   "outputs": [
    {
     "name": "stdout",
     "output_type": "stream",
     "text": [
      "<class 'pandas.core.frame.DataFrame'>\n",
      "RangeIndex: 47126 entries, 0 to 47125\n",
      "Data columns (total 9 columns):\n",
      " #   Column      Non-Null Count  Dtype  \n",
      "---  ------      --------------  -----  \n",
      " 0   date        47126 non-null  object \n",
      " 1   home_team   47111 non-null  object \n",
      " 2   away_team   47111 non-null  object \n",
      " 3   home_score  47075 non-null  float64\n",
      " 4   away_score  47075 non-null  float64\n",
      " 5   tournament  47126 non-null  object \n",
      " 6   city        47126 non-null  object \n",
      " 7   country     47126 non-null  object \n",
      " 8   neutral     47126 non-null  bool   \n",
      "dtypes: bool(1), float64(2), object(6)\n",
      "memory usage: 2.9+ MB\n"
     ]
    }
   ],
   "source": [
    "rs.info()"
   ]
  },
  {
   "cell_type": "code",
   "execution_count": 25,
   "id": "9bb8c390",
   "metadata": {
    "execution": {
     "iopub.execute_input": "2024-06-04T19:36:28.538074Z",
     "iopub.status.busy": "2024-06-04T19:36:28.537656Z",
     "iopub.status.idle": "2024-06-04T19:36:28.544431Z",
     "shell.execute_reply": "2024-06-04T19:36:28.543452Z"
    },
    "papermill": {
     "duration": 0.034967,
     "end_time": "2024-06-04T19:36:28.546746",
     "exception": false,
     "start_time": "2024-06-04T19:36:28.511779",
     "status": "completed"
    },
    "tags": []
   },
   "outputs": [
    {
     "data": {
      "text/plain": [
       "Index(['date', 'home_team', 'away_team', 'home_score', 'away_score',\n",
       "       'tournament', 'city', 'country', 'neutral'],\n",
       "      dtype='object')"
      ]
     },
     "execution_count": 25,
     "metadata": {},
     "output_type": "execute_result"
    }
   ],
   "source": [
    "rs.columns"
   ]
  },
  {
   "cell_type": "code",
   "execution_count": 26,
   "id": "6817e1df",
   "metadata": {
    "execution": {
     "iopub.execute_input": "2024-06-04T19:36:28.598319Z",
     "iopub.status.busy": "2024-06-04T19:36:28.597928Z",
     "iopub.status.idle": "2024-06-04T19:36:28.604349Z",
     "shell.execute_reply": "2024-06-04T19:36:28.603408Z"
    },
    "papermill": {
     "duration": 0.034752,
     "end_time": "2024-06-04T19:36:28.606705",
     "exception": false,
     "start_time": "2024-06-04T19:36:28.571953",
     "status": "completed"
    },
    "tags": []
   },
   "outputs": [
    {
     "data": {
      "text/plain": [
       "(47126, 9)"
      ]
     },
     "execution_count": 26,
     "metadata": {},
     "output_type": "execute_result"
    }
   ],
   "source": [
    "rs.shape"
   ]
  },
  {
   "cell_type": "code",
   "execution_count": 27,
   "id": "50867cf7",
   "metadata": {
    "execution": {
     "iopub.execute_input": "2024-06-04T19:36:28.658593Z",
     "iopub.status.busy": "2024-06-04T19:36:28.657646Z",
     "iopub.status.idle": "2024-06-04T19:36:28.678494Z",
     "shell.execute_reply": "2024-06-04T19:36:28.677460Z"
    },
    "papermill": {
     "duration": 0.049446,
     "end_time": "2024-06-04T19:36:28.681036",
     "exception": false,
     "start_time": "2024-06-04T19:36:28.631590",
     "status": "completed"
    },
    "tags": []
   },
   "outputs": [
    {
     "data": {
      "text/html": [
       "<div>\n",
       "<style scoped>\n",
       "    .dataframe tbody tr th:only-of-type {\n",
       "        vertical-align: middle;\n",
       "    }\n",
       "\n",
       "    .dataframe tbody tr th {\n",
       "        vertical-align: top;\n",
       "    }\n",
       "\n",
       "    .dataframe thead th {\n",
       "        text-align: right;\n",
       "    }\n",
       "</style>\n",
       "<table border=\"1\" class=\"dataframe\">\n",
       "  <thead>\n",
       "    <tr style=\"text-align: right;\">\n",
       "      <th></th>\n",
       "      <th>home_score</th>\n",
       "      <th>away_score</th>\n",
       "    </tr>\n",
       "  </thead>\n",
       "  <tbody>\n",
       "    <tr>\n",
       "      <th>count</th>\n",
       "      <td>47075.000000</td>\n",
       "      <td>47075.000000</td>\n",
       "    </tr>\n",
       "    <tr>\n",
       "      <th>mean</th>\n",
       "      <td>1.761190</td>\n",
       "      <td>1.183452</td>\n",
       "    </tr>\n",
       "    <tr>\n",
       "      <th>std</th>\n",
       "      <td>1.776751</td>\n",
       "      <td>1.402597</td>\n",
       "    </tr>\n",
       "    <tr>\n",
       "      <th>min</th>\n",
       "      <td>0.000000</td>\n",
       "      <td>0.000000</td>\n",
       "    </tr>\n",
       "    <tr>\n",
       "      <th>25%</th>\n",
       "      <td>1.000000</td>\n",
       "      <td>0.000000</td>\n",
       "    </tr>\n",
       "    <tr>\n",
       "      <th>50%</th>\n",
       "      <td>1.000000</td>\n",
       "      <td>1.000000</td>\n",
       "    </tr>\n",
       "    <tr>\n",
       "      <th>75%</th>\n",
       "      <td>2.000000</td>\n",
       "      <td>2.000000</td>\n",
       "    </tr>\n",
       "    <tr>\n",
       "      <th>max</th>\n",
       "      <td>31.000000</td>\n",
       "      <td>21.000000</td>\n",
       "    </tr>\n",
       "  </tbody>\n",
       "</table>\n",
       "</div>"
      ],
      "text/plain": [
       "         home_score    away_score\n",
       "count  47075.000000  47075.000000\n",
       "mean       1.761190      1.183452\n",
       "std        1.776751      1.402597\n",
       "min        0.000000      0.000000\n",
       "25%        1.000000      0.000000\n",
       "50%        1.000000      1.000000\n",
       "75%        2.000000      2.000000\n",
       "max       31.000000     21.000000"
      ]
     },
     "execution_count": 27,
     "metadata": {},
     "output_type": "execute_result"
    }
   ],
   "source": [
    "rs.describe()"
   ]
  },
  {
   "cell_type": "code",
   "execution_count": 28,
   "id": "8de317a7",
   "metadata": {
    "execution": {
     "iopub.execute_input": "2024-06-04T19:36:28.733529Z",
     "iopub.status.busy": "2024-06-04T19:36:28.732600Z",
     "iopub.status.idle": "2024-06-04T19:36:28.836165Z",
     "shell.execute_reply": "2024-06-04T19:36:28.835142Z"
    },
    "papermill": {
     "duration": 0.13253,
     "end_time": "2024-06-04T19:36:28.838728",
     "exception": false,
     "start_time": "2024-06-04T19:36:28.706198",
     "status": "completed"
    },
    "tags": []
   },
   "outputs": [
    {
     "data": {
      "text/html": [
       "<div>\n",
       "<style scoped>\n",
       "    .dataframe tbody tr th:only-of-type {\n",
       "        vertical-align: middle;\n",
       "    }\n",
       "\n",
       "    .dataframe tbody tr th {\n",
       "        vertical-align: top;\n",
       "    }\n",
       "\n",
       "    .dataframe thead th {\n",
       "        text-align: right;\n",
       "    }\n",
       "</style>\n",
       "<table border=\"1\" class=\"dataframe\">\n",
       "  <thead>\n",
       "    <tr style=\"text-align: right;\">\n",
       "      <th></th>\n",
       "      <th>date</th>\n",
       "      <th>home_team</th>\n",
       "      <th>away_team</th>\n",
       "      <th>tournament</th>\n",
       "      <th>city</th>\n",
       "      <th>country</th>\n",
       "    </tr>\n",
       "  </thead>\n",
       "  <tbody>\n",
       "    <tr>\n",
       "      <th>count</th>\n",
       "      <td>47126</td>\n",
       "      <td>47111</td>\n",
       "      <td>47111</td>\n",
       "      <td>47126</td>\n",
       "      <td>47126</td>\n",
       "      <td>47126</td>\n",
       "    </tr>\n",
       "    <tr>\n",
       "      <th>unique</th>\n",
       "      <td>16180</td>\n",
       "      <td>328</td>\n",
       "      <td>323</td>\n",
       "      <td>174</td>\n",
       "      <td>2058</td>\n",
       "      <td>271</td>\n",
       "    </tr>\n",
       "    <tr>\n",
       "      <th>top</th>\n",
       "      <td>2012-02-29</td>\n",
       "      <td>Brazil</td>\n",
       "      <td>Uruguay</td>\n",
       "      <td>Friendly</td>\n",
       "      <td>Kuala Lumpur</td>\n",
       "      <td>United States</td>\n",
       "    </tr>\n",
       "    <tr>\n",
       "      <th>freq</th>\n",
       "      <td>66</td>\n",
       "      <td>600</td>\n",
       "      <td>567</td>\n",
       "      <td>17902</td>\n",
       "      <td>724</td>\n",
       "      <td>1353</td>\n",
       "    </tr>\n",
       "  </tbody>\n",
       "</table>\n",
       "</div>"
      ],
      "text/plain": [
       "              date home_team away_team tournament          city        country\n",
       "count        47126     47111     47111      47126         47126          47126\n",
       "unique       16180       328       323        174          2058            271\n",
       "top     2012-02-29    Brazil   Uruguay   Friendly  Kuala Lumpur  United States\n",
       "freq            66       600       567      17902           724           1353"
      ]
     },
     "execution_count": 28,
     "metadata": {},
     "output_type": "execute_result"
    }
   ],
   "source": [
    "rs.select_dtypes(include='object').describe()"
   ]
  },
  {
   "cell_type": "code",
   "execution_count": 29,
   "id": "9d9fb553",
   "metadata": {
    "execution": {
     "iopub.execute_input": "2024-06-04T19:36:28.891857Z",
     "iopub.status.busy": "2024-06-04T19:36:28.891403Z",
     "iopub.status.idle": "2024-06-04T19:36:28.930408Z",
     "shell.execute_reply": "2024-06-04T19:36:28.929341Z"
    },
    "papermill": {
     "duration": 0.068426,
     "end_time": "2024-06-04T19:36:28.932832",
     "exception": false,
     "start_time": "2024-06-04T19:36:28.864406",
     "status": "completed"
    },
    "tags": []
   },
   "outputs": [
    {
     "data": {
      "text/plain": [
       "date           0\n",
       "home_team     15\n",
       "away_team     15\n",
       "home_score    51\n",
       "away_score    51\n",
       "tournament     0\n",
       "city           0\n",
       "country        0\n",
       "neutral        0\n",
       "dtype: int64"
      ]
     },
     "execution_count": 29,
     "metadata": {},
     "output_type": "execute_result"
    }
   ],
   "source": [
    "rs.isna().sum()"
   ]
  },
  {
   "cell_type": "code",
   "execution_count": 30,
   "id": "c7016c6b",
   "metadata": {
    "execution": {
     "iopub.execute_input": "2024-06-04T19:36:28.986098Z",
     "iopub.status.busy": "2024-06-04T19:36:28.985660Z",
     "iopub.status.idle": "2024-06-04T19:36:29.332878Z",
     "shell.execute_reply": "2024-06-04T19:36:29.331704Z"
    },
    "papermill": {
     "duration": 0.376556,
     "end_time": "2024-06-04T19:36:29.335293",
     "exception": false,
     "start_time": "2024-06-04T19:36:28.958737",
     "status": "completed"
    },
    "tags": []
   },
   "outputs": [
    {
     "data": {
      "image/png": "[encoded data removed]",
      "text/plain": [
       "<Figure size 640x480 with 2 Axes>"
      ]
     },
     "metadata": {},
     "output_type": "display_data"
    }
   ],
   "source": [
    "sns.heatmap(rs.corr(numeric_only=True),annot=True, cmap='bone')\n",
    "plt.show()"
   ]
  },
  {
   "cell_type": "code",
   "execution_count": 31,
   "id": "fa626747",
   "metadata": {
    "execution": {
     "iopub.execute_input": "2024-06-04T19:36:29.389488Z",
     "iopub.status.busy": "2024-06-04T19:36:29.389093Z",
     "iopub.status.idle": "2024-06-04T19:36:29.411197Z",
     "shell.execute_reply": "2024-06-04T19:36:29.410244Z"
    },
    "papermill": {
     "duration": 0.051748,
     "end_time": "2024-06-04T19:36:29.413552",
     "exception": false,
     "start_time": "2024-06-04T19:36:29.361804",
     "status": "completed"
    },
    "tags": []
   },
   "outputs": [],
   "source": [
    "rs['date'] = pd.to_datetime(rs['date'])\n",
    "rs['year'] = rs['date'].dt.year"
   ]
  },
  {
   "cell_type": "code",
   "execution_count": 32,
   "id": "1a70fa71",
   "metadata": {
    "execution": {
     "iopub.execute_input": "2024-06-04T19:36:29.467853Z",
     "iopub.status.busy": "2024-06-04T19:36:29.467465Z",
     "iopub.status.idle": "2024-06-04T19:36:29.544013Z",
     "shell.execute_reply": "2024-06-04T19:36:29.543001Z"
    },
    "papermill": {
     "duration": 0.106411,
     "end_time": "2024-06-04T19:36:29.546592",
     "exception": false,
     "start_time": "2024-06-04T19:36:29.440181",
     "status": "completed"
    },
    "tags": []
   },
   "outputs": [
    {
     "name": "stdout",
     "output_type": "stream",
     "text": [
      "Inner Join Result:\n",
      "        date  home_team away_team       team            scorer  minute  \\\n",
      "0 1916-07-02      Chile   Uruguay    Uruguay   José Piendibene    44.0   \n",
      "1 1916-07-02      Chile   Uruguay    Uruguay  Isabelino Gradín    55.0   \n",
      "2 1916-07-02      Chile   Uruguay    Uruguay  Isabelino Gradín    70.0   \n",
      "3 1916-07-02      Chile   Uruguay    Uruguay   José Piendibene    75.0   \n",
      "4 1916-07-06  Argentina     Chile  Argentina     Alberto Ohaco     2.0   \n",
      "\n",
      "  own_goal penalty  year_x  home_score  away_score    tournament  \\\n",
      "0    False   False    1916         0.0         4.0  Copa América   \n",
      "1    False   False    1916         0.0         4.0  Copa América   \n",
      "2    False   False    1916         0.0         4.0  Copa América   \n",
      "3    False   False    1916         0.0         4.0  Copa América   \n",
      "4    False   False    1916         6.0         1.0  Copa América   \n",
      "\n",
      "           city    country  neutral  year_y  \n",
      "0  Buenos Aires  Argentina     True    1916  \n",
      "1  Buenos Aires  Argentina     True    1916  \n",
      "2  Buenos Aires  Argentina     True    1916  \n",
      "3  Buenos Aires  Argentina     True    1916  \n",
      "4  Buenos Aires  Argentina    False    1916  \n"
     ]
    }
   ],
   "source": [
    "inner_join_df = pd.merge(gs, rs, on=['date', 'home_team', 'away_team'], how='inner')\n",
    "print('Inner Join Result:')\n",
    "print(inner_join_df.head())"
   ]
  },
  {
   "cell_type": "code",
   "execution_count": 33,
   "id": "72503859",
   "metadata": {
    "execution": {
     "iopub.execute_input": "2024-06-04T19:36:29.600548Z",
     "iopub.status.busy": "2024-06-04T19:36:29.600142Z",
     "iopub.status.idle": "2024-06-04T19:36:29.714259Z",
     "shell.execute_reply": "2024-06-04T19:36:29.713264Z"
    },
    "papermill": {
     "duration": 0.144358,
     "end_time": "2024-06-04T19:36:29.716741",
     "exception": false,
     "start_time": "2024-06-04T19:36:29.572383",
     "status": "completed"
    },
    "tags": []
   },
   "outputs": [
    {
     "name": "stdout",
     "output_type": "stream",
     "text": [
      "Outer Join Result:\n",
      "            date home_team away_team team scorer  minute own_goal penalty  \\\n",
      "0     1872-11-30  Scotland   England  NaN    NaN     NaN      NaN     NaN   \n",
      "1     1873-03-08   England  Scotland  NaN    NaN     NaN      NaN     NaN   \n",
      "2     1874-03-07  Scotland   England  NaN    NaN     NaN      NaN     NaN   \n",
      "3     1875-03-06   England  Scotland  NaN    NaN     NaN      NaN     NaN   \n",
      "4     1876-03-04  Scotland   England  NaN    NaN     NaN      NaN     NaN   \n",
      "...          ...       ...       ...  ...    ...     ...      ...     ...   \n",
      "76955 2024-07-06       NaN       NaN  NaN    NaN     NaN      NaN     NaN   \n",
      "76956 2024-07-06       NaN       NaN  NaN    NaN     NaN      NaN     NaN   \n",
      "76957 2024-07-09       NaN       NaN  NaN    NaN     NaN      NaN     NaN   \n",
      "76958 2024-07-10       NaN       NaN  NaN    NaN     NaN      NaN     NaN   \n",
      "76959 2024-07-14       NaN       NaN  NaN    NaN     NaN      NaN     NaN   \n",
      "\n",
      "       year_x  home_score  away_score tournament        city   country  \\\n",
      "0         NaN         0.0         0.0   Friendly     Glasgow  Scotland   \n",
      "1         NaN         4.0         2.0   Friendly      London   England   \n",
      "2         NaN         2.0         1.0   Friendly     Glasgow  Scotland   \n",
      "3         NaN         2.0         2.0   Friendly      London   England   \n",
      "4         NaN         3.0         0.0   Friendly     Glasgow  Scotland   \n",
      "...       ...         ...         ...        ...         ...       ...   \n",
      "76955     NaN         NaN         NaN  UEFA Euro  Düsseldorf   Germany   \n",
      "76956     NaN         NaN         NaN  UEFA Euro      Berlin   Germany   \n",
      "76957     NaN         NaN         NaN  UEFA Euro      Munich   Germany   \n",
      "76958     NaN         NaN         NaN  UEFA Euro    Dortmund   Germany   \n",
      "76959     NaN         NaN         NaN  UEFA Euro      Berlin   Germany   \n",
      "\n",
      "       neutral  year_y  \n",
      "0        False    1872  \n",
      "1        False    1873  \n",
      "2        False    1874  \n",
      "3        False    1875  \n",
      "4        False    1876  \n",
      "...        ...     ...  \n",
      "76955     True    2024  \n",
      "76956     True    2024  \n",
      "76957     True    2024  \n",
      "76958     True    2024  \n",
      "76959     True    2024  \n",
      "\n",
      "[76960 rows x 16 columns]\n"
     ]
    }
   ],
   "source": [
    "outer_join_df = pd.merge(gs, rs, on=['date', 'home_team', 'away_team'], how='outer')\n",
    "print('Outer Join Result:')\n",
    "print(outer_join_df)"
   ]
  },
  {
   "cell_type": "code",
   "execution_count": 34,
   "id": "624bf5ed",
   "metadata": {
    "execution": {
     "iopub.execute_input": "2024-06-04T19:36:29.771116Z",
     "iopub.status.busy": "2024-06-04T19:36:29.770379Z",
     "iopub.status.idle": "2024-06-04T19:36:29.808179Z",
     "shell.execute_reply": "2024-06-04T19:36:29.807071Z"
    },
    "papermill": {
     "duration": 0.067497,
     "end_time": "2024-06-04T19:36:29.810837",
     "exception": false,
     "start_time": "2024-06-04T19:36:29.743340",
     "status": "completed"
    },
    "tags": []
   },
   "outputs": [
    {
     "name": "stdout",
     "output_type": "stream",
     "text": [
      "Filtered Results for France:\n"
     ]
    },
    {
     "data": {
      "text/html": [
       "<div>\n",
       "<style scoped>\n",
       "    .dataframe tbody tr th:only-of-type {\n",
       "        vertical-align: middle;\n",
       "    }\n",
       "\n",
       "    .dataframe tbody tr th {\n",
       "        vertical-align: top;\n",
       "    }\n",
       "\n",
       "    .dataframe thead th {\n",
       "        text-align: right;\n",
       "    }\n",
       "</style>\n",
       "<table border=\"1\" class=\"dataframe\">\n",
       "  <thead>\n",
       "    <tr style=\"text-align: right;\">\n",
       "      <th></th>\n",
       "      <th>date</th>\n",
       "      <th>home_team</th>\n",
       "      <th>away_team</th>\n",
       "      <th>team</th>\n",
       "      <th>scorer</th>\n",
       "      <th>minute</th>\n",
       "      <th>own_goal</th>\n",
       "      <th>penalty</th>\n",
       "      <th>year_x</th>\n",
       "      <th>home_score</th>\n",
       "      <th>away_score</th>\n",
       "      <th>tournament</th>\n",
       "      <th>city</th>\n",
       "      <th>country</th>\n",
       "      <th>neutral</th>\n",
       "      <th>year_y</th>\n",
       "    </tr>\n",
       "  </thead>\n",
       "  <tbody>\n",
       "    <tr>\n",
       "      <th>166</th>\n",
       "      <td>1924-05-27</td>\n",
       "      <td>France</td>\n",
       "      <td>Latvia</td>\n",
       "      <td>France</td>\n",
       "      <td>Édouard Crut</td>\n",
       "      <td>17.0</td>\n",
       "      <td>False</td>\n",
       "      <td>False</td>\n",
       "      <td>1924</td>\n",
       "      <td>7.0</td>\n",
       "      <td>0.0</td>\n",
       "      <td>Olympic Games</td>\n",
       "      <td>Paris</td>\n",
       "      <td>France</td>\n",
       "      <td>False</td>\n",
       "      <td>1924</td>\n",
       "    </tr>\n",
       "    <tr>\n",
       "      <th>167</th>\n",
       "      <td>1924-05-27</td>\n",
       "      <td>France</td>\n",
       "      <td>Latvia</td>\n",
       "      <td>France</td>\n",
       "      <td>Paul Nicolas</td>\n",
       "      <td>25.0</td>\n",
       "      <td>False</td>\n",
       "      <td>False</td>\n",
       "      <td>1924</td>\n",
       "      <td>7.0</td>\n",
       "      <td>0.0</td>\n",
       "      <td>Olympic Games</td>\n",
       "      <td>Paris</td>\n",
       "      <td>France</td>\n",
       "      <td>False</td>\n",
       "      <td>1924</td>\n",
       "    </tr>\n",
       "    <tr>\n",
       "      <th>168</th>\n",
       "      <td>1924-05-27</td>\n",
       "      <td>France</td>\n",
       "      <td>Latvia</td>\n",
       "      <td>France</td>\n",
       "      <td>Édouard Crut</td>\n",
       "      <td>28.0</td>\n",
       "      <td>False</td>\n",
       "      <td>False</td>\n",
       "      <td>1924</td>\n",
       "      <td>7.0</td>\n",
       "      <td>0.0</td>\n",
       "      <td>Olympic Games</td>\n",
       "      <td>Paris</td>\n",
       "      <td>France</td>\n",
       "      <td>False</td>\n",
       "      <td>1924</td>\n",
       "    </tr>\n",
       "    <tr>\n",
       "      <th>169</th>\n",
       "      <td>1924-05-27</td>\n",
       "      <td>France</td>\n",
       "      <td>Latvia</td>\n",
       "      <td>France</td>\n",
       "      <td>Paul Nicolas</td>\n",
       "      <td>50.0</td>\n",
       "      <td>False</td>\n",
       "      <td>False</td>\n",
       "      <td>1924</td>\n",
       "      <td>7.0</td>\n",
       "      <td>0.0</td>\n",
       "      <td>Olympic Games</td>\n",
       "      <td>Paris</td>\n",
       "      <td>France</td>\n",
       "      <td>False</td>\n",
       "      <td>1924</td>\n",
       "    </tr>\n",
       "    <tr>\n",
       "      <th>170</th>\n",
       "      <td>1924-05-27</td>\n",
       "      <td>France</td>\n",
       "      <td>Latvia</td>\n",
       "      <td>France</td>\n",
       "      <td>Édouard Crut</td>\n",
       "      <td>55.0</td>\n",
       "      <td>False</td>\n",
       "      <td>False</td>\n",
       "      <td>1924</td>\n",
       "      <td>7.0</td>\n",
       "      <td>0.0</td>\n",
       "      <td>Olympic Games</td>\n",
       "      <td>Paris</td>\n",
       "      <td>France</td>\n",
       "      <td>False</td>\n",
       "      <td>1924</td>\n",
       "    </tr>\n",
       "    <tr>\n",
       "      <th>...</th>\n",
       "      <td>...</td>\n",
       "      <td>...</td>\n",
       "      <td>...</td>\n",
       "      <td>...</td>\n",
       "      <td>...</td>\n",
       "      <td>...</td>\n",
       "      <td>...</td>\n",
       "      <td>...</td>\n",
       "      <td>...</td>\n",
       "      <td>...</td>\n",
       "      <td>...</td>\n",
       "      <td>...</td>\n",
       "      <td>...</td>\n",
       "      <td>...</td>\n",
       "      <td>...</td>\n",
       "      <td>...</td>\n",
       "    </tr>\n",
       "    <tr>\n",
       "      <th>43787</th>\n",
       "      <td>2023-11-18</td>\n",
       "      <td>France</td>\n",
       "      <td>Gibraltar</td>\n",
       "      <td>France</td>\n",
       "      <td>Kylian Mbappé</td>\n",
       "      <td>82.0</td>\n",
       "      <td>False</td>\n",
       "      <td>False</td>\n",
       "      <td>2023</td>\n",
       "      <td>14.0</td>\n",
       "      <td>0.0</td>\n",
       "      <td>UEFA Euro qualification</td>\n",
       "      <td>Nice</td>\n",
       "      <td>France</td>\n",
       "      <td>False</td>\n",
       "      <td>2023</td>\n",
       "    </tr>\n",
       "    <tr>\n",
       "      <th>43788</th>\n",
       "      <td>2023-11-18</td>\n",
       "      <td>France</td>\n",
       "      <td>Gibraltar</td>\n",
       "      <td>France</td>\n",
       "      <td>Olivier Giroud</td>\n",
       "      <td>89.0</td>\n",
       "      <td>False</td>\n",
       "      <td>False</td>\n",
       "      <td>2023</td>\n",
       "      <td>14.0</td>\n",
       "      <td>0.0</td>\n",
       "      <td>UEFA Euro qualification</td>\n",
       "      <td>Nice</td>\n",
       "      <td>France</td>\n",
       "      <td>False</td>\n",
       "      <td>2023</td>\n",
       "    </tr>\n",
       "    <tr>\n",
       "      <th>43789</th>\n",
       "      <td>2023-11-18</td>\n",
       "      <td>France</td>\n",
       "      <td>Gibraltar</td>\n",
       "      <td>France</td>\n",
       "      <td>Olivier Giroud</td>\n",
       "      <td>90.0</td>\n",
       "      <td>False</td>\n",
       "      <td>False</td>\n",
       "      <td>2023</td>\n",
       "      <td>14.0</td>\n",
       "      <td>0.0</td>\n",
       "      <td>UEFA Euro qualification</td>\n",
       "      <td>Nice</td>\n",
       "      <td>France</td>\n",
       "      <td>False</td>\n",
       "      <td>2023</td>\n",
       "    </tr>\n",
       "    <tr>\n",
       "      <th>43851</th>\n",
       "      <td>2023-11-21</td>\n",
       "      <td>Greece</td>\n",
       "      <td>France</td>\n",
       "      <td>France</td>\n",
       "      <td>Randal Kolo Muani</td>\n",
       "      <td>42.0</td>\n",
       "      <td>False</td>\n",
       "      <td>False</td>\n",
       "      <td>2023</td>\n",
       "      <td>2.0</td>\n",
       "      <td>2.0</td>\n",
       "      <td>UEFA Euro qualification</td>\n",
       "      <td>Athens</td>\n",
       "      <td>Greece</td>\n",
       "      <td>False</td>\n",
       "      <td>2023</td>\n",
       "    </tr>\n",
       "    <tr>\n",
       "      <th>43854</th>\n",
       "      <td>2023-11-21</td>\n",
       "      <td>Greece</td>\n",
       "      <td>France</td>\n",
       "      <td>France</td>\n",
       "      <td>Youssouf Fofana</td>\n",
       "      <td>74.0</td>\n",
       "      <td>False</td>\n",
       "      <td>False</td>\n",
       "      <td>2023</td>\n",
       "      <td>2.0</td>\n",
       "      <td>2.0</td>\n",
       "      <td>UEFA Euro qualification</td>\n",
       "      <td>Athens</td>\n",
       "      <td>Greece</td>\n",
       "      <td>False</td>\n",
       "      <td>2023</td>\n",
       "    </tr>\n",
       "  </tbody>\n",
       "</table>\n",
       "<p>767 rows × 16 columns</p>\n",
       "</div>"
      ],
      "text/plain": [
       "            date home_team  away_team    team             scorer  minute  \\\n",
       "166   1924-05-27    France     Latvia  France       Édouard Crut    17.0   \n",
       "167   1924-05-27    France     Latvia  France       Paul Nicolas    25.0   \n",
       "168   1924-05-27    France     Latvia  France       Édouard Crut    28.0   \n",
       "169   1924-05-27    France     Latvia  France       Paul Nicolas    50.0   \n",
       "170   1924-05-27    France     Latvia  France       Édouard Crut    55.0   \n",
       "...          ...       ...        ...     ...                ...     ...   \n",
       "43787 2023-11-18    France  Gibraltar  France      Kylian Mbappé    82.0   \n",
       "43788 2023-11-18    France  Gibraltar  France     Olivier Giroud    89.0   \n",
       "43789 2023-11-18    France  Gibraltar  France     Olivier Giroud    90.0   \n",
       "43851 2023-11-21    Greece     France  France  Randal Kolo Muani    42.0   \n",
       "43854 2023-11-21    Greece     France  France    Youssouf Fofana    74.0   \n",
       "\n",
       "      own_goal penalty  year_x  home_score  away_score  \\\n",
       "166      False   False    1924         7.0         0.0   \n",
       "167      False   False    1924         7.0         0.0   \n",
       "168      False   False    1924         7.0         0.0   \n",
       "169      False   False    1924         7.0         0.0   \n",
       "170      False   False    1924         7.0         0.0   \n",
       "...        ...     ...     ...         ...         ...   \n",
       "43787    False   False    2023        14.0         0.0   \n",
       "43788    False   False    2023        14.0         0.0   \n",
       "43789    False   False    2023        14.0         0.0   \n",
       "43851    False   False    2023         2.0         2.0   \n",
       "43854    False   False    2023         2.0         2.0   \n",
       "\n",
       "                    tournament    city country  neutral  year_y  \n",
       "166              Olympic Games   Paris  France    False    1924  \n",
       "167              Olympic Games   Paris  France    False    1924  \n",
       "168              Olympic Games   Paris  France    False    1924  \n",
       "169              Olympic Games   Paris  France    False    1924  \n",
       "170              Olympic Games   Paris  France    False    1924  \n",
       "...                        ...     ...     ...      ...     ...  \n",
       "43787  UEFA Euro qualification    Nice  France    False    2023  \n",
       "43788  UEFA Euro qualification    Nice  France    False    2023  \n",
       "43789  UEFA Euro qualification    Nice  France    False    2023  \n",
       "43851  UEFA Euro qualification  Athens  Greece    False    2023  \n",
       "43854  UEFA Euro qualification  Athens  Greece    False    2023  \n",
       "\n",
       "[767 rows x 16 columns]"
      ]
     },
     "execution_count": 34,
     "metadata": {},
     "output_type": "execute_result"
    }
   ],
   "source": [
    "team_name = 'France'\n",
    "team_goals = inner_join_df[inner_join_df['team']==team_name]\n",
    "print(f\"Filtered Results for {team_name}:\")\n",
    "team_goals"
   ]
  },
  {
   "cell_type": "code",
   "execution_count": 35,
   "id": "58e34722",
   "metadata": {
    "execution": {
     "iopub.execute_input": "2024-06-04T19:36:29.866311Z",
     "iopub.status.busy": "2024-06-04T19:36:29.865950Z",
     "iopub.status.idle": "2024-06-04T19:36:29.903088Z",
     "shell.execute_reply": "2024-06-04T19:36:29.902031Z"
    },
    "papermill": {
     "duration": 0.06781,
     "end_time": "2024-06-04T19:36:29.905653",
     "exception": false,
     "start_time": "2024-06-04T19:36:29.837843",
     "status": "completed"
    },
    "tags": []
   },
   "outputs": [
    {
     "name": "stdout",
     "output_type": "stream",
     "text": [
      "Filtered Results for Portugal:\n"
     ]
    },
    {
     "data": {
      "text/html": [
       "<div>\n",
       "<style scoped>\n",
       "    .dataframe tbody tr th:only-of-type {\n",
       "        vertical-align: middle;\n",
       "    }\n",
       "\n",
       "    .dataframe tbody tr th {\n",
       "        vertical-align: top;\n",
       "    }\n",
       "\n",
       "    .dataframe thead th {\n",
       "        text-align: right;\n",
       "    }\n",
       "</style>\n",
       "<table border=\"1\" class=\"dataframe\">\n",
       "  <thead>\n",
       "    <tr style=\"text-align: right;\">\n",
       "      <th></th>\n",
       "      <th>date</th>\n",
       "      <th>home_team</th>\n",
       "      <th>away_team</th>\n",
       "      <th>team</th>\n",
       "      <th>scorer</th>\n",
       "      <th>minute</th>\n",
       "      <th>own_goal</th>\n",
       "      <th>penalty</th>\n",
       "      <th>year_x</th>\n",
       "      <th>home_score</th>\n",
       "      <th>away_score</th>\n",
       "      <th>tournament</th>\n",
       "      <th>city</th>\n",
       "      <th>country</th>\n",
       "      <th>neutral</th>\n",
       "      <th>year_y</th>\n",
       "    </tr>\n",
       "  </thead>\n",
       "  <tbody>\n",
       "    <tr>\n",
       "      <th>375</th>\n",
       "      <td>1928-05-27</td>\n",
       "      <td>Portugal</td>\n",
       "      <td>Chile</td>\n",
       "      <td>Portugal</td>\n",
       "      <td>Vítor Silva</td>\n",
       "      <td>38.0</td>\n",
       "      <td>False</td>\n",
       "      <td>False</td>\n",
       "      <td>1928</td>\n",
       "      <td>4.0</td>\n",
       "      <td>2.0</td>\n",
       "      <td>Olympic Games</td>\n",
       "      <td>Amsterdam</td>\n",
       "      <td>Netherlands</td>\n",
       "      <td>True</td>\n",
       "      <td>1928</td>\n",
       "    </tr>\n",
       "    <tr>\n",
       "      <th>376</th>\n",
       "      <td>1928-05-27</td>\n",
       "      <td>Portugal</td>\n",
       "      <td>Chile</td>\n",
       "      <td>Portugal</td>\n",
       "      <td>Pepe Soares</td>\n",
       "      <td>40.0</td>\n",
       "      <td>False</td>\n",
       "      <td>False</td>\n",
       "      <td>1928</td>\n",
       "      <td>4.0</td>\n",
       "      <td>2.0</td>\n",
       "      <td>Olympic Games</td>\n",
       "      <td>Amsterdam</td>\n",
       "      <td>Netherlands</td>\n",
       "      <td>True</td>\n",
       "      <td>1928</td>\n",
       "    </tr>\n",
       "    <tr>\n",
       "      <th>377</th>\n",
       "      <td>1928-05-27</td>\n",
       "      <td>Portugal</td>\n",
       "      <td>Chile</td>\n",
       "      <td>Portugal</td>\n",
       "      <td>Pepe Soares</td>\n",
       "      <td>50.0</td>\n",
       "      <td>False</td>\n",
       "      <td>False</td>\n",
       "      <td>1928</td>\n",
       "      <td>4.0</td>\n",
       "      <td>2.0</td>\n",
       "      <td>Olympic Games</td>\n",
       "      <td>Amsterdam</td>\n",
       "      <td>Netherlands</td>\n",
       "      <td>True</td>\n",
       "      <td>1928</td>\n",
       "    </tr>\n",
       "    <tr>\n",
       "      <th>378</th>\n",
       "      <td>1928-05-27</td>\n",
       "      <td>Portugal</td>\n",
       "      <td>Chile</td>\n",
       "      <td>Portugal</td>\n",
       "      <td>Valdemar Mota</td>\n",
       "      <td>63.0</td>\n",
       "      <td>False</td>\n",
       "      <td>False</td>\n",
       "      <td>1928</td>\n",
       "      <td>4.0</td>\n",
       "      <td>2.0</td>\n",
       "      <td>Olympic Games</td>\n",
       "      <td>Amsterdam</td>\n",
       "      <td>Netherlands</td>\n",
       "      <td>True</td>\n",
       "      <td>1928</td>\n",
       "    </tr>\n",
       "    <tr>\n",
       "      <th>411</th>\n",
       "      <td>1928-05-29</td>\n",
       "      <td>Portugal</td>\n",
       "      <td>Yugoslavia</td>\n",
       "      <td>Portugal</td>\n",
       "      <td>Vítor Silva</td>\n",
       "      <td>25.0</td>\n",
       "      <td>False</td>\n",
       "      <td>False</td>\n",
       "      <td>1928</td>\n",
       "      <td>2.0</td>\n",
       "      <td>1.0</td>\n",
       "      <td>Olympic Games</td>\n",
       "      <td>Amsterdam</td>\n",
       "      <td>Netherlands</td>\n",
       "      <td>True</td>\n",
       "      <td>1928</td>\n",
       "    </tr>\n",
       "    <tr>\n",
       "      <th>...</th>\n",
       "      <td>...</td>\n",
       "      <td>...</td>\n",
       "      <td>...</td>\n",
       "      <td>...</td>\n",
       "      <td>...</td>\n",
       "      <td>...</td>\n",
       "      <td>...</td>\n",
       "      <td>...</td>\n",
       "      <td>...</td>\n",
       "      <td>...</td>\n",
       "      <td>...</td>\n",
       "      <td>...</td>\n",
       "      <td>...</td>\n",
       "      <td>...</td>\n",
       "      <td>...</td>\n",
       "      <td>...</td>\n",
       "    </tr>\n",
       "    <tr>\n",
       "      <th>43680</th>\n",
       "      <td>2023-10-16</td>\n",
       "      <td>Bosnia and Herzegovina</td>\n",
       "      <td>Portugal</td>\n",
       "      <td>Portugal</td>\n",
       "      <td>João Félix</td>\n",
       "      <td>41.0</td>\n",
       "      <td>False</td>\n",
       "      <td>False</td>\n",
       "      <td>2023</td>\n",
       "      <td>0.0</td>\n",
       "      <td>5.0</td>\n",
       "      <td>UEFA Euro qualification</td>\n",
       "      <td>Zenica</td>\n",
       "      <td>Bosnia and Herzegovina</td>\n",
       "      <td>False</td>\n",
       "      <td>2023</td>\n",
       "    </tr>\n",
       "    <tr>\n",
       "      <th>43734</th>\n",
       "      <td>2023-11-16</td>\n",
       "      <td>Liechtenstein</td>\n",
       "      <td>Portugal</td>\n",
       "      <td>Portugal</td>\n",
       "      <td>Cristiano Ronaldo</td>\n",
       "      <td>46.0</td>\n",
       "      <td>False</td>\n",
       "      <td>False</td>\n",
       "      <td>2023</td>\n",
       "      <td>0.0</td>\n",
       "      <td>2.0</td>\n",
       "      <td>UEFA Euro qualification</td>\n",
       "      <td>Vaduz</td>\n",
       "      <td>Liechtenstein</td>\n",
       "      <td>False</td>\n",
       "      <td>2023</td>\n",
       "    </tr>\n",
       "    <tr>\n",
       "      <th>43735</th>\n",
       "      <td>2023-11-16</td>\n",
       "      <td>Liechtenstein</td>\n",
       "      <td>Portugal</td>\n",
       "      <td>Portugal</td>\n",
       "      <td>João Cancelo</td>\n",
       "      <td>57.0</td>\n",
       "      <td>False</td>\n",
       "      <td>False</td>\n",
       "      <td>2023</td>\n",
       "      <td>0.0</td>\n",
       "      <td>2.0</td>\n",
       "      <td>UEFA Euro qualification</td>\n",
       "      <td>Vaduz</td>\n",
       "      <td>Liechtenstein</td>\n",
       "      <td>False</td>\n",
       "      <td>2023</td>\n",
       "    </tr>\n",
       "    <tr>\n",
       "      <th>43811</th>\n",
       "      <td>2023-11-19</td>\n",
       "      <td>Portugal</td>\n",
       "      <td>Iceland</td>\n",
       "      <td>Portugal</td>\n",
       "      <td>Bruno Fernandes</td>\n",
       "      <td>37.0</td>\n",
       "      <td>False</td>\n",
       "      <td>False</td>\n",
       "      <td>2023</td>\n",
       "      <td>2.0</td>\n",
       "      <td>0.0</td>\n",
       "      <td>UEFA Euro qualification</td>\n",
       "      <td>Lisbon</td>\n",
       "      <td>Portugal</td>\n",
       "      <td>False</td>\n",
       "      <td>2023</td>\n",
       "    </tr>\n",
       "    <tr>\n",
       "      <th>43812</th>\n",
       "      <td>2023-11-19</td>\n",
       "      <td>Portugal</td>\n",
       "      <td>Iceland</td>\n",
       "      <td>Portugal</td>\n",
       "      <td>Ricardo Horta</td>\n",
       "      <td>66.0</td>\n",
       "      <td>False</td>\n",
       "      <td>False</td>\n",
       "      <td>2023</td>\n",
       "      <td>2.0</td>\n",
       "      <td>0.0</td>\n",
       "      <td>UEFA Euro qualification</td>\n",
       "      <td>Lisbon</td>\n",
       "      <td>Portugal</td>\n",
       "      <td>False</td>\n",
       "      <td>2023</td>\n",
       "    </tr>\n",
       "  </tbody>\n",
       "</table>\n",
       "<p>705 rows × 16 columns</p>\n",
       "</div>"
      ],
      "text/plain": [
       "            date               home_team   away_team      team  \\\n",
       "375   1928-05-27                Portugal       Chile  Portugal   \n",
       "376   1928-05-27                Portugal       Chile  Portugal   \n",
       "377   1928-05-27                Portugal       Chile  Portugal   \n",
       "378   1928-05-27                Portugal       Chile  Portugal   \n",
       "411   1928-05-29                Portugal  Yugoslavia  Portugal   \n",
       "...          ...                     ...         ...       ...   \n",
       "43680 2023-10-16  Bosnia and Herzegovina    Portugal  Portugal   \n",
       "43734 2023-11-16           Liechtenstein    Portugal  Portugal   \n",
       "43735 2023-11-16           Liechtenstein    Portugal  Portugal   \n",
       "43811 2023-11-19                Portugal     Iceland  Portugal   \n",
       "43812 2023-11-19                Portugal     Iceland  Portugal   \n",
       "\n",
       "                  scorer  minute own_goal penalty  year_x  home_score  \\\n",
       "375          Vítor Silva    38.0    False   False    1928         4.0   \n",
       "376          Pepe Soares    40.0    False   False    1928         4.0   \n",
       "377          Pepe Soares    50.0    False   False    1928         4.0   \n",
       "378        Valdemar Mota    63.0    False   False    1928         4.0   \n",
       "411          Vítor Silva    25.0    False   False    1928         2.0   \n",
       "...                  ...     ...      ...     ...     ...         ...   \n",
       "43680         João Félix    41.0    False   False    2023         0.0   \n",
       "43734  Cristiano Ronaldo    46.0    False   False    2023         0.0   \n",
       "43735       João Cancelo    57.0    False   False    2023         0.0   \n",
       "43811    Bruno Fernandes    37.0    False   False    2023         2.0   \n",
       "43812      Ricardo Horta    66.0    False   False    2023         2.0   \n",
       "\n",
       "       away_score               tournament       city                 country  \\\n",
       "375           2.0            Olympic Games  Amsterdam             Netherlands   \n",
       "376           2.0            Olympic Games  Amsterdam             Netherlands   \n",
       "377           2.0            Olympic Games  Amsterdam             Netherlands   \n",
       "378           2.0            Olympic Games  Amsterdam             Netherlands   \n",
       "411           1.0            Olympic Games  Amsterdam             Netherlands   \n",
       "...           ...                      ...        ...                     ...   \n",
       "43680         5.0  UEFA Euro qualification     Zenica  Bosnia and Herzegovina   \n",
       "43734         2.0  UEFA Euro qualification      Vaduz           Liechtenstein   \n",
       "43735         2.0  UEFA Euro qualification      Vaduz           Liechtenstein   \n",
       "43811         0.0  UEFA Euro qualification     Lisbon                Portugal   \n",
       "43812         0.0  UEFA Euro qualification     Lisbon                Portugal   \n",
       "\n",
       "       neutral  year_y  \n",
       "375       True    1928  \n",
       "376       True    1928  \n",
       "377       True    1928  \n",
       "378       True    1928  \n",
       "411       True    1928  \n",
       "...        ...     ...  \n",
       "43680    False    2023  \n",
       "43734    False    2023  \n",
       "43735    False    2023  \n",
       "43811    False    2023  \n",
       "43812    False    2023  \n",
       "\n",
       "[705 rows x 16 columns]"
      ]
     },
     "execution_count": 35,
     "metadata": {},
     "output_type": "execute_result"
    }
   ],
   "source": [
    "team_name = 'Portugal'\n",
    "team_goals = inner_join_df[inner_join_df['team']==team_name]\n",
    "print(f\"Filtered Results for {team_name}:\")\n",
    "team_goals"
   ]
  },
  {
   "cell_type": "code",
   "execution_count": 36,
   "id": "98893df1",
   "metadata": {
    "execution": {
     "iopub.execute_input": "2024-06-04T19:36:29.964059Z",
     "iopub.status.busy": "2024-06-04T19:36:29.963365Z",
     "iopub.status.idle": "2024-06-04T19:36:29.999254Z",
     "shell.execute_reply": "2024-06-04T19:36:29.998238Z"
    },
    "papermill": {
     "duration": 0.066487,
     "end_time": "2024-06-04T19:36:30.001594",
     "exception": false,
     "start_time": "2024-06-04T19:36:29.935107",
     "status": "completed"
    },
    "tags": []
   },
   "outputs": [
    {
     "name": "stdout",
     "output_type": "stream",
     "text": [
      "Filtered Results for Argentina:\n"
     ]
    },
    {
     "data": {
      "text/html": [
       "<div>\n",
       "<style scoped>\n",
       "    .dataframe tbody tr th:only-of-type {\n",
       "        vertical-align: middle;\n",
       "    }\n",
       "\n",
       "    .dataframe tbody tr th {\n",
       "        vertical-align: top;\n",
       "    }\n",
       "\n",
       "    .dataframe thead th {\n",
       "        text-align: right;\n",
       "    }\n",
       "</style>\n",
       "<table border=\"1\" class=\"dataframe\">\n",
       "  <thead>\n",
       "    <tr style=\"text-align: right;\">\n",
       "      <th></th>\n",
       "      <th>date</th>\n",
       "      <th>home_team</th>\n",
       "      <th>away_team</th>\n",
       "      <th>team</th>\n",
       "      <th>scorer</th>\n",
       "      <th>minute</th>\n",
       "      <th>own_goal</th>\n",
       "      <th>penalty</th>\n",
       "      <th>year_x</th>\n",
       "      <th>home_score</th>\n",
       "      <th>away_score</th>\n",
       "      <th>tournament</th>\n",
       "      <th>city</th>\n",
       "      <th>country</th>\n",
       "      <th>neutral</th>\n",
       "      <th>year_y</th>\n",
       "    </tr>\n",
       "  </thead>\n",
       "  <tbody>\n",
       "    <tr>\n",
       "      <th>4</th>\n",
       "      <td>1916-07-06</td>\n",
       "      <td>Argentina</td>\n",
       "      <td>Chile</td>\n",
       "      <td>Argentina</td>\n",
       "      <td>Alberto Ohaco</td>\n",
       "      <td>2.0</td>\n",
       "      <td>False</td>\n",
       "      <td>False</td>\n",
       "      <td>1916</td>\n",
       "      <td>6.0</td>\n",
       "      <td>1.0</td>\n",
       "      <td>Copa América</td>\n",
       "      <td>Buenos Aires</td>\n",
       "      <td>Argentina</td>\n",
       "      <td>False</td>\n",
       "      <td>1916</td>\n",
       "    </tr>\n",
       "    <tr>\n",
       "      <th>6</th>\n",
       "      <td>1916-07-06</td>\n",
       "      <td>Argentina</td>\n",
       "      <td>Chile</td>\n",
       "      <td>Argentina</td>\n",
       "      <td>Juan Domingo Brown</td>\n",
       "      <td>60.0</td>\n",
       "      <td>False</td>\n",
       "      <td>True</td>\n",
       "      <td>1916</td>\n",
       "      <td>6.0</td>\n",
       "      <td>1.0</td>\n",
       "      <td>Copa América</td>\n",
       "      <td>Buenos Aires</td>\n",
       "      <td>Argentina</td>\n",
       "      <td>False</td>\n",
       "      <td>1916</td>\n",
       "    </tr>\n",
       "    <tr>\n",
       "      <th>7</th>\n",
       "      <td>1916-07-06</td>\n",
       "      <td>Argentina</td>\n",
       "      <td>Chile</td>\n",
       "      <td>Argentina</td>\n",
       "      <td>Juan Domingo Brown</td>\n",
       "      <td>62.0</td>\n",
       "      <td>False</td>\n",
       "      <td>True</td>\n",
       "      <td>1916</td>\n",
       "      <td>6.0</td>\n",
       "      <td>1.0</td>\n",
       "      <td>Copa América</td>\n",
       "      <td>Buenos Aires</td>\n",
       "      <td>Argentina</td>\n",
       "      <td>False</td>\n",
       "      <td>1916</td>\n",
       "    </tr>\n",
       "    <tr>\n",
       "      <th>8</th>\n",
       "      <td>1916-07-06</td>\n",
       "      <td>Argentina</td>\n",
       "      <td>Chile</td>\n",
       "      <td>Argentina</td>\n",
       "      <td>Alberto Marcovecchio</td>\n",
       "      <td>67.0</td>\n",
       "      <td>False</td>\n",
       "      <td>False</td>\n",
       "      <td>1916</td>\n",
       "      <td>6.0</td>\n",
       "      <td>1.0</td>\n",
       "      <td>Copa América</td>\n",
       "      <td>Buenos Aires</td>\n",
       "      <td>Argentina</td>\n",
       "      <td>False</td>\n",
       "      <td>1916</td>\n",
       "    </tr>\n",
       "    <tr>\n",
       "      <th>9</th>\n",
       "      <td>1916-07-06</td>\n",
       "      <td>Argentina</td>\n",
       "      <td>Chile</td>\n",
       "      <td>Argentina</td>\n",
       "      <td>Alberto Ohaco</td>\n",
       "      <td>75.0</td>\n",
       "      <td>False</td>\n",
       "      <td>False</td>\n",
       "      <td>1916</td>\n",
       "      <td>6.0</td>\n",
       "      <td>1.0</td>\n",
       "      <td>Copa América</td>\n",
       "      <td>Buenos Aires</td>\n",
       "      <td>Argentina</td>\n",
       "      <td>False</td>\n",
       "      <td>1916</td>\n",
       "    </tr>\n",
       "    <tr>\n",
       "      <th>...</th>\n",
       "      <td>...</td>\n",
       "      <td>...</td>\n",
       "      <td>...</td>\n",
       "      <td>...</td>\n",
       "      <td>...</td>\n",
       "      <td>...</td>\n",
       "      <td>...</td>\n",
       "      <td>...</td>\n",
       "      <td>...</td>\n",
       "      <td>...</td>\n",
       "      <td>...</td>\n",
       "      <td>...</td>\n",
       "      <td>...</td>\n",
       "      <td>...</td>\n",
       "      <td>...</td>\n",
       "      <td>...</td>\n",
       "    </tr>\n",
       "    <tr>\n",
       "      <th>43052</th>\n",
       "      <td>2022-12-13</td>\n",
       "      <td>Argentina</td>\n",
       "      <td>Croatia</td>\n",
       "      <td>Argentina</td>\n",
       "      <td>Julián Álvarez</td>\n",
       "      <td>39.0</td>\n",
       "      <td>False</td>\n",
       "      <td>False</td>\n",
       "      <td>2022</td>\n",
       "      <td>3.0</td>\n",
       "      <td>0.0</td>\n",
       "      <td>FIFA World Cup</td>\n",
       "      <td>Lusail</td>\n",
       "      <td>Qatar</td>\n",
       "      <td>True</td>\n",
       "      <td>2022</td>\n",
       "    </tr>\n",
       "    <tr>\n",
       "      <th>43053</th>\n",
       "      <td>2022-12-13</td>\n",
       "      <td>Argentina</td>\n",
       "      <td>Croatia</td>\n",
       "      <td>Argentina</td>\n",
       "      <td>Julián Álvarez</td>\n",
       "      <td>69.0</td>\n",
       "      <td>False</td>\n",
       "      <td>False</td>\n",
       "      <td>2022</td>\n",
       "      <td>3.0</td>\n",
       "      <td>0.0</td>\n",
       "      <td>FIFA World Cup</td>\n",
       "      <td>Lusail</td>\n",
       "      <td>Qatar</td>\n",
       "      <td>True</td>\n",
       "      <td>2022</td>\n",
       "    </tr>\n",
       "    <tr>\n",
       "      <th>43059</th>\n",
       "      <td>2022-12-18</td>\n",
       "      <td>Argentina</td>\n",
       "      <td>France</td>\n",
       "      <td>Argentina</td>\n",
       "      <td>Lionel Messi</td>\n",
       "      <td>23.0</td>\n",
       "      <td>False</td>\n",
       "      <td>True</td>\n",
       "      <td>2022</td>\n",
       "      <td>3.0</td>\n",
       "      <td>3.0</td>\n",
       "      <td>FIFA World Cup</td>\n",
       "      <td>Lusail</td>\n",
       "      <td>Qatar</td>\n",
       "      <td>True</td>\n",
       "      <td>2022</td>\n",
       "    </tr>\n",
       "    <tr>\n",
       "      <th>43060</th>\n",
       "      <td>2022-12-18</td>\n",
       "      <td>Argentina</td>\n",
       "      <td>France</td>\n",
       "      <td>Argentina</td>\n",
       "      <td>Ángel Di María</td>\n",
       "      <td>36.0</td>\n",
       "      <td>False</td>\n",
       "      <td>False</td>\n",
       "      <td>2022</td>\n",
       "      <td>3.0</td>\n",
       "      <td>3.0</td>\n",
       "      <td>FIFA World Cup</td>\n",
       "      <td>Lusail</td>\n",
       "      <td>Qatar</td>\n",
       "      <td>True</td>\n",
       "      <td>2022</td>\n",
       "    </tr>\n",
       "    <tr>\n",
       "      <th>43063</th>\n",
       "      <td>2022-12-18</td>\n",
       "      <td>Argentina</td>\n",
       "      <td>France</td>\n",
       "      <td>Argentina</td>\n",
       "      <td>Lionel Messi</td>\n",
       "      <td>109.0</td>\n",
       "      <td>False</td>\n",
       "      <td>False</td>\n",
       "      <td>2022</td>\n",
       "      <td>3.0</td>\n",
       "      <td>3.0</td>\n",
       "      <td>FIFA World Cup</td>\n",
       "      <td>Lusail</td>\n",
       "      <td>Qatar</td>\n",
       "      <td>True</td>\n",
       "      <td>2022</td>\n",
       "    </tr>\n",
       "  </tbody>\n",
       "</table>\n",
       "<p>939 rows × 16 columns</p>\n",
       "</div>"
      ],
      "text/plain": [
       "            date  home_team away_team       team                scorer  \\\n",
       "4     1916-07-06  Argentina     Chile  Argentina         Alberto Ohaco   \n",
       "6     1916-07-06  Argentina     Chile  Argentina    Juan Domingo Brown   \n",
       "7     1916-07-06  Argentina     Chile  Argentina    Juan Domingo Brown   \n",
       "8     1916-07-06  Argentina     Chile  Argentina  Alberto Marcovecchio   \n",
       "9     1916-07-06  Argentina     Chile  Argentina         Alberto Ohaco   \n",
       "...          ...        ...       ...        ...                   ...   \n",
       "43052 2022-12-13  Argentina   Croatia  Argentina        Julián Álvarez   \n",
       "43053 2022-12-13  Argentina   Croatia  Argentina        Julián Álvarez   \n",
       "43059 2022-12-18  Argentina    France  Argentina          Lionel Messi   \n",
       "43060 2022-12-18  Argentina    France  Argentina        Ángel Di María   \n",
       "43063 2022-12-18  Argentina    France  Argentina          Lionel Messi   \n",
       "\n",
       "       minute own_goal penalty  year_x  home_score  away_score  \\\n",
       "4         2.0    False   False    1916         6.0         1.0   \n",
       "6        60.0    False    True    1916         6.0         1.0   \n",
       "7        62.0    False    True    1916         6.0         1.0   \n",
       "8        67.0    False   False    1916         6.0         1.0   \n",
       "9        75.0    False   False    1916         6.0         1.0   \n",
       "...       ...      ...     ...     ...         ...         ...   \n",
       "43052    39.0    False   False    2022         3.0         0.0   \n",
       "43053    69.0    False   False    2022         3.0         0.0   \n",
       "43059    23.0    False    True    2022         3.0         3.0   \n",
       "43060    36.0    False   False    2022         3.0         3.0   \n",
       "43063   109.0    False   False    2022         3.0         3.0   \n",
       "\n",
       "           tournament          city    country  neutral  year_y  \n",
       "4        Copa América  Buenos Aires  Argentina    False    1916  \n",
       "6        Copa América  Buenos Aires  Argentina    False    1916  \n",
       "7        Copa América  Buenos Aires  Argentina    False    1916  \n",
       "8        Copa América  Buenos Aires  Argentina    False    1916  \n",
       "9        Copa América  Buenos Aires  Argentina    False    1916  \n",
       "...               ...           ...        ...      ...     ...  \n",
       "43052  FIFA World Cup        Lusail      Qatar     True    2022  \n",
       "43053  FIFA World Cup        Lusail      Qatar     True    2022  \n",
       "43059  FIFA World Cup        Lusail      Qatar     True    2022  \n",
       "43060  FIFA World Cup        Lusail      Qatar     True    2022  \n",
       "43063  FIFA World Cup        Lusail      Qatar     True    2022  \n",
       "\n",
       "[939 rows x 16 columns]"
      ]
     },
     "execution_count": 36,
     "metadata": {},
     "output_type": "execute_result"
    }
   ],
   "source": [
    "team_name = 'Argentina'\n",
    "team_goals = inner_join_df[inner_join_df['team']==team_name]\n",
    "print(f\"Filtered Results for {team_name}:\")\n",
    "team_goals"
   ]
  },
  {
   "cell_type": "markdown",
   "id": "86fda7e9",
   "metadata": {
    "papermill": {
     "duration": 0.028103,
     "end_time": "2024-06-04T19:36:30.057499",
     "exception": false,
     "start_time": "2024-06-04T19:36:30.029396",
     "status": "completed"
    },
    "tags": []
   },
   "source": [
    "# What are the most common tournaments played in the dataset?"
   ]
  },
  {
   "cell_type": "code",
   "execution_count": 37,
   "id": "08032fd5",
   "metadata": {
    "execution": {
     "iopub.execute_input": "2024-06-04T19:36:30.116615Z",
     "iopub.status.busy": "2024-06-04T19:36:30.116215Z",
     "iopub.status.idle": "2024-06-04T19:36:30.136533Z",
     "shell.execute_reply": "2024-06-04T19:36:30.135463Z"
    },
    "papermill": {
     "duration": 0.052912,
     "end_time": "2024-06-04T19:36:30.138931",
     "exception": false,
     "start_time": "2024-06-04T19:36:30.086019",
     "status": "completed"
    },
    "tags": []
   },
   "outputs": [
    {
     "data": {
      "text/html": [
       "<div>\n",
       "<style scoped>\n",
       "    .dataframe tbody tr th:only-of-type {\n",
       "        vertical-align: middle;\n",
       "    }\n",
       "\n",
       "    .dataframe tbody tr th {\n",
       "        vertical-align: top;\n",
       "    }\n",
       "\n",
       "    .dataframe thead th {\n",
       "        text-align: right;\n",
       "    }\n",
       "</style>\n",
       "<table border=\"1\" class=\"dataframe\">\n",
       "  <thead>\n",
       "    <tr style=\"text-align: right;\">\n",
       "      <th></th>\n",
       "      <th>tournament</th>\n",
       "      <th>count</th>\n",
       "    </tr>\n",
       "  </thead>\n",
       "  <tbody>\n",
       "    <tr>\n",
       "      <th>0</th>\n",
       "      <td>Friendly</td>\n",
       "      <td>17902</td>\n",
       "    </tr>\n",
       "    <tr>\n",
       "      <th>1</th>\n",
       "      <td>FIFA World Cup qualification</td>\n",
       "      <td>8052</td>\n",
       "    </tr>\n",
       "    <tr>\n",
       "      <th>2</th>\n",
       "      <td>UEFA Euro qualification</td>\n",
       "      <td>2824</td>\n",
       "    </tr>\n",
       "    <tr>\n",
       "      <th>3</th>\n",
       "      <td>African Cup of Nations qualification</td>\n",
       "      <td>2116</td>\n",
       "    </tr>\n",
       "    <tr>\n",
       "      <th>4</th>\n",
       "      <td>FIFA World Cup</td>\n",
       "      <td>964</td>\n",
       "    </tr>\n",
       "    <tr>\n",
       "      <th>...</th>\n",
       "      <td>...</td>\n",
       "      <td>...</td>\n",
       "    </tr>\n",
       "    <tr>\n",
       "      <th>169</th>\n",
       "      <td>Copa Confraternidad</td>\n",
       "      <td>1</td>\n",
       "    </tr>\n",
       "    <tr>\n",
       "      <th>170</th>\n",
       "      <td>Real Madrid 75th Anniversary Cup</td>\n",
       "      <td>1</td>\n",
       "    </tr>\n",
       "    <tr>\n",
       "      <th>171</th>\n",
       "      <td>The Other Final</td>\n",
       "      <td>1</td>\n",
       "    </tr>\n",
       "    <tr>\n",
       "      <th>172</th>\n",
       "      <td>TIFOCO Tournament</td>\n",
       "      <td>1</td>\n",
       "    </tr>\n",
       "    <tr>\n",
       "      <th>173</th>\n",
       "      <td>ConIFA Challenger Cup</td>\n",
       "      <td>1</td>\n",
       "    </tr>\n",
       "  </tbody>\n",
       "</table>\n",
       "<p>174 rows × 2 columns</p>\n",
       "</div>"
      ],
      "text/plain": [
       "                               tournament  count\n",
       "0                                Friendly  17902\n",
       "1            FIFA World Cup qualification   8052\n",
       "2                 UEFA Euro qualification   2824\n",
       "3    African Cup of Nations qualification   2116\n",
       "4                          FIFA World Cup    964\n",
       "..                                    ...    ...\n",
       "169                   Copa Confraternidad      1\n",
       "170      Real Madrid 75th Anniversary Cup      1\n",
       "171                       The Other Final      1\n",
       "172                     TIFOCO Tournament      1\n",
       "173                 ConIFA Challenger Cup      1\n",
       "\n",
       "[174 rows x 2 columns]"
      ]
     },
     "execution_count": 37,
     "metadata": {},
     "output_type": "execute_result"
    }
   ],
   "source": [
    "rs.tournament.value_counts(ascending=False).reset_index()"
   ]
  },
  {
   "cell_type": "code",
   "execution_count": 38,
   "id": "65cc3949",
   "metadata": {
    "execution": {
     "iopub.execute_input": "2024-06-04T19:36:30.198041Z",
     "iopub.status.busy": "2024-06-04T19:36:30.197637Z",
     "iopub.status.idle": "2024-06-04T19:36:30.960092Z",
     "shell.execute_reply": "2024-06-04T19:36:30.959100Z"
    },
    "papermill": {
     "duration": 0.794981,
     "end_time": "2024-06-04T19:36:30.962497",
     "exception": false,
     "start_time": "2024-06-04T19:36:30.167516",
     "status": "completed"
    },
    "tags": []
   },
   "outputs": [
    {
     "data": {
      "image/png": "[encoded data removed]",
      "text/plain": [
       "<Figure size 1400x700 with 1 Axes>"
      ]
     },
     "metadata": {},
     "output_type": "display_data"
    }
   ],
   "source": [
    "tournaments = rs.tournament.value_counts(ascending=False).head(20)\n",
    "plt.figure(figsize=(14, 7))\n",
    "sns.barplot(x=tournaments.values, y=tournaments.index, palette='cool')\n",
    "\n",
    "for i, v in enumerate(tournaments.values):\n",
    "    plt.text(x=v+0.5, y=i, s=str(v), fontsize=8, color='black', va='center')\n",
    "    \n",
    "plt.title('Most Played Tournaments', size=14)\n",
    "plt.xlabel('No. of tournaments played')\n",
    "plt.tight_layout(pad=1.08)\n",
    "plt.show()"
   ]
  },
  {
   "cell_type": "markdown",
   "id": "ecc28d77",
   "metadata": {
    "papermill": {
     "duration": 0.02953,
     "end_time": "2024-06-04T19:36:31.021755",
     "exception": false,
     "start_time": "2024-06-04T19:36:30.992225",
     "status": "completed"
    },
    "tags": []
   },
   "source": [
    "# Is there any trend in the number of matches played over the years?"
   ]
  },
  {
   "cell_type": "code",
   "execution_count": 39,
   "id": "c258406b",
   "metadata": {
    "execution": {
     "iopub.execute_input": "2024-06-04T19:36:31.083741Z",
     "iopub.status.busy": "2024-06-04T19:36:31.082953Z",
     "iopub.status.idle": "2024-06-04T19:36:31.098588Z",
     "shell.execute_reply": "2024-06-04T19:36:31.097467Z"
    },
    "papermill": {
     "duration": 0.049372,
     "end_time": "2024-06-04T19:36:31.100863",
     "exception": false,
     "start_time": "2024-06-04T19:36:31.051491",
     "status": "completed"
    },
    "tags": []
   },
   "outputs": [
    {
     "data": {
      "text/html": [
       "<div>\n",
       "<style scoped>\n",
       "    .dataframe tbody tr th:only-of-type {\n",
       "        vertical-align: middle;\n",
       "    }\n",
       "\n",
       "    .dataframe tbody tr th {\n",
       "        vertical-align: top;\n",
       "    }\n",
       "\n",
       "    .dataframe thead th {\n",
       "        text-align: right;\n",
       "    }\n",
       "</style>\n",
       "<table border=\"1\" class=\"dataframe\">\n",
       "  <thead>\n",
       "    <tr style=\"text-align: right;\">\n",
       "      <th></th>\n",
       "      <th>year</th>\n",
       "      <th>count</th>\n",
       "    </tr>\n",
       "  </thead>\n",
       "  <tbody>\n",
       "    <tr>\n",
       "      <th>0</th>\n",
       "      <td>2019</td>\n",
       "      <td>1147</td>\n",
       "    </tr>\n",
       "    <tr>\n",
       "      <th>1</th>\n",
       "      <td>2021</td>\n",
       "      <td>1115</td>\n",
       "    </tr>\n",
       "    <tr>\n",
       "      <th>2</th>\n",
       "      <td>2011</td>\n",
       "      <td>1115</td>\n",
       "    </tr>\n",
       "    <tr>\n",
       "      <th>3</th>\n",
       "      <td>2008</td>\n",
       "      <td>1101</td>\n",
       "    </tr>\n",
       "    <tr>\n",
       "      <th>4</th>\n",
       "      <td>2004</td>\n",
       "      <td>1079</td>\n",
       "    </tr>\n",
       "    <tr>\n",
       "      <th>...</th>\n",
       "      <td>...</td>\n",
       "      <td>...</td>\n",
       "    </tr>\n",
       "    <tr>\n",
       "      <th>148</th>\n",
       "      <td>1878</td>\n",
       "      <td>2</td>\n",
       "    </tr>\n",
       "    <tr>\n",
       "      <th>149</th>\n",
       "      <td>1874</td>\n",
       "      <td>1</td>\n",
       "    </tr>\n",
       "    <tr>\n",
       "      <th>150</th>\n",
       "      <td>1873</td>\n",
       "      <td>1</td>\n",
       "    </tr>\n",
       "    <tr>\n",
       "      <th>151</th>\n",
       "      <td>1875</td>\n",
       "      <td>1</td>\n",
       "    </tr>\n",
       "    <tr>\n",
       "      <th>152</th>\n",
       "      <td>1872</td>\n",
       "      <td>1</td>\n",
       "    </tr>\n",
       "  </tbody>\n",
       "</table>\n",
       "<p>153 rows × 2 columns</p>\n",
       "</div>"
      ],
      "text/plain": [
       "     year  count\n",
       "0    2019   1147\n",
       "1    2021   1115\n",
       "2    2011   1115\n",
       "3    2008   1101\n",
       "4    2004   1079\n",
       "..    ...    ...\n",
       "148  1878      2\n",
       "149  1874      1\n",
       "150  1873      1\n",
       "151  1875      1\n",
       "152  1872      1\n",
       "\n",
       "[153 rows x 2 columns]"
      ]
     },
     "execution_count": 39,
     "metadata": {},
     "output_type": "execute_result"
    }
   ],
   "source": [
    "rs['year'].value_counts(ascending=False).reset_index()"
   ]
  },
  {
   "cell_type": "code",
   "execution_count": 40,
   "id": "fbf261db",
   "metadata": {
    "execution": {
     "iopub.execute_input": "2024-06-04T19:36:31.163225Z",
     "iopub.status.busy": "2024-06-04T19:36:31.162832Z",
     "iopub.status.idle": "2024-06-04T19:36:31.735566Z",
     "shell.execute_reply": "2024-06-04T19:36:31.734520Z"
    },
    "papermill": {
     "duration": 0.606699,
     "end_time": "2024-06-04T19:36:31.738083",
     "exception": false,
     "start_time": "2024-06-04T19:36:31.131384",
     "status": "completed"
    },
    "tags": []
   },
   "outputs": [
    {
     "data": {
      "image/png": "[encoded data removed]",
      "text/plain": [
       "<Figure size 1400x600 with 1 Axes>"
      ]
     },
     "metadata": {},
     "output_type": "display_data"
    }
   ],
   "source": [
    "matches=rs['year'].value_counts().head(30)\n",
    "plt.figure(figsize=(14,6))\n",
    "matches.plot(kind='bar', color='teal')\n",
    "\n",
    "plt.show()"
   ]
  },
  {
   "cell_type": "markdown",
   "id": "1ca22f70",
   "metadata": {
    "papermill": {
     "duration": 0.030337,
     "end_time": "2024-06-04T19:36:31.798933",
     "exception": false,
     "start_time": "2024-06-04T19:36:31.768596",
     "status": "completed"
    },
    "tags": []
   },
   "source": [
    "# Which countries have the highest number of matches recorded?"
   ]
  },
  {
   "cell_type": "code",
   "execution_count": 41,
   "id": "bfd809f4",
   "metadata": {
    "execution": {
     "iopub.execute_input": "2024-06-04T19:36:31.861551Z",
     "iopub.status.busy": "2024-06-04T19:36:31.860541Z",
     "iopub.status.idle": "2024-06-04T19:36:31.879633Z",
     "shell.execute_reply": "2024-06-04T19:36:31.878716Z"
    },
    "papermill": {
     "duration": 0.052691,
     "end_time": "2024-06-04T19:36:31.881913",
     "exception": false,
     "start_time": "2024-06-04T19:36:31.829222",
     "status": "completed"
    },
    "tags": []
   },
   "outputs": [
    {
     "data": {
      "text/html": [
       "<div>\n",
       "<style scoped>\n",
       "    .dataframe tbody tr th:only-of-type {\n",
       "        vertical-align: middle;\n",
       "    }\n",
       "\n",
       "    .dataframe tbody tr th {\n",
       "        vertical-align: top;\n",
       "    }\n",
       "\n",
       "    .dataframe thead th {\n",
       "        text-align: right;\n",
       "    }\n",
       "</style>\n",
       "<table border=\"1\" class=\"dataframe\">\n",
       "  <thead>\n",
       "    <tr style=\"text-align: right;\">\n",
       "      <th></th>\n",
       "      <th>country</th>\n",
       "      <th>tournament</th>\n",
       "    </tr>\n",
       "  </thead>\n",
       "  <tbody>\n",
       "    <tr>\n",
       "      <th>0</th>\n",
       "      <td>United States</td>\n",
       "      <td>1353</td>\n",
       "    </tr>\n",
       "    <tr>\n",
       "      <th>1</th>\n",
       "      <td>France</td>\n",
       "      <td>887</td>\n",
       "    </tr>\n",
       "    <tr>\n",
       "      <th>2</th>\n",
       "      <td>Malaysia</td>\n",
       "      <td>812</td>\n",
       "    </tr>\n",
       "    <tr>\n",
       "      <th>3</th>\n",
       "      <td>England</td>\n",
       "      <td>743</td>\n",
       "    </tr>\n",
       "    <tr>\n",
       "      <th>4</th>\n",
       "      <td>Thailand</td>\n",
       "      <td>699</td>\n",
       "    </tr>\n",
       "    <tr>\n",
       "      <th>...</th>\n",
       "      <td>...</td>\n",
       "      <td>...</td>\n",
       "    </tr>\n",
       "    <tr>\n",
       "      <th>266</th>\n",
       "      <td>Mali Federation</td>\n",
       "      <td>1</td>\n",
       "    </tr>\n",
       "    <tr>\n",
       "      <th>267</th>\n",
       "      <td>Micronesia</td>\n",
       "      <td>1</td>\n",
       "    </tr>\n",
       "    <tr>\n",
       "      <th>268</th>\n",
       "      <td>Bohemia and Moravia</td>\n",
       "      <td>1</td>\n",
       "    </tr>\n",
       "    <tr>\n",
       "      <th>269</th>\n",
       "      <td>Belgian Congo</td>\n",
       "      <td>1</td>\n",
       "    </tr>\n",
       "    <tr>\n",
       "      <th>270</th>\n",
       "      <td>Lautoka</td>\n",
       "      <td>1</td>\n",
       "    </tr>\n",
       "  </tbody>\n",
       "</table>\n",
       "<p>271 rows × 2 columns</p>\n",
       "</div>"
      ],
      "text/plain": [
       "                 country  tournament\n",
       "0          United States        1353\n",
       "1                 France         887\n",
       "2               Malaysia         812\n",
       "3                England         743\n",
       "4               Thailand         699\n",
       "..                   ...         ...\n",
       "266      Mali Federation           1\n",
       "267           Micronesia           1\n",
       "268  Bohemia and Moravia           1\n",
       "269        Belgian Congo           1\n",
       "270              Lautoka           1\n",
       "\n",
       "[271 rows x 2 columns]"
      ]
     },
     "execution_count": 41,
     "metadata": {},
     "output_type": "execute_result"
    }
   ],
   "source": [
    "rs.groupby('country')['tournament'].size().sort_values(ascending=False).reset_index()"
   ]
  },
  {
   "cell_type": "code",
   "execution_count": 42,
   "id": "4404a55f",
   "metadata": {
    "execution": {
     "iopub.execute_input": "2024-06-04T19:36:31.945516Z",
     "iopub.status.busy": "2024-06-04T19:36:31.945121Z",
     "iopub.status.idle": "2024-06-04T19:36:32.522271Z",
     "shell.execute_reply": "2024-06-04T19:36:32.521172Z"
    },
    "papermill": {
     "duration": 0.613052,
     "end_time": "2024-06-04T19:36:32.525544",
     "exception": false,
     "start_time": "2024-06-04T19:36:31.912492",
     "status": "completed"
    },
    "tags": []
   },
   "outputs": [
    {
     "data": {
      "image/png": "[encoded data removed]",
      "text/plain": [
       "<Figure size 1400x700 with 1 Axes>"
      ]
     },
     "metadata": {},
     "output_type": "display_data"
    }
   ],
   "source": [
    "country = rs.groupby('country')['tournament'].size().sort_values(ascending=False).head(20)\n",
    "plt.figure(figsize=(14, 7))\n",
    "sns.barplot(x=country.values, y=country.index, palette='viridis')\n",
    "plt.title('Countries with the highes matches recorded')\n",
    "plt.xlabel('No.of matches')\n",
    "plt.tight_layout(pad=1.08)\n",
    "plt.show()"
   ]
  },
  {
   "cell_type": "code",
   "execution_count": 43,
   "id": "53d10563",
   "metadata": {
    "execution": {
     "iopub.execute_input": "2024-06-04T19:36:32.591450Z",
     "iopub.status.busy": "2024-06-04T19:36:32.590534Z",
     "iopub.status.idle": "2024-06-04T19:36:33.164976Z",
     "shell.execute_reply": "2024-06-04T19:36:33.163975Z"
    },
    "papermill": {
     "duration": 0.61004,
     "end_time": "2024-06-04T19:36:33.167860",
     "exception": false,
     "start_time": "2024-06-04T19:36:32.557820",
     "status": "completed"
    },
    "tags": []
   },
   "outputs": [
    {
     "data": {
      "image/png": "[encoded data removed]",
      "text/plain": [
       "<Figure size 1200x600 with 1 Axes>"
      ]
     },
     "metadata": {},
     "output_type": "display_data"
    }
   ],
   "source": [
    "matches_grouped = rs.groupby('country')['neutral'].mean().reset_index()\n",
    "\n",
    "matches_grouped = matches_grouped[matches_grouped['neutral'] > 0]\n",
    "\n",
    "matches_grouped = matches_grouped.sort_values(by='neutral', ascending=False).head(20)\n",
    "\n",
    "plt.figure(figsize=(12, 6))\n",
    "plt.bar(matches_grouped['country'], matches_grouped['neutral'], color='skyblue')\n",
    "plt.xlabel('Country')\n",
    "plt.ylabel('Proportion of Matches in Neutral Venues')\n",
    "plt.title('Proportion of Matches Played in Neutral Venues by Country')\n",
    "plt.xticks(rotation=90)\n",
    "plt.tight_layout(pad=1.09)\n",
    "plt.show()"
   ]
  },
  {
   "cell_type": "markdown",
   "id": "55c43004",
   "metadata": {
    "papermill": {
     "duration": 0.033397,
     "end_time": "2024-06-04T19:36:33.233929",
     "exception": false,
     "start_time": "2024-06-04T19:36:33.200532",
     "status": "completed"
    },
    "tags": []
   },
   "source": [
    "# home_score and away_score comparision plot"
   ]
  },
  {
   "cell_type": "code",
   "execution_count": 44,
   "id": "b18eb0b2",
   "metadata": {
    "execution": {
     "iopub.execute_input": "2024-06-04T19:36:33.303143Z",
     "iopub.status.busy": "2024-06-04T19:36:33.302732Z",
     "iopub.status.idle": "2024-06-04T19:36:36.529027Z",
     "shell.execute_reply": "2024-06-04T19:36:36.527875Z"
    },
    "papermill": {
     "duration": 3.263782,
     "end_time": "2024-06-04T19:36:36.531314",
     "exception": false,
     "start_time": "2024-06-04T19:36:33.267532",
     "status": "completed"
    },
    "tags": []
   },
   "outputs": [
    {
     "data": {
      "image/png": "[encoded data removed]",
      "text/plain": [
       "<Figure size 500x500 with 6 Axes>"
      ]
     },
     "metadata": {},
     "output_type": "display_data"
    }
   ],
   "source": [
    "sns.pairplot(rs.iloc[:,3:5])\n",
    "plt.show()"
   ]
  },
  {
   "cell_type": "code",
   "execution_count": null,
   "id": "8f5bbcbf",
   "metadata": {
    "papermill": {
     "duration": 0.032976,
     "end_time": "2024-06-04T19:36:36.597951",
     "exception": false,
     "start_time": "2024-06-04T19:36:36.564975",
     "status": "completed"
    },
    "tags": []
   },
   "outputs": [],
   "source": []
  },
  {
   "cell_type": "markdown",
   "id": "aa49c2f4",
   "metadata": {
    "papermill": {
     "duration": 0.03323,
     "end_time": "2024-06-04T19:36:36.664880",
     "exception": false,
     "start_time": "2024-06-04T19:36:36.631650",
     "status": "completed"
    },
    "tags": []
   },
   "source": [
    "**The analysis of football match data reveals interesting insights into the prevalence of neutral venues across different countries. By examining the proportion of matches played in neutral venues, we can observe variations in the hosting patterns among nations. This information can be valuable for understanding the dynamics of international football tournaments and the factors influencing venue selections. Further exploration and context-specific considerations may provide deeper insights into the reasons behind the prevalence of neutral venues in certain regions.**"
   ]
  },
  {
   "cell_type": "code",
   "execution_count": null,
   "id": "903f842f",
   "metadata": {
    "papermill": {
     "duration": 0.033816,
     "end_time": "2024-06-04T19:36:36.732436",
     "exception": false,
     "start_time": "2024-06-04T19:36:36.698620",
     "status": "completed"
    },
    "tags": []
   },
   "outputs": [],
   "source": []
  }
 ],
 "metadata": {
  "kaggle": {
   "accelerator": "none",
   "dataSources": [
    {
     "datasetId": 4305,
     "sourceId": 8423407,
     "sourceType": "datasetVersion"
    }
   ],
   "dockerImageVersionId": 30664,
   "isGpuEnabled": false,
   "isInternetEnabled": true,
   "language": "python",
   "sourceType": "notebook"
  },
  "kernelspec": {
   "display_name": "Python 3",
   "language": "python",
   "name": "python3"
  },
  "language_info": {
   "codemirror_mode": {
    "name": "ipython",
    "version": 3
   },
   "file_extension": ".py",
   "mimetype": "text/x-python",
   "name": "python",
   "nbconvert_exporter": "python",
   "pygments_lexer": "ipython3",
   "version": "3.10.13"
  },
  "papermill": {
   "default_parameters": {},
   "duration": 20.660777,
   "end_time": "2024-06-04T19:36:37.486588",
   "environment_variables": {},
   "exception": null,
   "input_path": "__notebook__.ipynb",
   "output_path": "__notebook__.ipynb",
   "parameters": {},
   "start_time": "2024-06-04T19:36:16.825811",
   "version": "2.5.0"
  }
 },
 "nbformat": 4,
 "nbformat_minor": 5
}
