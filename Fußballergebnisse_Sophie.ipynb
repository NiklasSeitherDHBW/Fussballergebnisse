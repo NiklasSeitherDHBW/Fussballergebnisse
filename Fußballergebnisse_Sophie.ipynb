{
 "cells": [
  {
   "cell_type": "markdown",
   "metadata": {},
   "source": [
    "<h1 style=\"text-align:center;font-size:200%;;\">Explorative Datenanalyse 📊</h1>"
   ]
  },
  {
   "cell_type": "markdown",
   "metadata": {},
   "source": [
    "<form action=\"/action_page.php\">\n",
    "  <fieldset>\n",
    "    <legend>Aufbau:</legend>\n",
    "    \n",
    "   <div class=\"card\">\n",
    "    <p class=\"card-text\">Beschreibung des Aufbaus der EDA</p>\n",
    "  \n",
    "  </div>\n",
    "</div>\n",
    "    \n",
    "  </fieldset>\n",
    "</form>"
   ]
  },
  {
   "cell_type": "markdown",
   "metadata": {},
   "source": [
    "#### Bibliotheken importieren:"
   ]
  },
  {
   "cell_type": "code",
   "execution_count": 125,
   "metadata": {},
   "outputs": [],
   "source": [
    "import pandas as pd\n",
    "import numpy as np\n",
    "import matplotlib.pyplot as plt\n",
    "import plotly.express as px\n",
    "import plotly.graph_objects as go"
   ]
  },
  {
   "cell_type": "markdown",
   "metadata": {},
   "source": [
    "<hr class=\"my-4\">"
   ]
  },
  {
   "cell_type": "markdown",
   "metadata": {},
   "source": [
    "#### Daten einlesen:"
   ]
  },
  {
   "cell_type": "code",
   "execution_count": 126,
   "metadata": {},
   "outputs": [],
   "source": [
    "df_results = pd.read_csv('files/input/results.csv', encoding=\"utf-8\")\n",
    "df_shootouts = pd.read_csv('files/input/shootouts.csv', encoding=\"utf-8\")\n",
    "df_goalscorers = pd.read_csv('files/input/goalscorers.csv', encoding=\"utf-8\")"
   ]
  },
  {
   "cell_type": "markdown",
   "metadata": {},
   "source": [
    "<hr class=\"my-4\">"
   ]
  },
  {
   "cell_type": "markdown",
   "metadata": {},
   "source": [
    "#### Dateneinblick:"
   ]
  },
  {
   "cell_type": "markdown",
   "metadata": {},
   "source": [
    "(Spalten, Datentypen, fehlende Werte / Null-Values, Statistiken)"
   ]
  },
  {
   "cell_type": "code",
   "execution_count": 127,
   "metadata": {},
   "outputs": [
    {
     "data": {
      "text/html": [
       "<div>\n",
       "<style scoped>\n",
       "    .dataframe tbody tr th:only-of-type {\n",
       "        vertical-align: middle;\n",
       "    }\n",
       "\n",
       "    .dataframe tbody tr th {\n",
       "        vertical-align: top;\n",
       "    }\n",
       "\n",
       "    .dataframe thead th {\n",
       "        text-align: right;\n",
       "    }\n",
       "</style>\n",
       "<table border=\"1\" class=\"dataframe\">\n",
       "  <thead>\n",
       "    <tr style=\"text-align: right;\">\n",
       "      <th></th>\n",
       "      <th>date</th>\n",
       "      <th>home_team</th>\n",
       "      <th>away_team</th>\n",
       "      <th>home_score</th>\n",
       "      <th>away_score</th>\n",
       "      <th>tournament</th>\n",
       "      <th>city</th>\n",
       "      <th>country</th>\n",
       "      <th>neutral</th>\n",
       "    </tr>\n",
       "  </thead>\n",
       "  <tbody>\n",
       "    <tr>\n",
       "      <th>0</th>\n",
       "      <td>1872-11-30</td>\n",
       "      <td>Scotland</td>\n",
       "      <td>England</td>\n",
       "      <td>0.0</td>\n",
       "      <td>0.0</td>\n",
       "      <td>Friendly</td>\n",
       "      <td>Glasgow</td>\n",
       "      <td>Scotland</td>\n",
       "      <td>False</td>\n",
       "    </tr>\n",
       "    <tr>\n",
       "      <th>1</th>\n",
       "      <td>1873-03-08</td>\n",
       "      <td>England</td>\n",
       "      <td>Scotland</td>\n",
       "      <td>4.0</td>\n",
       "      <td>2.0</td>\n",
       "      <td>Friendly</td>\n",
       "      <td>London</td>\n",
       "      <td>England</td>\n",
       "      <td>False</td>\n",
       "    </tr>\n",
       "    <tr>\n",
       "      <th>2</th>\n",
       "      <td>1874-03-07</td>\n",
       "      <td>Scotland</td>\n",
       "      <td>England</td>\n",
       "      <td>2.0</td>\n",
       "      <td>1.0</td>\n",
       "      <td>Friendly</td>\n",
       "      <td>Glasgow</td>\n",
       "      <td>Scotland</td>\n",
       "      <td>False</td>\n",
       "    </tr>\n",
       "    <tr>\n",
       "      <th>3</th>\n",
       "      <td>1875-03-06</td>\n",
       "      <td>England</td>\n",
       "      <td>Scotland</td>\n",
       "      <td>2.0</td>\n",
       "      <td>2.0</td>\n",
       "      <td>Friendly</td>\n",
       "      <td>London</td>\n",
       "      <td>England</td>\n",
       "      <td>False</td>\n",
       "    </tr>\n",
       "    <tr>\n",
       "      <th>4</th>\n",
       "      <td>1876-03-04</td>\n",
       "      <td>Scotland</td>\n",
       "      <td>England</td>\n",
       "      <td>3.0</td>\n",
       "      <td>0.0</td>\n",
       "      <td>Friendly</td>\n",
       "      <td>Glasgow</td>\n",
       "      <td>Scotland</td>\n",
       "      <td>False</td>\n",
       "    </tr>\n",
       "  </tbody>\n",
       "</table>\n",
       "</div>"
      ],
      "text/plain": [
       "         date home_team away_team  home_score  away_score tournament     city  \\\n",
       "0  1872-11-30  Scotland   England         0.0         0.0   Friendly  Glasgow   \n",
       "1  1873-03-08   England  Scotland         4.0         2.0   Friendly   London   \n",
       "2  1874-03-07  Scotland   England         2.0         1.0   Friendly  Glasgow   \n",
       "3  1875-03-06   England  Scotland         2.0         2.0   Friendly   London   \n",
       "4  1876-03-04  Scotland   England         3.0         0.0   Friendly  Glasgow   \n",
       "\n",
       "    country  neutral  \n",
       "0  Scotland    False  \n",
       "1   England    False  \n",
       "2  Scotland    False  \n",
       "3   England    False  \n",
       "4  Scotland    False  "
      ]
     },
     "execution_count": 127,
     "metadata": {},
     "output_type": "execute_result"
    }
   ],
   "source": [
    "df_results.head()"
   ]
  },
  {
   "cell_type": "code",
   "execution_count": 128,
   "metadata": {},
   "outputs": [
    {
     "name": "stdout",
     "output_type": "stream",
     "text": [
      "<class 'pandas.core.frame.DataFrame'>\n",
      "RangeIndex: 47126 entries, 0 to 47125\n",
      "Data columns (total 9 columns):\n",
      " #   Column      Non-Null Count  Dtype  \n",
      "---  ------      --------------  -----  \n",
      " 0   date        47126 non-null  object \n",
      " 1   home_team   47111 non-null  object \n",
      " 2   away_team   47111 non-null  object \n",
      " 3   home_score  47075 non-null  float64\n",
      " 4   away_score  47075 non-null  float64\n",
      " 5   tournament  47126 non-null  object \n",
      " 6   city        47126 non-null  object \n",
      " 7   country     47126 non-null  object \n",
      " 8   neutral     47126 non-null  bool   \n",
      "dtypes: bool(1), float64(2), object(6)\n",
      "memory usage: 2.9+ MB\n"
     ]
    }
   ],
   "source": [
    "df_results.info()"
   ]
  },
  {
   "cell_type": "code",
   "execution_count": 129,
   "metadata": {},
   "outputs": [
    {
     "data": {
      "text/plain": [
       "date           0\n",
       "home_team     15\n",
       "away_team     15\n",
       "home_score    51\n",
       "away_score    51\n",
       "tournament     0\n",
       "city           0\n",
       "country        0\n",
       "neutral        0\n",
       "dtype: int64"
      ]
     },
     "execution_count": 129,
     "metadata": {},
     "output_type": "execute_result"
    }
   ],
   "source": [
    "df_results.isnull().sum()"
   ]
  },
  {
   "cell_type": "code",
   "execution_count": 136,
   "metadata": {},
   "outputs": [
    {
     "data": {
      "text/html": [
       "<div>\n",
       "<style scoped>\n",
       "    .dataframe tbody tr th:only-of-type {\n",
       "        vertical-align: middle;\n",
       "    }\n",
       "\n",
       "    .dataframe tbody tr th {\n",
       "        vertical-align: top;\n",
       "    }\n",
       "\n",
       "    .dataframe thead th {\n",
       "        text-align: right;\n",
       "    }\n",
       "</style>\n",
       "<table border=\"1\" class=\"dataframe\">\n",
       "  <thead>\n",
       "    <tr style=\"text-align: right;\">\n",
       "      <th></th>\n",
       "      <th>home_score</th>\n",
       "      <th>away_score</th>\n",
       "    </tr>\n",
       "  </thead>\n",
       "  <tbody>\n",
       "    <tr>\n",
       "      <th>count</th>\n",
       "      <td>47075.000000</td>\n",
       "      <td>47075.000000</td>\n",
       "    </tr>\n",
       "    <tr>\n",
       "      <th>mean</th>\n",
       "      <td>1.761190</td>\n",
       "      <td>1.183452</td>\n",
       "    </tr>\n",
       "    <tr>\n",
       "      <th>std</th>\n",
       "      <td>1.776751</td>\n",
       "      <td>1.402597</td>\n",
       "    </tr>\n",
       "    <tr>\n",
       "      <th>min</th>\n",
       "      <td>0.000000</td>\n",
       "      <td>0.000000</td>\n",
       "    </tr>\n",
       "    <tr>\n",
       "      <th>25%</th>\n",
       "      <td>1.000000</td>\n",
       "      <td>0.000000</td>\n",
       "    </tr>\n",
       "    <tr>\n",
       "      <th>50%</th>\n",
       "      <td>1.000000</td>\n",
       "      <td>1.000000</td>\n",
       "    </tr>\n",
       "    <tr>\n",
       "      <th>75%</th>\n",
       "      <td>2.000000</td>\n",
       "      <td>2.000000</td>\n",
       "    </tr>\n",
       "    <tr>\n",
       "      <th>max</th>\n",
       "      <td>31.000000</td>\n",
       "      <td>21.000000</td>\n",
       "    </tr>\n",
       "  </tbody>\n",
       "</table>\n",
       "</div>"
      ],
      "text/plain": [
       "         home_score    away_score\n",
       "count  47075.000000  47075.000000\n",
       "mean       1.761190      1.183452\n",
       "std        1.776751      1.402597\n",
       "min        0.000000      0.000000\n",
       "25%        1.000000      0.000000\n",
       "50%        1.000000      1.000000\n",
       "75%        2.000000      2.000000\n",
       "max       31.000000     21.000000"
      ]
     },
     "execution_count": 136,
     "metadata": {},
     "output_type": "execute_result"
    }
   ],
   "source": [
    "df_results.describe()"
   ]
  },
  {
   "cell_type": "code",
   "execution_count": 130,
   "metadata": {},
   "outputs": [
    {
     "data": {
      "text/html": [
       "<div>\n",
       "<style scoped>\n",
       "    .dataframe tbody tr th:only-of-type {\n",
       "        vertical-align: middle;\n",
       "    }\n",
       "\n",
       "    .dataframe tbody tr th {\n",
       "        vertical-align: top;\n",
       "    }\n",
       "\n",
       "    .dataframe thead th {\n",
       "        text-align: right;\n",
       "    }\n",
       "</style>\n",
       "<table border=\"1\" class=\"dataframe\">\n",
       "  <thead>\n",
       "    <tr style=\"text-align: right;\">\n",
       "      <th></th>\n",
       "      <th>date</th>\n",
       "      <th>home_team</th>\n",
       "      <th>away_team</th>\n",
       "      <th>winner</th>\n",
       "      <th>first_shooter</th>\n",
       "    </tr>\n",
       "  </thead>\n",
       "  <tbody>\n",
       "    <tr>\n",
       "      <th>0</th>\n",
       "      <td>1967-08-22</td>\n",
       "      <td>India</td>\n",
       "      <td>Taiwan</td>\n",
       "      <td>Taiwan</td>\n",
       "      <td>NaN</td>\n",
       "    </tr>\n",
       "    <tr>\n",
       "      <th>1</th>\n",
       "      <td>1971-11-14</td>\n",
       "      <td>South Korea</td>\n",
       "      <td>Vietnam Republic</td>\n",
       "      <td>South Korea</td>\n",
       "      <td>NaN</td>\n",
       "    </tr>\n",
       "    <tr>\n",
       "      <th>2</th>\n",
       "      <td>1972-05-07</td>\n",
       "      <td>South Korea</td>\n",
       "      <td>Iraq</td>\n",
       "      <td>Iraq</td>\n",
       "      <td>NaN</td>\n",
       "    </tr>\n",
       "    <tr>\n",
       "      <th>3</th>\n",
       "      <td>1972-05-17</td>\n",
       "      <td>Thailand</td>\n",
       "      <td>South Korea</td>\n",
       "      <td>South Korea</td>\n",
       "      <td>NaN</td>\n",
       "    </tr>\n",
       "    <tr>\n",
       "      <th>4</th>\n",
       "      <td>1972-05-19</td>\n",
       "      <td>Thailand</td>\n",
       "      <td>Cambodia</td>\n",
       "      <td>Thailand</td>\n",
       "      <td>NaN</td>\n",
       "    </tr>\n",
       "  </tbody>\n",
       "</table>\n",
       "</div>"
      ],
      "text/plain": [
       "         date    home_team         away_team       winner first_shooter\n",
       "0  1967-08-22        India            Taiwan       Taiwan           NaN\n",
       "1  1971-11-14  South Korea  Vietnam Republic  South Korea           NaN\n",
       "2  1972-05-07  South Korea              Iraq         Iraq           NaN\n",
       "3  1972-05-17     Thailand       South Korea  South Korea           NaN\n",
       "4  1972-05-19     Thailand          Cambodia     Thailand           NaN"
      ]
     },
     "execution_count": 130,
     "metadata": {},
     "output_type": "execute_result"
    }
   ],
   "source": [
    "df_shootouts.head()"
   ]
  },
  {
   "cell_type": "code",
   "execution_count": 131,
   "metadata": {},
   "outputs": [
    {
     "name": "stdout",
     "output_type": "stream",
     "text": [
      "<class 'pandas.core.frame.DataFrame'>\n",
      "RangeIndex: 636 entries, 0 to 635\n",
      "Data columns (total 5 columns):\n",
      " #   Column         Non-Null Count  Dtype \n",
      "---  ------         --------------  ----- \n",
      " 0   date           636 non-null    object\n",
      " 1   home_team      636 non-null    object\n",
      " 2   away_team      636 non-null    object\n",
      " 3   winner         636 non-null    object\n",
      " 4   first_shooter  222 non-null    object\n",
      "dtypes: object(5)\n",
      "memory usage: 25.0+ KB\n"
     ]
    }
   ],
   "source": [
    "df_shootouts.info()"
   ]
  },
  {
   "cell_type": "code",
   "execution_count": 132,
   "metadata": {},
   "outputs": [
    {
     "data": {
      "text/plain": [
       "date               0\n",
       "home_team          0\n",
       "away_team          0\n",
       "winner             0\n",
       "first_shooter    414\n",
       "dtype: int64"
      ]
     },
     "execution_count": 132,
     "metadata": {},
     "output_type": "execute_result"
    }
   ],
   "source": [
    "df_shootouts.isnull().sum()"
   ]
  },
  {
   "cell_type": "code",
   "execution_count": 137,
   "metadata": {},
   "outputs": [
    {
     "data": {
      "text/html": [
       "<div>\n",
       "<style scoped>\n",
       "    .dataframe tbody tr th:only-of-type {\n",
       "        vertical-align: middle;\n",
       "    }\n",
       "\n",
       "    .dataframe tbody tr th {\n",
       "        vertical-align: top;\n",
       "    }\n",
       "\n",
       "    .dataframe thead th {\n",
       "        text-align: right;\n",
       "    }\n",
       "</style>\n",
       "<table border=\"1\" class=\"dataframe\">\n",
       "  <thead>\n",
       "    <tr style=\"text-align: right;\">\n",
       "      <th></th>\n",
       "      <th>date</th>\n",
       "      <th>home_team</th>\n",
       "      <th>away_team</th>\n",
       "      <th>winner</th>\n",
       "      <th>first_shooter</th>\n",
       "    </tr>\n",
       "  </thead>\n",
       "  <tbody>\n",
       "    <tr>\n",
       "      <th>count</th>\n",
       "      <td>636</td>\n",
       "      <td>636</td>\n",
       "      <td>636</td>\n",
       "      <td>636</td>\n",
       "      <td>222</td>\n",
       "    </tr>\n",
       "    <tr>\n",
       "      <th>unique</th>\n",
       "      <td>561</td>\n",
       "      <td>180</td>\n",
       "      <td>189</td>\n",
       "      <td>174</td>\n",
       "      <td>85</td>\n",
       "    </tr>\n",
       "    <tr>\n",
       "      <th>top</th>\n",
       "      <td>2024-03-26</td>\n",
       "      <td>South Africa</td>\n",
       "      <td>Egypt</td>\n",
       "      <td>South Korea</td>\n",
       "      <td>Colombia</td>\n",
       "    </tr>\n",
       "    <tr>\n",
       "      <th>freq</th>\n",
       "      <td>5</td>\n",
       "      <td>18</td>\n",
       "      <td>15</td>\n",
       "      <td>15</td>\n",
       "      <td>11</td>\n",
       "    </tr>\n",
       "  </tbody>\n",
       "</table>\n",
       "</div>"
      ],
      "text/plain": [
       "              date     home_team away_team       winner first_shooter\n",
       "count          636           636       636          636           222\n",
       "unique         561           180       189          174            85\n",
       "top     2024-03-26  South Africa     Egypt  South Korea      Colombia\n",
       "freq             5            18        15           15            11"
      ]
     },
     "execution_count": 137,
     "metadata": {},
     "output_type": "execute_result"
    }
   ],
   "source": [
    "df_shootouts.describe()"
   ]
  },
  {
   "cell_type": "code",
   "execution_count": 133,
   "metadata": {},
   "outputs": [
    {
     "data": {
      "text/html": [
       "<div>\n",
       "<style scoped>\n",
       "    .dataframe tbody tr th:only-of-type {\n",
       "        vertical-align: middle;\n",
       "    }\n",
       "\n",
       "    .dataframe tbody tr th {\n",
       "        vertical-align: top;\n",
       "    }\n",
       "\n",
       "    .dataframe thead th {\n",
       "        text-align: right;\n",
       "    }\n",
       "</style>\n",
       "<table border=\"1\" class=\"dataframe\">\n",
       "  <thead>\n",
       "    <tr style=\"text-align: right;\">\n",
       "      <th></th>\n",
       "      <th>date</th>\n",
       "      <th>home_team</th>\n",
       "      <th>away_team</th>\n",
       "      <th>team</th>\n",
       "      <th>scorer</th>\n",
       "      <th>minute</th>\n",
       "      <th>own_goal</th>\n",
       "      <th>penalty</th>\n",
       "    </tr>\n",
       "  </thead>\n",
       "  <tbody>\n",
       "    <tr>\n",
       "      <th>0</th>\n",
       "      <td>1916-07-02</td>\n",
       "      <td>Chile</td>\n",
       "      <td>Uruguay</td>\n",
       "      <td>Uruguay</td>\n",
       "      <td>José Piendibene</td>\n",
       "      <td>44.0</td>\n",
       "      <td>False</td>\n",
       "      <td>False</td>\n",
       "    </tr>\n",
       "    <tr>\n",
       "      <th>1</th>\n",
       "      <td>1916-07-02</td>\n",
       "      <td>Chile</td>\n",
       "      <td>Uruguay</td>\n",
       "      <td>Uruguay</td>\n",
       "      <td>Isabelino Gradín</td>\n",
       "      <td>55.0</td>\n",
       "      <td>False</td>\n",
       "      <td>False</td>\n",
       "    </tr>\n",
       "    <tr>\n",
       "      <th>2</th>\n",
       "      <td>1916-07-02</td>\n",
       "      <td>Chile</td>\n",
       "      <td>Uruguay</td>\n",
       "      <td>Uruguay</td>\n",
       "      <td>Isabelino Gradín</td>\n",
       "      <td>70.0</td>\n",
       "      <td>False</td>\n",
       "      <td>False</td>\n",
       "    </tr>\n",
       "    <tr>\n",
       "      <th>3</th>\n",
       "      <td>1916-07-02</td>\n",
       "      <td>Chile</td>\n",
       "      <td>Uruguay</td>\n",
       "      <td>Uruguay</td>\n",
       "      <td>José Piendibene</td>\n",
       "      <td>75.0</td>\n",
       "      <td>False</td>\n",
       "      <td>False</td>\n",
       "    </tr>\n",
       "    <tr>\n",
       "      <th>4</th>\n",
       "      <td>1916-07-06</td>\n",
       "      <td>Argentina</td>\n",
       "      <td>Chile</td>\n",
       "      <td>Argentina</td>\n",
       "      <td>Alberto Ohaco</td>\n",
       "      <td>2.0</td>\n",
       "      <td>False</td>\n",
       "      <td>False</td>\n",
       "    </tr>\n",
       "  </tbody>\n",
       "</table>\n",
       "</div>"
      ],
      "text/plain": [
       "         date  home_team away_team       team            scorer  minute  \\\n",
       "0  1916-07-02      Chile   Uruguay    Uruguay   José Piendibene    44.0   \n",
       "1  1916-07-02      Chile   Uruguay    Uruguay  Isabelino Gradín    55.0   \n",
       "2  1916-07-02      Chile   Uruguay    Uruguay  Isabelino Gradín    70.0   \n",
       "3  1916-07-02      Chile   Uruguay    Uruguay   José Piendibene    75.0   \n",
       "4  1916-07-06  Argentina     Chile  Argentina     Alberto Ohaco     2.0   \n",
       "\n",
       "  own_goal penalty  \n",
       "0    False   False  \n",
       "1    False   False  \n",
       "2    False   False  \n",
       "3    False   False  \n",
       "4    False   False  "
      ]
     },
     "execution_count": 133,
     "metadata": {},
     "output_type": "execute_result"
    }
   ],
   "source": [
    "df_goalscorers.head()"
   ]
  },
  {
   "cell_type": "code",
   "execution_count": 134,
   "metadata": {},
   "outputs": [
    {
     "name": "stdout",
     "output_type": "stream",
     "text": [
      "<class 'pandas.core.frame.DataFrame'>\n",
      "RangeIndex: 44110 entries, 0 to 44109\n",
      "Data columns (total 8 columns):\n",
      " #   Column     Non-Null Count  Dtype  \n",
      "---  ------     --------------  -----  \n",
      " 0   date       44110 non-null  object \n",
      " 1   home_team  44110 non-null  object \n",
      " 2   away_team  44110 non-null  object \n",
      " 3   team       44110 non-null  object \n",
      " 4   scorer     44060 non-null  object \n",
      " 5   minute     43847 non-null  float64\n",
      " 6   own_goal   44108 non-null  object \n",
      " 7   penalty    44108 non-null  object \n",
      "dtypes: float64(1), object(7)\n",
      "memory usage: 2.7+ MB\n"
     ]
    }
   ],
   "source": [
    "df_goalscorers.info()"
   ]
  },
  {
   "cell_type": "code",
   "execution_count": 135,
   "metadata": {},
   "outputs": [
    {
     "data": {
      "text/plain": [
       "date           0\n",
       "home_team      0\n",
       "away_team      0\n",
       "team           0\n",
       "scorer        50\n",
       "minute       263\n",
       "own_goal       2\n",
       "penalty        2\n",
       "dtype: int64"
      ]
     },
     "execution_count": 135,
     "metadata": {},
     "output_type": "execute_result"
    }
   ],
   "source": [
    "df_goalscorers.isnull().sum()"
   ]
  },
  {
   "cell_type": "code",
   "execution_count": 138,
   "metadata": {},
   "outputs": [
    {
     "data": {
      "text/html": [
       "<div>\n",
       "<style scoped>\n",
       "    .dataframe tbody tr th:only-of-type {\n",
       "        vertical-align: middle;\n",
       "    }\n",
       "\n",
       "    .dataframe tbody tr th {\n",
       "        vertical-align: top;\n",
       "    }\n",
       "\n",
       "    .dataframe thead th {\n",
       "        text-align: right;\n",
       "    }\n",
       "</style>\n",
       "<table border=\"1\" class=\"dataframe\">\n",
       "  <thead>\n",
       "    <tr style=\"text-align: right;\">\n",
       "      <th></th>\n",
       "      <th>minute</th>\n",
       "    </tr>\n",
       "  </thead>\n",
       "  <tbody>\n",
       "    <tr>\n",
       "      <th>count</th>\n",
       "      <td>43847.000000</td>\n",
       "    </tr>\n",
       "    <tr>\n",
       "      <th>mean</th>\n",
       "      <td>50.015212</td>\n",
       "    </tr>\n",
       "    <tr>\n",
       "      <th>std</th>\n",
       "      <td>26.354534</td>\n",
       "    </tr>\n",
       "    <tr>\n",
       "      <th>min</th>\n",
       "      <td>1.000000</td>\n",
       "    </tr>\n",
       "    <tr>\n",
       "      <th>25%</th>\n",
       "      <td>28.000000</td>\n",
       "    </tr>\n",
       "    <tr>\n",
       "      <th>50%</th>\n",
       "      <td>51.000000</td>\n",
       "    </tr>\n",
       "    <tr>\n",
       "      <th>75%</th>\n",
       "      <td>73.000000</td>\n",
       "    </tr>\n",
       "    <tr>\n",
       "      <th>max</th>\n",
       "      <td>122.000000</td>\n",
       "    </tr>\n",
       "  </tbody>\n",
       "</table>\n",
       "</div>"
      ],
      "text/plain": [
       "             minute\n",
       "count  43847.000000\n",
       "mean      50.015212\n",
       "std       26.354534\n",
       "min        1.000000\n",
       "25%       28.000000\n",
       "50%       51.000000\n",
       "75%       73.000000\n",
       "max      122.000000"
      ]
     },
     "execution_count": 138,
     "metadata": {},
     "output_type": "execute_result"
    }
   ],
   "source": [
    "df_goalscorers.describe()"
   ]
  },
  {
   "cell_type": "markdown",
   "metadata": {},
   "source": [
    "<hr class=\"my-4\">"
   ]
  },
  {
   "cell_type": "markdown",
   "metadata": {},
   "source": [
    "#### Datenaufbereitung:"
   ]
  },
  {
   "cell_type": "markdown",
   "metadata": {},
   "source": [
    "# drop values, fill missing values, fillna, create new columns "
   ]
  },
  {
   "cell_type": "code",
   "execution_count": 141,
   "metadata": {},
   "outputs": [],
   "source": [
    "df_results[\"date\"] = pd.to_datetime(df_results[\"date\"])"
   ]
  },
  {
   "cell_type": "code",
   "execution_count": 140,
   "metadata": {},
   "outputs": [],
   "source": [
    "# Kontinent-Mapping zum Erstellen einer neuen Spalte Kontinent für Heim- und Auswärtsteams\n",
    "\n",
    "continents = {\n",
    "    \"Afghanistan\": \"Asia\",\n",
    "    \"Egypt\": \"Africa\",\n",
    "    \"Albania\": \"Europe\",\n",
    "    \"Algeria\": \"Africa\",\n",
    "    \"American Samoa\": \"Oceania\",\n",
    "    \"Andorra\": \"Europe\",\n",
    "    \"Angola\": \"Africa\",\n",
    "    \"Anguilla\": \"North America\",\n",
    "    \"Antigua and Barbuda\": \"North America\",\n",
    "    \"Equatorial Guinea\": \"Africa\",\n",
    "    \"Argentina\": \"South America\",\n",
    "    \"Armenia\": \"Asia\",\n",
    "    \"Aruba\": \"North America\",\n",
    "    \"Azerbaijan\": \"Asia\",\n",
    "    \"Ethiopia\": \"Africa\",\n",
    "    \"Australia\": \"Oceania\",\n",
    "    \"Bahamas\": \"North America\",\n",
    "    \"Bahrain\": \"Asia\",\n",
    "    \"Bangladesh\": \"Asia\",\n",
    "    \"Barbados\": \"North America\",\n",
    "    \"Belarus\": \"Europe\",\n",
    "    \"Belgium\": \"Europe\",\n",
    "    \"Belize\": \"North America\",\n",
    "    \"Benin\": \"Africa\",\n",
    "    \"Bermuda\": \"North America\",\n",
    "    \"Bhutan\": \"Asia\",\n",
    "    \"Bolivia\": \"South America\",\n",
    "    \"Bosnia and Herzegovina\": \"Europe\",\n",
    "    \"Botswana\": \"Africa\",\n",
    "    \"Brazil\": \"South America\",\n",
    "    \"Brunei Darussalam\": \"Asia\",\n",
    "    \"Bulgaria\": \"Europe\",\n",
    "    \"Burkina Faso\": \"Africa\",\n",
    "    \"Burundi\": \"Africa\",\n",
    "    \"Cayman Islands\": \"North America\",\n",
    "    \"Chile\": \"South America\",\n",
    "    \"China\": \"Asia\",\n",
    "    \"Cook Islands\": \"Oceania\",\n",
    "    \"Costa Rica\": \"North America\",\n",
    "    \"Curaçao\": \"North America\",\n",
    "    \"Denmark\": \"Europe\",\n",
    "    \"Germany\": \"Europe\",\n",
    "    \"Dominica\": \"North America\",\n",
    "    \"Dominican Republic\": \"North America\",\n",
    "    \"Djibouti\": \"Africa\",\n",
    "    \"Ecuador\": \"South America\",\n",
    "    \"El Salvador\": \"North America\",\n",
    "    \"Ivory Coast\": \"Africa\",\n",
    "    \"England\": \"Europe\",\n",
    "    \"Eritrea\": \"Africa\",\n",
    "    \"Estonia\": \"Europe\",\n",
    "    \"Eswatini\": \"Africa\",\n",
    "    \"Faroe Islands\": \"Europe\",\n",
    "    \"Fiji\": \"Oceania\",\n",
    "    \"Finland\": \"Europe\",\n",
    "    \"France\": \"Europe\",\n",
    "    \"Gabon\": \"Africa\",\n",
    "    \"Gambia\": \"Africa\",\n",
    "    \"Georgia\": \"Asia\",\n",
    "    \"Ghana\": \"Africa\",\n",
    "    \"Gibraltar\": \"Europe\",\n",
    "    \"Grenada\": \"North America\",\n",
    "    \"Greece\": \"Europe\",\n",
    "    \"Guam\": \"Oceania\",\n",
    "    \"Guatemala\": \"North America\",\n",
    "    \"Guyana\": \"South America\",\n",
    "    \"Guinea\": \"Africa\",\n",
    "    \"Guinea-Bissau\": \"Africa\",\n",
    "    \"Haiti\": \"North America\",\n",
    "    \"Honduras\": \"North America\",\n",
    "    \"Hong Kong\": \"Asia\",\n",
    "    \"India\": \"Asia\",\n",
    "    \"Indonesia\": \"Asia\",\n",
    "    \"Iraq\": \"Asia\",\n",
    "    \"Iran\": \"Asia\",\n",
    "    \"Ireland\": \"Europe\",\n",
    "    \"Iceland\": \"Europe\",\n",
    "    \"Israel\": \"Asia\",\n",
    "    \"Italy\": \"Europe\",\n",
    "    \"Jamaica\": \"North America\",\n",
    "    \"Japan\": \"Asia\",\n",
    "    \"Yemen\": \"Asia\",\n",
    "    \"Jordan\": \"Asia\",\n",
    "    \"U.S. Virgin Islands\": \"North America\",\n",
    "    \"British Virgin Islands\": \"North America\",\n",
    "    \"Cambodia\": \"Asia\",\n",
    "    \"Cameroon\": \"Africa\",\n",
    "    \"Canada\": \"North America\",\n",
    "    \"Cape Verde\": \"Africa\",\n",
    "    \"Kazakhstan\": \"Asia\",\n",
    "    \"Qatar\": \"Asia\",\n",
    "    \"Kenya\": \"Africa\",\n",
    "    \"Kyrgyzstan\": \"Asia\",\n",
    "    \"Colombia\": \"South America\",\n",
    "    \"Comoros\": \"Africa\",\n",
    "    \"Kosovo\": \"Europe\",\n",
    "    \"Democratic Republic of the Congo\": \"Africa\",\n",
    "    \"Republic of the Congo\": \"Africa\",\n",
    "    \"North Korea\": \"Asia\",\n",
    "    \"South Korea\": \"Asia\",\n",
    "    \"Croatia\": \"Europe\",\n",
    "    \"Cuba\": \"North America\",\n",
    "    \"Kuwait\": \"Asia\",\n",
    "    \"Laos\": \"Asia\",\n",
    "    \"Lesotho\": \"Africa\",\n",
    "    \"Latvia\": \"Europe\",\n",
    "    \"Lebanon\": \"Asia\",\n",
    "    \"Liberia\": \"Africa\",\n",
    "    \"Libya\": \"Africa\",\n",
    "    \"Liechtenstein\": \"Europe\",\n",
    "    \"Lithuania\": \"Europe\",\n",
    "    \"Luxembourg\": \"Europe\",\n",
    "    \"Macau\": \"Asia\",\n",
    "    \"Madagascar\": \"Africa\",\n",
    "    \"Malawi\": \"Africa\",\n",
    "    \"Malaysia\": \"Asia\",\n",
    "    \"Maldives\": \"Asia\",\n",
    "    \"Mali\": \"Africa\",\n",
    "    \"Malta\": \"Europe\",\n",
    "    \"Morocco\": \"Africa\",\n",
    "    \"Mauritania\": \"Africa\",\n",
    "    \"Mauritius\": \"Africa\",\n",
    "    \"Mexico\": \"North America\",\n",
    "    \"Moldova\": \"Europe\",\n",
    "    \"Mongolia\": \"Asia\",\n",
    "    \"Montenegro\": \"Europe\",\n",
    "    \"Montserrat\": \"North America\",\n",
    "    \"Mozambique\": \"Africa\",\n",
    "    \"Myanmar\": \"Asia\",\n",
    "    \"Namibia\": \"Africa\",\n",
    "    \"Nepal\": \"Asia\",\n",
    "    \"New Caledonia\": \"Oceania\",\n",
    "    \"New Zealand\": \"Oceania\",\n",
    "    \"Nicaragua\": \"North America\",\n",
    "    \"Netherlands\": \"Europe\",\n",
    "    \"Niger\": \"Africa\",\n",
    "    \"Nigeria\": \"Africa\",\n",
    "    \"Northern Ireland\": \"Europe\",\n",
    "    \"North Macedonia\": \"Europe\",\n",
    "    \"Norway\": \"Europe\",\n",
    "    \"Oman\": \"Asia\",\n",
    "    \"Austria\": \"Europe\",\n",
    "    \"East Timor\": \"Asia\",\n",
    "    \"Pakistan\": \"Asia\",\n",
    "    \"Palestine\": \"Asia\",\n",
    "    \"Panama\": \"North America\",\n",
    "    \"Papua New Guinea\": \"Oceania\",\n",
    "    \"Paraguay\": \"South America\",\n",
    "    \"Peru\": \"South America\",\n",
    "    \"Philippines\": \"Asia\",\n",
    "    \"Poland\": \"Europe\",\n",
    "    \"Portugal\": \"Europe\",\n",
    "    \"Puerto Rico\": \"North America\",\n",
    "    \"Rwanda\": \"Africa\",\n",
    "    \"Romania\": \"Europe\",\n",
    "    \"Russia\": \"Europe\",\n",
    "    \"Saint Kitts and Nevis\": \"North America\",\n",
    "    \"Saint Lucia\": \"North America\",\n",
    "    \"Saint Vincent and the Grenadines\": \"North America\",\n",
    "    \"Solomon Islands\": \"Oceania\",\n",
    "    \"Zambia\": \"Africa\",\n",
    "    \"Samoa\": \"Oceania\",\n",
    "    \"San Marino\": \"Europe\",\n",
    "    \"Sao Tome and Principe\": \"Africa\",\n",
    "    \"Saudi Arabia\": \"Asia\",\n",
    "    \"Scotland\": \"Europe\",\n",
    "    \"Sweden\": \"Europe\",\n",
    "    \"Switzerland\": \"Europe\",\n",
    "    \"Senegal\": \"Africa\",\n",
    "    \"Serbia\": \"Europe\",\n",
    "    \"Seychelles\": \"Africa\",\n",
    "    \"Sierra Leone\": \"Africa\",\n",
    "    \"Zimbabwe\": \"Africa\",\n",
    "    \"Singapore\": \"Asia\",\n",
    "    \"Slovakia\": \"Europe\",\n",
    "    \"Slovenia\": \"Europe\",\n",
    "    \"Somalia\": \"Africa\",\n",
    "    \"Spain\": \"Europe\",\n",
    "    \"Sri Lanka\": \"Asia\",\n",
    "    \"South Africa\": \"Africa\",\n",
    "    \"Sudan\": \"Africa\",\n",
    "    \"South Sudan\": \"Africa\",\n",
    "    \"Suriname\": \"South America\",\n",
    "    \"Syria\": \"Asia\",\n",
    "    \"Tajikistan\": \"Asia\",\n",
    "    \"Tahiti\": \"Oceania\",\n",
    "    \"Taiwan\": \"Asia\",\n",
    "    \"Tanzania\": \"Africa\",\n",
    "    \"Thailand\": \"Asia\",\n",
    "    \"Togo\": \"Africa\",\n",
    "    \"Tonga\": \"Oceania\",\n",
    "    \"Trinidad and Tobago\": \"North America\",\n",
    "    \"Chad\": \"Africa\",\n",
    "    \"Czech Republic\": \"Europe\",\n",
    "    \"Tunisia\": \"Africa\",\n",
    "    \"Turkey\": \"Asia\",\n",
    "    \"Turkmenistan\": \"Asia\",\n",
    "    \"Turks and Caicos Islands\": \"North America\",\n",
    "    \"Uganda\": \"Africa\",\n",
    "    \"Ukraine\": \"Europe\",\n",
    "    \"Hungary\": \"Europe\",\n",
    "    \"Uruguay\": \"South America\",\n",
    "    \"Uzbekistan\": \"Asia\",\n",
    "    \"Vanuatu\": \"Oceania\",\n",
    "    \"Venezuela\": \"South America\",\n",
    "    \"United Arab Emirates\": \"Asia\",\n",
    "    \"United States\": \"North America\",\n",
    "    \"Vietnam\": \"Asia\",\n",
    "    \"Wales\": \"Europe\",\n",
    "    \"Central African Republic\": \"Africa\",\n",
    "    \"Cyprus\": \"Asia\"\n",
    "}\n",
    "\n",
    "df_results['home_continent'] = df_results['home_team'].map(continents)\n",
    "df_results['away_continent'] = df_results['away_team'].map(continents)\n",
    "\n",
    "df_results[\"home_continent\"] = df_results[\"home_continent\"].fillna(\"Country not in Fifa Ranking\")\n",
    "df_results[\"away_continent\"] = df_results[\"away_continent\"].fillna(\"Country not in Fifa Ranking\")"
   ]
  },
  {
   "cell_type": "code",
   "execution_count": 78,
   "metadata": {},
   "outputs": [],
   "source": [
    "#drop na-values\n",
    "no_country_in_fifa_ranking_both = df_results[(df_results[\"home_continent\"] == \"Country not in Fifa Ranking\") | (df_results[\"away_continent\"] == \"Country not in Fifa Ranking\")]\n",
    "\n",
    "df_results = df_results.drop(no_country_in_fifa_ranking_both.index)"
   ]
  },
  {
   "cell_type": "code",
   "execution_count": 79,
   "metadata": {},
   "outputs": [],
   "source": [
    "#transform date column into date-object\n",
    "\n",
    "#collect all games for the coming em 2024, because there aren't any results yet\n",
    "df_em2024 = df_results[(df_results[\"tournament\"] == \"UEFA Euro\") & (df_results[\"date\"].dt.year == 2024)]\n",
    "#drop em 2024 games\n",
    "df_results = df_results.drop(df_em2024.index)"
   ]
  },
  {
   "cell_type": "code",
   "execution_count": 80,
   "metadata": {},
   "outputs": [],
   "source": [
    "df_results[\"winning_country\"] = df_results.apply(lambda x: x[\"home_team\"] if x[\"home_score\"] > x[\"away_score\"] else \"Unentschieden\" if x[\"home_score\"] == x[\"away_score\"] else x[\"away_team\"], axis=1)"
   ]
  },
  {
   "cell_type": "code",
   "execution_count": 81,
   "metadata": {},
   "outputs": [],
   "source": [
    "df_results[\"winning_continent\"] = df_results.apply(lambda x: x[\"home_continent\"] if x[\"home_score\"] > x[\"away_score\"] else \"Unentschieden\" if x[\"home_score\"] == x[\"away_score\"] else x[\"away_continent\"], axis=1)"
   ]
  },
  {
   "cell_type": "code",
   "execution_count": 82,
   "metadata": {},
   "outputs": [
    {
     "data": {
      "text/html": [
       "<div>\n",
       "<style scoped>\n",
       "    .dataframe tbody tr th:only-of-type {\n",
       "        vertical-align: middle;\n",
       "    }\n",
       "\n",
       "    .dataframe tbody tr th {\n",
       "        vertical-align: top;\n",
       "    }\n",
       "\n",
       "    .dataframe thead th {\n",
       "        text-align: right;\n",
       "    }\n",
       "</style>\n",
       "<table border=\"1\" class=\"dataframe\">\n",
       "  <thead>\n",
       "    <tr style=\"text-align: right;\">\n",
       "      <th></th>\n",
       "      <th>date</th>\n",
       "      <th>home_team</th>\n",
       "      <th>away_team</th>\n",
       "      <th>home_score</th>\n",
       "      <th>away_score</th>\n",
       "      <th>tournament</th>\n",
       "      <th>city</th>\n",
       "      <th>country</th>\n",
       "      <th>neutral</th>\n",
       "      <th>home_continent</th>\n",
       "      <th>away_continent</th>\n",
       "      <th>winning_country</th>\n",
       "      <th>winning_continent</th>\n",
       "    </tr>\n",
       "  </thead>\n",
       "  <tbody>\n",
       "    <tr>\n",
       "      <th>0</th>\n",
       "      <td>1872-11-30</td>\n",
       "      <td>Scotland</td>\n",
       "      <td>England</td>\n",
       "      <td>0.0</td>\n",
       "      <td>0.0</td>\n",
       "      <td>Friendly</td>\n",
       "      <td>Glasgow</td>\n",
       "      <td>Scotland</td>\n",
       "      <td>False</td>\n",
       "      <td>Europe</td>\n",
       "      <td>Europe</td>\n",
       "      <td>Unentschieden</td>\n",
       "      <td>Unentschieden</td>\n",
       "    </tr>\n",
       "    <tr>\n",
       "      <th>1</th>\n",
       "      <td>1873-03-08</td>\n",
       "      <td>England</td>\n",
       "      <td>Scotland</td>\n",
       "      <td>4.0</td>\n",
       "      <td>2.0</td>\n",
       "      <td>Friendly</td>\n",
       "      <td>London</td>\n",
       "      <td>England</td>\n",
       "      <td>False</td>\n",
       "      <td>Europe</td>\n",
       "      <td>Europe</td>\n",
       "      <td>England</td>\n",
       "      <td>Europe</td>\n",
       "    </tr>\n",
       "    <tr>\n",
       "      <th>2</th>\n",
       "      <td>1874-03-07</td>\n",
       "      <td>Scotland</td>\n",
       "      <td>England</td>\n",
       "      <td>2.0</td>\n",
       "      <td>1.0</td>\n",
       "      <td>Friendly</td>\n",
       "      <td>Glasgow</td>\n",
       "      <td>Scotland</td>\n",
       "      <td>False</td>\n",
       "      <td>Europe</td>\n",
       "      <td>Europe</td>\n",
       "      <td>Scotland</td>\n",
       "      <td>Europe</td>\n",
       "    </tr>\n",
       "    <tr>\n",
       "      <th>3</th>\n",
       "      <td>1875-03-06</td>\n",
       "      <td>England</td>\n",
       "      <td>Scotland</td>\n",
       "      <td>2.0</td>\n",
       "      <td>2.0</td>\n",
       "      <td>Friendly</td>\n",
       "      <td>London</td>\n",
       "      <td>England</td>\n",
       "      <td>False</td>\n",
       "      <td>Europe</td>\n",
       "      <td>Europe</td>\n",
       "      <td>Unentschieden</td>\n",
       "      <td>Unentschieden</td>\n",
       "    </tr>\n",
       "    <tr>\n",
       "      <th>4</th>\n",
       "      <td>1876-03-04</td>\n",
       "      <td>Scotland</td>\n",
       "      <td>England</td>\n",
       "      <td>3.0</td>\n",
       "      <td>0.0</td>\n",
       "      <td>Friendly</td>\n",
       "      <td>Glasgow</td>\n",
       "      <td>Scotland</td>\n",
       "      <td>False</td>\n",
       "      <td>Europe</td>\n",
       "      <td>Europe</td>\n",
       "      <td>Scotland</td>\n",
       "      <td>Europe</td>\n",
       "    </tr>\n",
       "    <tr>\n",
       "      <th>...</th>\n",
       "      <td>...</td>\n",
       "      <td>...</td>\n",
       "      <td>...</td>\n",
       "      <td>...</td>\n",
       "      <td>...</td>\n",
       "      <td>...</td>\n",
       "      <td>...</td>\n",
       "      <td>...</td>\n",
       "      <td>...</td>\n",
       "      <td>...</td>\n",
       "      <td>...</td>\n",
       "      <td>...</td>\n",
       "      <td>...</td>\n",
       "    </tr>\n",
       "    <tr>\n",
       "      <th>47070</th>\n",
       "      <td>2024-03-26</td>\n",
       "      <td>Scotland</td>\n",
       "      <td>Northern Ireland</td>\n",
       "      <td>0.0</td>\n",
       "      <td>1.0</td>\n",
       "      <td>Friendly</td>\n",
       "      <td>Glasgow</td>\n",
       "      <td>Scotland</td>\n",
       "      <td>False</td>\n",
       "      <td>Europe</td>\n",
       "      <td>Europe</td>\n",
       "      <td>Northern Ireland</td>\n",
       "      <td>Europe</td>\n",
       "    </tr>\n",
       "    <tr>\n",
       "      <th>47071</th>\n",
       "      <td>2024-03-26</td>\n",
       "      <td>Senegal</td>\n",
       "      <td>Benin</td>\n",
       "      <td>1.0</td>\n",
       "      <td>0.0</td>\n",
       "      <td>Friendly</td>\n",
       "      <td>Amiens</td>\n",
       "      <td>France</td>\n",
       "      <td>True</td>\n",
       "      <td>Africa</td>\n",
       "      <td>Africa</td>\n",
       "      <td>Senegal</td>\n",
       "      <td>Africa</td>\n",
       "    </tr>\n",
       "    <tr>\n",
       "      <th>47072</th>\n",
       "      <td>2024-03-26</td>\n",
       "      <td>Slovenia</td>\n",
       "      <td>Portugal</td>\n",
       "      <td>2.0</td>\n",
       "      <td>0.0</td>\n",
       "      <td>Friendly</td>\n",
       "      <td>Ljubljana</td>\n",
       "      <td>Slovenia</td>\n",
       "      <td>False</td>\n",
       "      <td>Europe</td>\n",
       "      <td>Europe</td>\n",
       "      <td>Slovenia</td>\n",
       "      <td>Europe</td>\n",
       "    </tr>\n",
       "    <tr>\n",
       "      <th>47073</th>\n",
       "      <td>2024-03-26</td>\n",
       "      <td>Spain</td>\n",
       "      <td>Brazil</td>\n",
       "      <td>3.0</td>\n",
       "      <td>3.0</td>\n",
       "      <td>Friendly</td>\n",
       "      <td>Madrid</td>\n",
       "      <td>Spain</td>\n",
       "      <td>False</td>\n",
       "      <td>Europe</td>\n",
       "      <td>South America</td>\n",
       "      <td>Unentschieden</td>\n",
       "      <td>Unentschieden</td>\n",
       "    </tr>\n",
       "    <tr>\n",
       "      <th>47074</th>\n",
       "      <td>2024-03-26</td>\n",
       "      <td>Finland</td>\n",
       "      <td>Estonia</td>\n",
       "      <td>2.0</td>\n",
       "      <td>1.0</td>\n",
       "      <td>Friendly</td>\n",
       "      <td>Helsinki</td>\n",
       "      <td>Finland</td>\n",
       "      <td>False</td>\n",
       "      <td>Europe</td>\n",
       "      <td>Europe</td>\n",
       "      <td>Finland</td>\n",
       "      <td>Europe</td>\n",
       "    </tr>\n",
       "  </tbody>\n",
       "</table>\n",
       "<p>40771 rows × 13 columns</p>\n",
       "</div>"
      ],
      "text/plain": [
       "            date home_team         away_team  home_score  away_score  \\\n",
       "0     1872-11-30  Scotland           England         0.0         0.0   \n",
       "1     1873-03-08   England          Scotland         4.0         2.0   \n",
       "2     1874-03-07  Scotland           England         2.0         1.0   \n",
       "3     1875-03-06   England          Scotland         2.0         2.0   \n",
       "4     1876-03-04  Scotland           England         3.0         0.0   \n",
       "...          ...       ...               ...         ...         ...   \n",
       "47070 2024-03-26  Scotland  Northern Ireland         0.0         1.0   \n",
       "47071 2024-03-26   Senegal             Benin         1.0         0.0   \n",
       "47072 2024-03-26  Slovenia          Portugal         2.0         0.0   \n",
       "47073 2024-03-26     Spain            Brazil         3.0         3.0   \n",
       "47074 2024-03-26   Finland           Estonia         2.0         1.0   \n",
       "\n",
       "      tournament       city   country  neutral home_continent away_continent  \\\n",
       "0       Friendly    Glasgow  Scotland    False         Europe         Europe   \n",
       "1       Friendly     London   England    False         Europe         Europe   \n",
       "2       Friendly    Glasgow  Scotland    False         Europe         Europe   \n",
       "3       Friendly     London   England    False         Europe         Europe   \n",
       "4       Friendly    Glasgow  Scotland    False         Europe         Europe   \n",
       "...          ...        ...       ...      ...            ...            ...   \n",
       "47070   Friendly    Glasgow  Scotland    False         Europe         Europe   \n",
       "47071   Friendly     Amiens    France     True         Africa         Africa   \n",
       "47072   Friendly  Ljubljana  Slovenia    False         Europe         Europe   \n",
       "47073   Friendly     Madrid     Spain    False         Europe  South America   \n",
       "47074   Friendly   Helsinki   Finland    False         Europe         Europe   \n",
       "\n",
       "        winning_country winning_continent  \n",
       "0         Unentschieden     Unentschieden  \n",
       "1               England            Europe  \n",
       "2              Scotland            Europe  \n",
       "3         Unentschieden     Unentschieden  \n",
       "4              Scotland            Europe  \n",
       "...                 ...               ...  \n",
       "47070  Northern Ireland            Europe  \n",
       "47071           Senegal            Africa  \n",
       "47072          Slovenia            Europe  \n",
       "47073     Unentschieden     Unentschieden  \n",
       "47074           Finland            Europe  \n",
       "\n",
       "[40771 rows x 13 columns]"
      ]
     },
     "execution_count": 82,
     "metadata": {},
     "output_type": "execute_result"
    }
   ],
   "source": [
    "df_results"
   ]
  },
  {
   "cell_type": "code",
   "execution_count": 83,
   "metadata": {},
   "outputs": [
    {
     "name": "stdout",
     "output_type": "stream",
     "text": [
      "            date                 home_team             away_team  home_score  \\\n",
      "47024 2024-03-26                   Algeria          South Africa         3.0   \n",
      "47025 2024-03-26                     Egypt               Croatia         2.0   \n",
      "47026 2024-03-26               New Zealand               Tunisia         0.0   \n",
      "47027 2024-03-26                  Cambodia                Guyana         1.0   \n",
      "47029 2024-03-26                 Lithuania             Gibraltar         1.0   \n",
      "47030 2024-03-26                     Wales                Poland         0.0   \n",
      "47031 2024-03-26                   Ukraine               Iceland         2.0   \n",
      "47032 2024-03-26                   Georgia                Greece         0.0   \n",
      "47033 2024-03-26                     India           Afghanistan         1.0   \n",
      "47034 2024-03-26                    Kuwait                 Qatar         1.0   \n",
      "47035 2024-03-26                     Syria               Myanmar         7.0   \n",
      "47036 2024-03-26                  Thailand           South Korea         0.0   \n",
      "47038 2024-03-26                Kyrgyzstan                Taiwan         5.0   \n",
      "47039 2024-03-26                  Malaysia                  Oman         0.0   \n",
      "47040 2024-03-26                Uzbekistan             Hong Kong         3.0   \n",
      "47041 2024-03-26              Turkmenistan                  Iran         0.0   \n",
      "47042 2024-03-26               Philippines                  Iraq         0.0   \n",
      "47043 2024-03-26                   Vietnam             Indonesia         0.0   \n",
      "47044 2024-03-26                Tajikistan          Saudi Arabia         1.0   \n",
      "47045 2024-03-26                    Jordan              Pakistan         7.0   \n",
      "47046 2024-03-26                   Bahrain                 Nepal         3.0   \n",
      "47047 2024-03-26                     Yemen  United Arab Emirates         0.0   \n",
      "47048 2024-03-26                Bangladesh             Palestine         0.0   \n",
      "47049 2024-03-26                 Australia               Lebanon         5.0   \n",
      "47051 2024-03-26  Turks and Caicos Islands              Anguilla         1.0   \n",
      "47052 2024-03-26                 Argentina            Costa Rica         3.0   \n",
      "47053 2024-03-26                   Austria                Turkey         6.0   \n",
      "47054 2024-03-26                  Colombia               Romania         3.0   \n",
      "47055 2024-03-26            Czech Republic               Armenia         2.0   \n",
      "47056 2024-03-26                   Denmark         Faroe Islands         2.0   \n",
      "47057 2024-03-26               El Salvador              Honduras         1.0   \n",
      "47058 2024-03-26                   England               Belgium         2.0   \n",
      "47059 2024-03-26                    France                 Chile         3.0   \n",
      "47060 2024-03-26                   Germany           Netherlands         2.0   \n",
      "47061 2024-03-26                   Hungary                Kosovo         2.0   \n",
      "47062 2024-03-26               Ivory Coast               Uruguay         2.0   \n",
      "47063 2024-03-26                    Latvia         Liechtenstein         1.0   \n",
      "47064 2024-03-26                     Malta               Belarus         0.0   \n",
      "47065 2024-03-26                   Morocco            Mauritania         0.0   \n",
      "47066 2024-03-26                 Nicaragua                  Cuba         0.0   \n",
      "47067 2024-03-26                    Norway              Slovakia         1.0   \n",
      "47068 2024-03-26                      Peru    Dominican Republic         4.0   \n",
      "47070 2024-03-26                  Scotland      Northern Ireland         0.0   \n",
      "47071 2024-03-26                   Senegal                 Benin         1.0   \n",
      "47072 2024-03-26                  Slovenia              Portugal         2.0   \n",
      "47073 2024-03-26                     Spain                Brazil         3.0   \n",
      "47074 2024-03-26                   Finland               Estonia         2.0   \n",
      "\n",
      "       away_score                    tournament            city  \\\n",
      "47024         3.0                   FIFA Series         Algiers   \n",
      "47025         4.0                   FIFA Series           Cairo   \n",
      "47026         0.0                   FIFA Series           Cairo   \n",
      "47027         4.0                   FIFA Series          Jeddah   \n",
      "47029         0.0           UEFA Nations League          Kaunas   \n",
      "47030         0.0       UEFA Euro qualification         Cardiff   \n",
      "47031         1.0       UEFA Euro qualification         Wrocław   \n",
      "47032         0.0       UEFA Euro qualification         Tbilisi   \n",
      "47033         2.0  FIFA World Cup qualification        Guwahati   \n",
      "47034         2.0  FIFA World Cup qualification   Al Farwaniyah   \n",
      "47035         0.0  FIFA World Cup qualification          Dammam   \n",
      "47036         3.0  FIFA World Cup qualification         Bangkok   \n",
      "47038         1.0  FIFA World Cup qualification         Bishkek   \n",
      "47039         2.0  FIFA World Cup qualification    Kuala Lumpur   \n",
      "47040         0.0  FIFA World Cup qualification        Tashkent   \n",
      "47041         1.0  FIFA World Cup qualification        Ashgabat   \n",
      "47042         5.0  FIFA World Cup qualification          Manila   \n",
      "47043         3.0  FIFA World Cup qualification           Hanoi   \n",
      "47044         1.0  FIFA World Cup qualification        Dushanbe   \n",
      "47045         0.0  FIFA World Cup qualification           Amman   \n",
      "47046         0.0  FIFA World Cup qualification           Riffa   \n",
      "47047         3.0  FIFA World Cup qualification          Khobar   \n",
      "47048         1.0  FIFA World Cup qualification           Dhaka   \n",
      "47049         0.0  FIFA World Cup qualification        Canberra   \n",
      "47051         1.0  FIFA World Cup qualification  Providenciales   \n",
      "47052         1.0                      Friendly     Los Angeles   \n",
      "47053         1.0                      Friendly          Vienna   \n",
      "47054         2.0                      Friendly          Madrid   \n",
      "47055         1.0                      Friendly          Prague   \n",
      "47056         0.0                      Friendly   Brondbyvester   \n",
      "47057         1.0                      Friendly     Los Angeles   \n",
      "47058         2.0                      Friendly          London   \n",
      "47059         2.0                      Friendly       Marseille   \n",
      "47060         1.0                      Friendly       Frankfurt   \n",
      "47061         0.0                      Friendly        Budapest   \n",
      "47062         1.0                      Friendly            Lens   \n",
      "47063         1.0                      Friendly         Larnaca   \n",
      "47064         0.0                      Friendly        Ta' Qali   \n",
      "47065         0.0                      Friendly          Agadir   \n",
      "47066         1.0                      Friendly         Managua   \n",
      "47067         1.0                      Friendly            Oslo   \n",
      "47068         1.0                      Friendly            Lima   \n",
      "47070         1.0                      Friendly         Glasgow   \n",
      "47071         0.0                      Friendly          Amiens   \n",
      "47072         0.0                      Friendly       Ljubljana   \n",
      "47073         3.0                      Friendly          Madrid   \n",
      "47074         1.0                      Friendly        Helsinki   \n",
      "\n",
      "                        country  neutral home_continent away_continent  \\\n",
      "47024                   Algeria    False         Africa         Africa   \n",
      "47025                     Egypt    False         Africa         Europe   \n",
      "47026                     Egypt     True        Oceania         Africa   \n",
      "47027              Saudi Arabia     True           Asia  South America   \n",
      "47029                 Lithuania    False         Europe         Europe   \n",
      "47030                     Wales    False         Europe         Europe   \n",
      "47031                    Poland     True         Europe         Europe   \n",
      "47032                   Georgia    False           Asia         Europe   \n",
      "47033                     India    False           Asia           Asia   \n",
      "47034                    Kuwait    False           Asia           Asia   \n",
      "47035              Saudi Arabia     True           Asia           Asia   \n",
      "47036                  Thailand    False           Asia           Asia   \n",
      "47038                Kyrgyzstan    False           Asia           Asia   \n",
      "47039                  Malaysia    False           Asia           Asia   \n",
      "47040                Uzbekistan    False           Asia           Asia   \n",
      "47041              Turkmenistan    False           Asia           Asia   \n",
      "47042               Philippines    False           Asia           Asia   \n",
      "47043                   Vietnam    False           Asia           Asia   \n",
      "47044                Tajikistan    False           Asia           Asia   \n",
      "47045                    Jordan    False           Asia           Asia   \n",
      "47046                   Bahrain    False           Asia           Asia   \n",
      "47047              Saudi Arabia     True           Asia           Asia   \n",
      "47048                Bangladesh    False           Asia           Asia   \n",
      "47049                 Australia    False        Oceania           Asia   \n",
      "47051  Turks and Caicos Islands    False  North America  North America   \n",
      "47052             United States     True  South America  North America   \n",
      "47053                   Austria    False         Europe           Asia   \n",
      "47054                     Spain     True  South America         Europe   \n",
      "47055            Czech Republic    False         Europe           Asia   \n",
      "47056                   Denmark    False         Europe         Europe   \n",
      "47057             United States     True  North America  North America   \n",
      "47058                   England    False         Europe         Europe   \n",
      "47059                    France    False         Europe  South America   \n",
      "47060                   Germany    False         Europe         Europe   \n",
      "47061                   Hungary    False         Europe         Europe   \n",
      "47062                    France     True         Africa  South America   \n",
      "47063                    Cyprus     True         Europe         Europe   \n",
      "47064                     Malta    False         Europe         Europe   \n",
      "47065                   Morocco    False         Africa         Africa   \n",
      "47066                 Nicaragua    False  North America  North America   \n",
      "47067                    Norway    False         Europe         Europe   \n",
      "47068                      Peru    False  South America  North America   \n",
      "47070                  Scotland    False         Europe         Europe   \n",
      "47071                    France     True         Africa         Africa   \n",
      "47072                  Slovenia    False         Europe         Europe   \n",
      "47073                     Spain    False         Europe  South America   \n",
      "47074                   Finland    False         Europe         Europe   \n",
      "\n",
      "            winning_country winning_continent  \n",
      "47024         Unentschieden     Unentschieden  \n",
      "47025               Croatia            Europe  \n",
      "47026         Unentschieden     Unentschieden  \n",
      "47027                Guyana     South America  \n",
      "47029             Lithuania            Europe  \n",
      "47030         Unentschieden     Unentschieden  \n",
      "47031               Ukraine            Europe  \n",
      "47032         Unentschieden     Unentschieden  \n",
      "47033           Afghanistan              Asia  \n",
      "47034                 Qatar              Asia  \n",
      "47035                 Syria              Asia  \n",
      "47036           South Korea              Asia  \n",
      "47038            Kyrgyzstan              Asia  \n",
      "47039                  Oman              Asia  \n",
      "47040            Uzbekistan              Asia  \n",
      "47041                  Iran              Asia  \n",
      "47042                  Iraq              Asia  \n",
      "47043             Indonesia              Asia  \n",
      "47044         Unentschieden     Unentschieden  \n",
      "47045                Jordan              Asia  \n",
      "47046               Bahrain              Asia  \n",
      "47047  United Arab Emirates              Asia  \n",
      "47048             Palestine              Asia  \n",
      "47049             Australia           Oceania  \n",
      "47051         Unentschieden     Unentschieden  \n",
      "47052             Argentina     South America  \n",
      "47053               Austria            Europe  \n",
      "47054              Colombia     South America  \n",
      "47055        Czech Republic            Europe  \n",
      "47056               Denmark            Europe  \n",
      "47057         Unentschieden     Unentschieden  \n",
      "47058         Unentschieden     Unentschieden  \n",
      "47059                France            Europe  \n",
      "47060               Germany            Europe  \n",
      "47061               Hungary            Europe  \n",
      "47062           Ivory Coast            Africa  \n",
      "47063         Unentschieden     Unentschieden  \n",
      "47064         Unentschieden     Unentschieden  \n",
      "47065         Unentschieden     Unentschieden  \n",
      "47066                  Cuba     North America  \n",
      "47067         Unentschieden     Unentschieden  \n",
      "47068                  Peru     South America  \n",
      "47070      Northern Ireland            Europe  \n",
      "47071               Senegal            Africa  \n",
      "47072              Slovenia            Europe  \n",
      "47073         Unentschieden     Unentschieden  \n",
      "47074               Finland            Europe  \n"
     ]
    }
   ],
   "source": [
    "filtered_df = df_results[df_results['date'] == '2024-03-26']\n",
    "\n",
    "# Ergebnis anzeigen\n",
    "print(filtered_df)"
   ]
  },
  {
   "cell_type": "code",
   "execution_count": 84,
   "metadata": {},
   "outputs": [],
   "source": [
    "df_shootouts['home_continent'] = df_shootouts['home_team'].map(continents)\n",
    "df_shootouts['away_continent'] = df_shootouts['away_team'].map(continents)"
   ]
  },
  {
   "cell_type": "code",
   "execution_count": 85,
   "metadata": {},
   "outputs": [],
   "source": [
    "df_shootouts[\"home_continent\"] = df_shootouts[\"home_continent\"].fillna(\"Country not in Fifa Ranking\")\n",
    "df_shootouts[\"away_continent\"] = df_shootouts[\"away_continent\"].fillna(\"Country not in Fifa Ranking\")"
   ]
  },
  {
   "cell_type": "code",
   "execution_count": 86,
   "metadata": {},
   "outputs": [],
   "source": [
    "no_country_in_fifa_ranking_both = df_shootouts[(df_shootouts[\"home_continent\"] == \"Country not in Fifa Ranking\") | (df_shootouts[\"away_continent\"] == \"Country not in Fifa Ranking\")]\n",
    "\n",
    "df_shootouts = df_shootouts.drop(no_country_in_fifa_ranking_both.index)"
   ]
  },
  {
   "cell_type": "code",
   "execution_count": 87,
   "metadata": {},
   "outputs": [],
   "source": [
    "winner_to_continent = df_shootouts['winner'].map(continents)\n",
    "\n",
    "# Hinzufügen der Spalte winning_continent zum DataFrame\n",
    "df_shootouts['winning_continent'] = winner_to_continent"
   ]
  },
  {
   "cell_type": "code",
   "execution_count": 88,
   "metadata": {},
   "outputs": [],
   "source": [
    "df_shootouts[\"date\"] = pd.to_datetime(df_shootouts[\"date\"])"
   ]
  },
  {
   "cell_type": "code",
   "execution_count": 89,
   "metadata": {},
   "outputs": [
    {
     "data": {
      "text/html": [
       "<div>\n",
       "<style scoped>\n",
       "    .dataframe tbody tr th:only-of-type {\n",
       "        vertical-align: middle;\n",
       "    }\n",
       "\n",
       "    .dataframe tbody tr th {\n",
       "        vertical-align: top;\n",
       "    }\n",
       "\n",
       "    .dataframe thead th {\n",
       "        text-align: right;\n",
       "    }\n",
       "</style>\n",
       "<table border=\"1\" class=\"dataframe\">\n",
       "  <thead>\n",
       "    <tr style=\"text-align: right;\">\n",
       "      <th></th>\n",
       "      <th>date</th>\n",
       "      <th>home_team</th>\n",
       "      <th>away_team</th>\n",
       "      <th>winner</th>\n",
       "      <th>first_shooter</th>\n",
       "      <th>home_continent</th>\n",
       "      <th>away_continent</th>\n",
       "      <th>winning_continent</th>\n",
       "    </tr>\n",
       "  </thead>\n",
       "  <tbody>\n",
       "    <tr>\n",
       "      <th>0</th>\n",
       "      <td>1967-08-22</td>\n",
       "      <td>India</td>\n",
       "      <td>Taiwan</td>\n",
       "      <td>Taiwan</td>\n",
       "      <td>NaN</td>\n",
       "      <td>Asia</td>\n",
       "      <td>Asia</td>\n",
       "      <td>Asia</td>\n",
       "    </tr>\n",
       "    <tr>\n",
       "      <th>2</th>\n",
       "      <td>1972-05-07</td>\n",
       "      <td>South Korea</td>\n",
       "      <td>Iraq</td>\n",
       "      <td>Iraq</td>\n",
       "      <td>NaN</td>\n",
       "      <td>Asia</td>\n",
       "      <td>Asia</td>\n",
       "      <td>Asia</td>\n",
       "    </tr>\n",
       "    <tr>\n",
       "      <th>3</th>\n",
       "      <td>1972-05-17</td>\n",
       "      <td>Thailand</td>\n",
       "      <td>South Korea</td>\n",
       "      <td>South Korea</td>\n",
       "      <td>NaN</td>\n",
       "      <td>Asia</td>\n",
       "      <td>Asia</td>\n",
       "      <td>Asia</td>\n",
       "    </tr>\n",
       "    <tr>\n",
       "      <th>4</th>\n",
       "      <td>1972-05-19</td>\n",
       "      <td>Thailand</td>\n",
       "      <td>Cambodia</td>\n",
       "      <td>Thailand</td>\n",
       "      <td>NaN</td>\n",
       "      <td>Asia</td>\n",
       "      <td>Asia</td>\n",
       "      <td>Asia</td>\n",
       "    </tr>\n",
       "    <tr>\n",
       "      <th>5</th>\n",
       "      <td>1973-04-21</td>\n",
       "      <td>Senegal</td>\n",
       "      <td>Ghana</td>\n",
       "      <td>Ghana</td>\n",
       "      <td>NaN</td>\n",
       "      <td>Africa</td>\n",
       "      <td>Africa</td>\n",
       "      <td>Africa</td>\n",
       "    </tr>\n",
       "    <tr>\n",
       "      <th>...</th>\n",
       "      <td>...</td>\n",
       "      <td>...</td>\n",
       "      <td>...</td>\n",
       "      <td>...</td>\n",
       "      <td>...</td>\n",
       "      <td>...</td>\n",
       "      <td>...</td>\n",
       "      <td>...</td>\n",
       "    </tr>\n",
       "    <tr>\n",
       "      <th>630</th>\n",
       "      <td>2024-03-23</td>\n",
       "      <td>Tunisia</td>\n",
       "      <td>Croatia</td>\n",
       "      <td>Croatia</td>\n",
       "      <td>Croatia</td>\n",
       "      <td>Africa</td>\n",
       "      <td>Europe</td>\n",
       "      <td>Europe</td>\n",
       "    </tr>\n",
       "    <tr>\n",
       "      <th>631</th>\n",
       "      <td>2024-03-26</td>\n",
       "      <td>New Zealand</td>\n",
       "      <td>Tunisia</td>\n",
       "      <td>Tunisia</td>\n",
       "      <td>New Zealand</td>\n",
       "      <td>Oceania</td>\n",
       "      <td>Africa</td>\n",
       "      <td>Africa</td>\n",
       "    </tr>\n",
       "    <tr>\n",
       "      <th>632</th>\n",
       "      <td>2024-03-26</td>\n",
       "      <td>Wales</td>\n",
       "      <td>Poland</td>\n",
       "      <td>Poland</td>\n",
       "      <td>Poland</td>\n",
       "      <td>Europe</td>\n",
       "      <td>Europe</td>\n",
       "      <td>Europe</td>\n",
       "    </tr>\n",
       "    <tr>\n",
       "      <th>633</th>\n",
       "      <td>2024-03-26</td>\n",
       "      <td>Georgia</td>\n",
       "      <td>Greece</td>\n",
       "      <td>Georgia</td>\n",
       "      <td>Georgia</td>\n",
       "      <td>Asia</td>\n",
       "      <td>Europe</td>\n",
       "      <td>Asia</td>\n",
       "    </tr>\n",
       "    <tr>\n",
       "      <th>634</th>\n",
       "      <td>2024-03-26</td>\n",
       "      <td>Turks and Caicos Islands</td>\n",
       "      <td>Anguilla</td>\n",
       "      <td>Anguilla</td>\n",
       "      <td>Turks and Caicos Islands</td>\n",
       "      <td>North America</td>\n",
       "      <td>North America</td>\n",
       "      <td>North America</td>\n",
       "    </tr>\n",
       "  </tbody>\n",
       "</table>\n",
       "<p>536 rows × 8 columns</p>\n",
       "</div>"
      ],
      "text/plain": [
       "          date                 home_team    away_team       winner  \\\n",
       "0   1967-08-22                     India       Taiwan       Taiwan   \n",
       "2   1972-05-07               South Korea         Iraq         Iraq   \n",
       "3   1972-05-17                  Thailand  South Korea  South Korea   \n",
       "4   1972-05-19                  Thailand     Cambodia     Thailand   \n",
       "5   1973-04-21                   Senegal        Ghana        Ghana   \n",
       "..         ...                       ...          ...          ...   \n",
       "630 2024-03-23                   Tunisia      Croatia      Croatia   \n",
       "631 2024-03-26               New Zealand      Tunisia      Tunisia   \n",
       "632 2024-03-26                     Wales       Poland       Poland   \n",
       "633 2024-03-26                   Georgia       Greece      Georgia   \n",
       "634 2024-03-26  Turks and Caicos Islands     Anguilla     Anguilla   \n",
       "\n",
       "                first_shooter home_continent away_continent winning_continent  \n",
       "0                         NaN           Asia           Asia              Asia  \n",
       "2                         NaN           Asia           Asia              Asia  \n",
       "3                         NaN           Asia           Asia              Asia  \n",
       "4                         NaN           Asia           Asia              Asia  \n",
       "5                         NaN         Africa         Africa            Africa  \n",
       "..                        ...            ...            ...               ...  \n",
       "630                   Croatia         Africa         Europe            Europe  \n",
       "631               New Zealand        Oceania         Africa            Africa  \n",
       "632                    Poland         Europe         Europe            Europe  \n",
       "633                   Georgia           Asia         Europe              Asia  \n",
       "634  Turks and Caicos Islands  North America  North America     North America  \n",
       "\n",
       "[536 rows x 8 columns]"
      ]
     },
     "execution_count": 89,
     "metadata": {},
     "output_type": "execute_result"
    }
   ],
   "source": [
    "df_shootouts"
   ]
  },
  {
   "cell_type": "markdown",
   "metadata": {},
   "source": [
    "### Allgemeines"
   ]
  },
  {
   "cell_type": "markdown",
   "metadata": {},
   "source": [
    "##### Allgemein:"
   ]
  },
  {
   "cell_type": "code",
   "execution_count": 90,
   "metadata": {},
   "outputs": [
    {
     "name": "stdout",
     "output_type": "stream",
     "text": [
      "Matches played by Year:\n",
      "1872       1\n",
      "1873       1\n",
      "1874       1\n",
      "1875       1\n",
      "1876       2\n",
      "        ... \n",
      "2020     329\n",
      "2021    1058\n",
      "2022     885\n",
      "2023     903\n",
      "2024     278\n",
      "Name: year, Length: 153, dtype: int64\n"
     ]
    },
    {
     "data": {
      "image/png": "[encoded data removed]",
      "text/plain": [
       "<Figure size 1000x600 with 1 Axes>"
      ]
     },
     "metadata": {},
     "output_type": "display_data"
    }
   ],
   "source": [
    "# Matches played by year\n",
    "\n",
    "df_results['year'] = df_results['date'].dt.year\n",
    "\n",
    "matches_per_year_results = df_results['year'].value_counts().sort_index()\n",
    "\n",
    "print(\"Matches played by Year:\")\n",
    "print(matches_per_year_results)\n",
    "\n",
    "plt.figure(figsize=(10, 6))\n",
    "matches_per_year_results.plot(kind='bar')\n",
    "plt.title('Matches played by Year')\n",
    "plt.xlabel('Year')\n",
    "plt.ylabel('Number of Matches')\n",
    "plt.show()"
   ]
  },
  {
   "cell_type": "code",
   "execution_count": 91,
   "metadata": {},
   "outputs": [
    {
     "name": "stdout",
     "output_type": "stream",
     "text": [
      "year\n",
      "1872       0.0\n",
      "1873       6.0\n",
      "1874       3.0\n",
      "1875       4.0\n",
      "1876       7.0\n",
      "         ...  \n",
      "2020     819.0\n",
      "2021    2917.0\n",
      "2022    2180.0\n",
      "2023    2490.0\n",
      "2024     721.0\n",
      "Name: total_goals, Length: 153, dtype: float64\n"
     ]
    },
    {
     "data": {
      "image/png": "[encoded data removed]",
      "text/plain": [
       "<Figure size 1000x600 with 1 Axes>"
      ]
     },
     "metadata": {},
     "output_type": "display_data"
    }
   ],
   "source": [
    "# Total Goals Trend over the years\n",
    "df_results['total_goals'] = df_results['home_score'] + df_results['away_score']\n",
    "goals_per_year_results = df_results.groupby('year')['total_goals'].sum()\n",
    "\n",
    "print(goals_per_year_results)\n",
    "\n",
    "plt.figure(figsize=(10, 6))\n",
    "goals_per_year_results.plot(kind='line', marker='o')\n",
    "plt.title('Total Goals Trend over the Years')\n",
    "plt.xlabel('Year')\n",
    "plt.ylabel('Total Goals')\n",
    "plt.grid(True)\n",
    "plt.show()"
   ]
  },
  {
   "cell_type": "code",
   "execution_count": 92,
   "metadata": {},
   "outputs": [
    {
     "name": "stdout",
     "output_type": "stream",
     "text": [
      "United States                   1265\n",
      "France                           713\n",
      "Malaysia                         699\n",
      "Qatar                            672\n",
      "Thailand                         624\n",
      "                                ... \n",
      "Manchuria                          1\n",
      "Mali Federation                    1\n",
      "German DR                          1\n",
      "Portuguese Guinea                  1\n",
      "United States Virgin Islands       1\n",
      "Name: country, Length: 248, dtype: int64\n",
      "Europe           12419\n",
      "Asia              9587\n",
      "Africa            8842\n",
      "North America     5022\n",
      "South America     3724\n",
      "Oceania           1177\n",
      "Name: home_continent, dtype: int64\n"
     ]
    }
   ],
   "source": [
    "# Wo werden die meisten gespielt? (Länder oder Kontinent)\n",
    "matches_per_country = df_results.groupby('country')\n",
    "matches_per_country_1 = df_results['country'].value_counts()\n",
    "matches_per_continent = df_results['home_continent'].value_counts()\n",
    "\n",
    "print(matches_per_country_1)\n",
    "print(matches_per_continent)"
   ]
  },
  {
   "cell_type": "code",
   "execution_count": 93,
   "metadata": {},
   "outputs": [
    {
     "name": "stdout",
     "output_type": "stream",
     "text": [
      "(0, 5]        1599\n",
      "(5, 10]       1973\n",
      "(10, 15]      2114\n",
      "(15, 20]      2147\n",
      "(20, 25]      2064\n",
      "(25, 30]      2252\n",
      "(30, 35]      2218\n",
      "(35, 40]      2254\n",
      "(40, 45]      2853\n",
      "(45, 50]      2198\n",
      "(50, 55]      2593\n",
      "(55, 60]      2486\n",
      "(60, 65]      2507\n",
      "(65, 70]      2407\n",
      "(70, 75]      2564\n",
      "(75, 80]      2531\n",
      "(80, 85]      2723\n",
      "(85, 90]      4122\n",
      "(90, 95]        43\n",
      "(95, 100]       36\n",
      "(100, 105]      53\n",
      "(105, 110]      32\n",
      "(110, 115]      34\n",
      "(115, 120]      43\n",
      "Name: minute, dtype: int64\n"
     ]
    }
   ],
   "source": [
    "# In welchen Spielminuten fallen die meisten Tore?\n",
    "\n",
    "intervals = pd.interval_range(start=0, end=120, freq=5, closed='right')\n",
    "\n",
    "# Erstelle eine neue Spalte 'Interval' im DataFrame, die die Intervalle enthält\n",
    "df_goalscorers_minute = pd.cut(df_goalscorers['minute'], bins=intervals)\n",
    "\n",
    "# Zähle die Anzahl der Tore in jedem Intervall\n",
    "interval_counts_5 = df_goalscorers_minute.value_counts().sort_index()\n",
    "\n",
    "# Ausgabe der Ergebnisse\n",
    "print(interval_counts_5)"
   ]
  },
  {
   "cell_type": "code",
   "execution_count": 94,
   "metadata": {},
   "outputs": [
    {
     "data": {
      "image/png": "[encoded data removed]",
      "text/plain": [
       "<Figure size 1200x600 with 1 Axes>"
      ]
     },
     "metadata": {},
     "output_type": "display_data"
    }
   ],
   "source": [
    "# Plot erstellen\n",
    "fig, ax = plt.subplots(figsize=(12, 6))\n",
    "\n",
    "# Balkendiagramm zeichnen\n",
    "interval_counts_5.plot(kind='bar', ax=ax)\n",
    "\n",
    "# Diagramm-Details hinzufügen\n",
    "ax.set_title('Anzahl der Tore pro 5-Minuten-Intervall')\n",
    "ax.set_xlabel('Minutenintervall')\n",
    "ax.set_ylabel('Anzahl der Tore')\n",
    "ax.grid(True, which='both', linestyle='--', linewidth=0.5)\n",
    "\n",
    "# X-Achsenbeschriftungen verbessern\n",
    "ax.set_xticklabels([f'{int(interval.left)}-{int(interval.right)}' for interval in interval_counts_5.index], rotation=45, ha='right')\n",
    "\n",
    "# Diagramm anzeigen\n",
    "plt.tight_layout()\n",
    "plt.show()"
   ]
  },
  {
   "cell_type": "code",
   "execution_count": 95,
   "metadata": {},
   "outputs": [
    {
     "name": "stdout",
     "output_type": "stream",
     "text": [
      "Home wins: 19922\n",
      "Away wins: 11435\n"
     ]
    }
   ],
   "source": [
    "# Gewinnt man eher als Home oder away team?\n",
    "df_results_home_away = df_results[df_results['home_team'] != df_results['away_team']]\n",
    "\n",
    "# Anzahl der Heimsiege\n",
    "home_wins = df_results_home_away[df_results_home_away['winning_country'] == df_results_home_away['home_team']].shape[0]\n",
    "\n",
    "# Anzahl der Auswärtssiege\n",
    "away_wins = df_results_home_away[df_results_home_away['winning_country'] == df_results_home_away['away_team']].shape[0]\n",
    "\n",
    "print(f\"Home wins: {home_wins}\")\n",
    "print(f\"Away wins: {away_wins}\")"
   ]
  },
  {
   "cell_type": "code",
   "execution_count": 96,
   "metadata": {},
   "outputs": [
    {
     "name": "stdout",
     "output_type": "stream",
     "text": [
      "Draws: 9414\n"
     ]
    }
   ],
   "source": [
    "# Wie viele Draws gibt es?\n",
    "draws = df_results[df_results['winning_country'] == 'Unentschieden'].shape[0]\n",
    "\n",
    "print(f\"Draws: {draws}\")"
   ]
  },
  {
   "cell_type": "markdown",
   "metadata": {},
   "source": [
    "##### Turnierbezogenes:"
   ]
  },
  {
   "cell_type": "code",
   "execution_count": 97,
   "metadata": {},
   "outputs": [
    {
     "name": "stdout",
     "output_type": "stream",
     "text": [
      "['Friendly' 'British Home Championship' 'Évence Coppée Trophy'\n",
      " 'Copa Lipton' 'Copa Newton' 'Copa Premio Honor Argentino'\n",
      " 'Copa Premio Honor Uruguayo' 'Copa Roca' 'Copa América'\n",
      " 'Far Eastern Championship Games' 'Copa Chevallier Boutell'\n",
      " 'Olympic Games' 'Nordic Championship'\n",
      " 'Central European International Cup' 'Baltic Cup'\n",
      " 'Central American and Caribbean Games' 'Balkan Cup' 'FIFA World Cup'\n",
      " 'Copa Rio Branco' 'FIFA World Cup qualification' 'Bolivarian Games'\n",
      " 'CCCF Championship' 'NAFC Championship' 'Copa Oswaldo Cruz' 'Asian Games'\n",
      " 'Pan American Championship' 'Copa del Pacífico' \"Copa Bernardo O'Higgins\"\n",
      " 'AFC Asian Cup qualification' 'Atlantic Cup' 'AFC Asian Cup'\n",
      " 'African Cup of Nations' 'Copa Paz del Chaco' 'Merdeka Tournament'\n",
      " 'UEFA Euro qualification' 'Southeast Asian Peninsular Games'\n",
      " 'African Friendship Games' 'Windward Islands Tournament'\n",
      " 'African Cup of Nations qualification' 'Vietnam Independence Cup'\n",
      " 'Copa Carlos Dittborn' 'Phillip Seaga Cup' 'CONCACAF Championship'\n",
      " 'Copa Juan Pinto Durán' 'Arab Cup' 'South Pacific Games' 'UEFA Euro'\n",
      " 'CONCACAF Championship qualification' 'Copa Artigas' 'All-African Games'\n",
      " 'GaNEFo' \"King's Cup\" 'Gulf Cup' 'Indonesia Tournament' 'Korea Cup'\n",
      " 'Palestine Cup' 'Brazil Independence Cup' 'Copa Ramón Castilla'\n",
      " 'Oceania Nations Cup' 'CECAFA Cup' 'Kuneitra Cup' 'Copa Félix Bogado'\n",
      " 'Real Madrid 75th Anniversary Cup'\n",
      " 'Beijing International Friendship Tournament' 'Southeast Asian Games'\n",
      " 'Kirin Cup' 'CFU Caribbean Cup qualification' 'CFU Caribbean Cup'\n",
      " 'Amílcar Cabral Cup' 'FIFA 75th Anniversary Cup'\n",
      " 'Indian Ocean Island Games'\n",
      " 'Guangzhou International Friendship Tournament' 'Mundialito'\n",
      " 'South Pacific Mini Games' 'West African Cup' 'Nehru Cup' 'Merlion Cup'\n",
      " 'Great Wall Cup' 'South Asian Games' 'UDEAC Cup' 'Rous Cup'\n",
      " 'CONMEBOL–UEFA Cup of Champions' 'Miami Cup' 'Lunar New Year Cup'\n",
      " 'Arab Cup qualification' 'Tournoi de France'\n",
      " 'Malta International Tournament' 'Four Nations Tournament' 'Matthews Cup'\n",
      " 'Tournament Burkina Faso' 'Marlboro Cup' 'NAFU Championship'\n",
      " 'Dynasty Cup' 'Dakar Tournament' 'UNCAF Cup' 'Scania 100 Tournament'\n",
      " 'Gold Cup' 'USA Cup' 'Jordan International Tournament'\n",
      " 'Confederations Cup' 'East Asian Games'\n",
      " 'United Arab Emirates Friendship Tournament' 'Joe Robbie Cup'\n",
      " 'Oceania Nations Cup qualification' 'Simba Tournament' 'SAFF Cup'\n",
      " 'AFF Championship' 'King Hassan II Tournament'\n",
      " 'Cyprus International Tournament' 'Dunhill Cup'\n",
      " 'COSAFA Cup qualification' 'COSAFA Cup' 'Gold Cup qualification'\n",
      " 'AFF Championship qualification' 'SKN Football Festival' 'UNIFFAC Cup'\n",
      " 'WAFF Championship' 'Millennium Cup' \"Prime Minister's Cup\"\n",
      " 'The Other Final' 'EAFF Championship' 'TIFOCO Tournament'\n",
      " 'Afro-Asian Games' 'AFC Challenge Cup' 'Island Games'\n",
      " 'AFC Challenge Cup qualification' \"Coupe de l'Outre-Mer\" 'VFF Cup'\n",
      " 'Corsica Cup' 'Dragon Cup' 'ABCS Tournament' 'Nile Basin Tournament'\n",
      " 'Nations Cup' 'Copa Confraternidad' 'Pacific Games'\n",
      " 'Superclásico de las Américas' 'Africa Cup of Nations qualification'\n",
      " 'Kirin Challenge Cup' 'OSN Cup' 'Copa América qualification'\n",
      " 'Pacific Mini Games' 'Intercontinental Cup' 'UEFA Nations League'\n",
      " 'CONCACAF Nations League qualification' 'CONCACAF Nations League'\n",
      " 'Three Nations Cup' 'Mahinda Rajapaksa Cup' 'Navruz Cup'\n",
      " \"MSG Prime Minister's Cup\" 'Tri Nation Tournament' 'CAFA Nations Cup'\n",
      " 'Mauritius Four Nations Cup' 'FIFA Series']\n"
     ]
    }
   ],
   "source": [
    "# Welche Turniere gibt es?\n",
    "tournaments = df_results['tournament'].unique()\n",
    "\n",
    "print(tournaments)"
   ]
  },
  {
   "cell_type": "code",
   "execution_count": 98,
   "metadata": {},
   "outputs": [],
   "source": [
    "rs = pd.merge(df_results, df_shootouts, how = 'outer', on = ['date', 'home_team', 'away_team'])"
   ]
  },
  {
   "cell_type": "code",
   "execution_count": 99,
   "metadata": {},
   "outputs": [],
   "source": [
    "rs.dropna(subset=['tournament'], inplace=True)"
   ]
  },
  {
   "cell_type": "code",
   "execution_count": 100,
   "metadata": {},
   "outputs": [],
   "source": [
    "world_cup = rs.loc[rs['tournament'] == 'FIFA World Cup']\n",
    "copa_america = rs.loc[rs['tournament'] == 'Copa América']\n",
    "afcon = rs.loc[rs['tournament'] == 'African Cup of Nations']\n",
    "euros = rs.loc[rs['tournament'] == 'UEFA Euro']\n",
    "asian_cup = rs.loc[rs['tournament'] == 'AFC Asian Cup']"
   ]
  },
  {
   "cell_type": "code",
   "execution_count": 103,
   "metadata": {},
   "outputs": [],
   "source": [
    "\n",
    "world_cup_goals = world_cup.groupby('year')[['home_score', 'away_score']].sum()\n",
    "copa_america_goals = copa_america.groupby('year')[['home_score', 'away_score']].sum()\n",
    "afcon_goals = afcon.groupby('year')[['home_score', 'away_score']].sum()\n",
    "euros_goals = euros.groupby('year')[['home_score', 'away_score']].sum()\n",
    "asian_cup_goals = asian_cup.groupby('year')[['home_score', 'away_score']].sum()\n",
    "\n",
    "world_cup_goals['goals_scored'] = world_cup_goals['home_score'] + world_cup_goals['away_score']\n",
    "copa_america_goals['goals_scored'] = copa_america_goals['home_score'] + copa_america_goals['away_score']\n",
    "afcon_goals['goals_scored'] = afcon_goals['home_score'] + afcon_goals['away_score']\n",
    "euros_goals['goals_scored'] = euros_goals['home_score'] + euros_goals['away_score']\n",
    "asian_cup_goals['goals_scored'] = asian_cup_goals['home_score'] + asian_cup_goals['away_score']"
   ]
  },
  {
   "cell_type": "code",
   "execution_count": 104,
   "metadata": {},
   "outputs": [
    {
     "data": {
      "text/plain": [
       "False    43302\n",
       "True       806\n",
       "Name: own_goal, dtype: int64"
      ]
     },
     "execution_count": 104,
     "metadata": {},
     "output_type": "execute_result"
    }
   ],
   "source": [
    "# Distribution of penalty goals in matches \n",
    "df_goalscorers['own_goal'].value_counts()"
   ]
  },
  {
   "cell_type": "code",
   "execution_count": 105,
   "metadata": {},
   "outputs": [
    {
     "data": {
      "image/png": "[encoded data removed]",
      "text/plain": [
       "<Figure size 640x480 with 1 Axes>"
      ]
     },
     "metadata": {},
     "output_type": "display_data"
    }
   ],
   "source": [
    "goals = df_goalscorers['own_goal'].value_counts()\n",
    "plt.pie(goals.values, labels= goals.index, autopct='%1.1f%%', startangle=90, explode=[0, 0.1], colors=['turquoise', 'yellow'])\n",
    "plt.title('Distribution of own goal matches', size=10)\n",
    "plt.axis('equal')\n",
    "plt.show()"
   ]
  },
  {
   "cell_type": "markdown",
   "metadata": {},
   "source": [
    "### Spieler"
   ]
  },
  {
   "cell_type": "code",
   "execution_count": 106,
   "metadata": {},
   "outputs": [],
   "source": [
    "# Top Goalscorers in International Football \n",
    "top_scorers = df_goalscorers[df_goalscorers['own_goal'] == False].groupby('scorer').size().reset_index(name='goals')"
   ]
  },
  {
   "cell_type": "code",
   "execution_count": 107,
   "metadata": {},
   "outputs": [],
   "source": [
    "top_scorers = top_scorers.sort_values(by='goals', ascending=False)"
   ]
  },
  {
   "cell_type": "code",
   "execution_count": 108,
   "metadata": {},
   "outputs": [
    {
     "data": {
      "text/html": [
       "<div>\n",
       "<style scoped>\n",
       "    .dataframe tbody tr th:only-of-type {\n",
       "        vertical-align: middle;\n",
       "    }\n",
       "\n",
       "    .dataframe tbody tr th {\n",
       "        vertical-align: top;\n",
       "    }\n",
       "\n",
       "    .dataframe thead th {\n",
       "        text-align: right;\n",
       "    }\n",
       "</style>\n",
       "<table border=\"1\" class=\"dataframe\">\n",
       "  <thead>\n",
       "    <tr style=\"text-align: right;\">\n",
       "      <th></th>\n",
       "      <th>scorer</th>\n",
       "      <th>goals</th>\n",
       "    </tr>\n",
       "  </thead>\n",
       "  <tbody>\n",
       "    <tr>\n",
       "      <th>2521</th>\n",
       "      <td>Cristiano Ronaldo</td>\n",
       "      <td>111</td>\n",
       "    </tr>\n",
       "    <tr>\n",
       "      <th>10972</th>\n",
       "      <td>Robert Lewandowski</td>\n",
       "      <td>62</td>\n",
       "    </tr>\n",
       "    <tr>\n",
       "      <th>11165</th>\n",
       "      <td>Romelu Lukaku</td>\n",
       "      <td>61</td>\n",
       "    </tr>\n",
       "    <tr>\n",
       "      <th>4951</th>\n",
       "      <td>Harry Kane</td>\n",
       "      <td>55</td>\n",
       "    </tr>\n",
       "    <tr>\n",
       "      <th>7688</th>\n",
       "      <td>Lionel Messi</td>\n",
       "      <td>54</td>\n",
       "    </tr>\n",
       "    <tr>\n",
       "      <th>...</th>\n",
       "      <td>...</td>\n",
       "      <td>...</td>\n",
       "    </tr>\n",
       "    <tr>\n",
       "      <th>4135</th>\n",
       "      <td>Frank Seator</td>\n",
       "      <td>1</td>\n",
       "    </tr>\n",
       "    <tr>\n",
       "      <th>9004</th>\n",
       "      <td>Mohamed Dräger</td>\n",
       "      <td>1</td>\n",
       "    </tr>\n",
       "    <tr>\n",
       "      <th>9003</th>\n",
       "      <td>Mohamed Dellahi Yali</td>\n",
       "      <td>1</td>\n",
       "    </tr>\n",
       "    <tr>\n",
       "      <th>9002</th>\n",
       "      <td>Mohamed Daima</td>\n",
       "      <td>1</td>\n",
       "    </tr>\n",
       "    <tr>\n",
       "      <th>7148</th>\n",
       "      <td>Kevin O'Callaghan</td>\n",
       "      <td>1</td>\n",
       "    </tr>\n",
       "  </tbody>\n",
       "</table>\n",
       "<p>13801 rows × 2 columns</p>\n",
       "</div>"
      ],
      "text/plain": [
       "                     scorer  goals\n",
       "2521      Cristiano Ronaldo    111\n",
       "10972    Robert Lewandowski     62\n",
       "11165         Romelu Lukaku     61\n",
       "4951             Harry Kane     55\n",
       "7688           Lionel Messi     54\n",
       "...                     ...    ...\n",
       "4135           Frank Seator      1\n",
       "9004         Mohamed Dräger      1\n",
       "9003   Mohamed Dellahi Yali      1\n",
       "9002          Mohamed Daima      1\n",
       "7148      Kevin O'Callaghan      1\n",
       "\n",
       "[13801 rows x 2 columns]"
      ]
     },
     "execution_count": 108,
     "metadata": {},
     "output_type": "execute_result"
    }
   ],
   "source": [
    "top_scorers"
   ]
  },
  {
   "cell_type": "code",
   "execution_count": 109,
   "metadata": {},
   "outputs": [
    {
     "name": "stderr",
     "output_type": "stream",
     "text": [
      "C:\\Users\\sophi\\AppData\\Local\\Temp\\ipykernel_15648\\440126584.py:2: FutureWarning: The behavior of `series[i:j]` with an integer-dtype index is deprecated. In a future version, this will be treated as *label-based* indexing, consistent with e.g. `series[i]` lookups. To retain the old behavior, use `series.iloc[i:j]`. To get the future behavior, use `series.loc[i:j]`.\n",
      "  plt.bar(top_scorers['scorer'][:10], top_scorers['goals'][:10], color='skyblue')\n"
     ]
    },
    {
     "data": {
      "image/png": "[encoded data removed]",
      "text/plain": [
       "<Figure size 1200x800 with 1 Axes>"
      ]
     },
     "metadata": {},
     "output_type": "display_data"
    }
   ],
   "source": [
    "plt.figure(figsize=(12, 8))\n",
    "plt.bar(top_scorers['scorer'][:10], top_scorers['goals'][:10], color='skyblue')\n",
    "plt.xlabel('Spieler')\n",
    "plt.ylabel('Anzahl der Tore')\n",
    "plt.title('Top 10 Torschützen')\n",
    "plt.xticks(rotation=45, ha='right')\n",
    "plt.tight_layout()\n",
    "plt.show()"
   ]
  },
  {
   "cell_type": "markdown",
   "metadata": {},
   "source": [
    "## Noch fehlerhaft"
   ]
  },
  {
   "cell_type": "code",
   "execution_count": 111,
   "metadata": {},
   "outputs": [],
   "source": [
    "# Goals scored against favorite opponents by famous goalscoreres\n",
    "df_scorers = df_goalscorers['scorer'].unique()"
   ]
  },
  {
   "cell_type": "code",
   "execution_count": 113,
   "metadata": {},
   "outputs": [
    {
     "name": "stderr",
     "output_type": "stream",
     "text": [
      "C:\\Users\\sophi\\AppData\\Local\\Temp\\ipykernel_15648\\2620839769.py:11: SettingWithCopyWarning: \n",
      "A value is trying to be set on a copy of a slice from a DataFrame.\n",
      "Try using .loc[row_indexer,col_indexer] = value instead\n",
      "\n",
      "See the caveats in the documentation: https://pandas.pydata.org/pandas-docs/stable/user_guide/indexing.html#returning-a-view-versus-a-copy\n",
      "  top_players_stats['label'] = top_players_stats['opponent'] + ': ' + top_players_stats['goals'].astype(str) + ' goals'\n"
     ]
    },
    {
     "data": {
      "application/vnd.plotly.v1+json": {
       "config": {
        "plotlyServerURL": "https://plot.ly"
       },
       "data": [
        {
         "fill": "toself",
         "name": "Lionel Messi",
         "r": [
          6
         ],
         "theta": [
          "Bolivia"
         ],
         "type": "scatterpolar"
        },
        {
         "fill": "toself",
         "name": "Romelu Lukaku",
         "r": [
          8
         ],
         "theta": [
          "Estonia"
         ],
         "type": "scatterpolar"
        },
        {
         "fill": "toself",
         "name": "Cristiano Ronaldo",
         "r": [
          10
         ],
         "theta": [
          "Luxembourg"
         ],
         "type": "scatterpolar"
        },
        {
         "fill": "toself",
         "name": "Robert Lewandowski",
         "r": [
          6
         ],
         "theta": [
          "Gibraltar"
         ],
         "type": "scatterpolar"
        },
        {
         "fill": "toself",
         "name": "Neymar",
         "r": [
          6
         ],
         "theta": [
          "Peru"
         ],
         "type": "scatterpolar"
        },
        {
         "fill": "toself",
         "name": "Harry Kane",
         "r": [
          5
         ],
         "theta": [
          "San Marino"
         ],
         "type": "scatterpolar"
        },
        {
         "fill": "toself",
         "name": "Diego Maradona",
         "r": [
          3
         ],
         "theta": [
          "Venezuela"
         ],
         "type": "scatterpolar"
        },
        {
         "fill": "toself",
         "name": "Kylian Mbappé",
         "r": [
          6
         ],
         "theta": [
          "Netherlands"
         ],
         "type": "scatterpolar"
        },
        {
         "fill": "toself",
         "name": "Olivier Giroud",
         "r": [
          4
         ],
         "theta": [
          "Iceland"
         ],
         "type": "scatterpolar"
        },
        {
         "fill": "toself",
         "name": "Thomas Müller",
         "r": [
          4
         ],
         "theta": [
          "Kazakhstan"
         ],
         "type": "scatterpolar"
        },
        {
         "fill": "toself",
         "name": "Pelé",
         "r": [
          4
         ],
         "theta": [
          "Paraguay"
         ],
         "type": "scatterpolar"
        },
        {
         "fill": "toself",
         "name": "Son Heung-min",
         "r": [
          5
         ],
         "theta": [
          "Laos"
         ],
         "type": "scatterpolar"
        },
        {
         "fill": "toself",
         "name": "Lê Công Vinh",
         "r": [
          7
         ],
         "theta": [
          "Macau"
         ],
         "type": "scatterpolar"
        },
        {
         "fill": "toself",
         "name": "Luis Suárez",
         "r": [
          8
         ],
         "theta": [
          "Chile"
         ],
         "type": "scatterpolar"
        },
        {
         "fill": "toself",
         "name": "Edin Džeko",
         "r": [
          7
         ],
         "theta": [
          "Liechtenstein"
         ],
         "type": "scatterpolar"
        },
        {
         "fill": "toself",
         "name": "Miroslav Klose",
         "r": [
          5
         ],
         "theta": [
          "Azerbaijan"
         ],
         "type": "scatterpolar"
        }
       ],
       "layout": {
        "polar": {
         "radialaxis": {
          "range": [
           0,
           11
          ],
          "visible": true
         }
        },
        "showlegend": true,
        "template": {
         "data": {
          "bar": [
           {
            "error_x": {
             "color": "#2a3f5f"
            },
            "error_y": {
             "color": "#2a3f5f"
            },
            "marker": {
             "line": {
              "color": "#E5ECF6",
              "width": 0.5
             },
             "pattern": {
              "fillmode": "overlay",
              "size": 10,
              "solidity": 0.2
             }
            },
            "type": "bar"
           }
          ],
          "barpolar": [
           {
            "marker": {
             "line": {
              "color": "#E5ECF6",
              "width": 0.5
             },
             "pattern": {
              "fillmode": "overlay",
              "size": 10,
              "solidity": 0.2
             }
            },
            "type": "barpolar"
           }
          ],
          "carpet": [
           {
            "aaxis": {
             "endlinecolor": "#2a3f5f",
             "gridcolor": "white",
             "linecolor": "white",
             "minorgridcolor": "white",
             "startlinecolor": "#2a3f5f"
            },
            "baxis": {
             "endlinecolor": "#2a3f5f",
             "gridcolor": "white",
             "linecolor": "white",
             "minorgridcolor": "white",
             "startlinecolor": "#2a3f5f"
            },
            "type": "carpet"
           }
          ],
          "choropleth": [
           {
            "colorbar": {
             "outlinewidth": 0,
             "ticks": ""
            },
            "type": "choropleth"
           }
          ],
          "contour": [
           {
            "colorbar": {
             "outlinewidth": 0,
             "ticks": ""
            },
            "colorscale": [
             [
              0,
              "#0d0887"
             ],
             [
              0.1111111111111111,
              "#46039f"
             ],
             [
              0.2222222222222222,
              "#7201a8"
             ],
             [
              0.3333333333333333,
              "#9c179e"
             ],
             [
              0.4444444444444444,
              "#bd3786"
             ],
             [
              0.5555555555555556,
              "#d8576b"
             ],
             [
              0.6666666666666666,
              "#ed7953"
             ],
             [
              0.7777777777777778,
              "#fb9f3a"
             ],
             [
              0.8888888888888888,
              "#fdca26"
             ],
             [
              1,
              "#f0f921"
             ]
            ],
            "type": "contour"
           }
          ],
          "contourcarpet": [
           {
            "colorbar": {
             "outlinewidth": 0,
             "ticks": ""
            },
            "type": "contourcarpet"
           }
          ],
          "heatmap": [
           {
            "colorbar": {
             "outlinewidth": 0,
             "ticks": ""
            },
            "colorscale": [
             [
              0,
              "#0d0887"
             ],
             [
              0.1111111111111111,
              "#46039f"
             ],
             [
              0.2222222222222222,
              "#7201a8"
             ],
             [
              0.3333333333333333,
              "#9c179e"
             ],
             [
              0.4444444444444444,
              "#bd3786"
             ],
             [
              0.5555555555555556,
              "#d8576b"
             ],
             [
              0.6666666666666666,
              "#ed7953"
             ],
             [
              0.7777777777777778,
              "#fb9f3a"
             ],
             [
              0.8888888888888888,
              "#fdca26"
             ],
             [
              1,
              "#f0f921"
             ]
            ],
            "type": "heatmap"
           }
          ],
          "heatmapgl": [
           {
            "colorbar": {
             "outlinewidth": 0,
             "ticks": ""
            },
            "colorscale": [
             [
              0,
              "#0d0887"
             ],
             [
              0.1111111111111111,
              "#46039f"
             ],
             [
              0.2222222222222222,
              "#7201a8"
             ],
             [
              0.3333333333333333,
              "#9c179e"
             ],
             [
              0.4444444444444444,
              "#bd3786"
             ],
             [
              0.5555555555555556,
              "#d8576b"
             ],
             [
              0.6666666666666666,
              "#ed7953"
             ],
             [
              0.7777777777777778,
              "#fb9f3a"
             ],
             [
              0.8888888888888888,
              "#fdca26"
             ],
             [
              1,
              "#f0f921"
             ]
            ],
            "type": "heatmapgl"
           }
          ],
          "histogram": [
           {
            "marker": {
             "pattern": {
              "fillmode": "overlay",
              "size": 10,
              "solidity": 0.2
             }
            },
            "type": "histogram"
           }
          ],
          "histogram2d": [
           {
            "colorbar": {
             "outlinewidth": 0,
             "ticks": ""
            },
            "colorscale": [
             [
              0,
              "#0d0887"
             ],
             [
              0.1111111111111111,
              "#46039f"
             ],
             [
              0.2222222222222222,
              "#7201a8"
             ],
             [
              0.3333333333333333,
              "#9c179e"
             ],
             [
              0.4444444444444444,
              "#bd3786"
             ],
             [
              0.5555555555555556,
              "#d8576b"
             ],
             [
              0.6666666666666666,
              "#ed7953"
             ],
             [
              0.7777777777777778,
              "#fb9f3a"
             ],
             [
              0.8888888888888888,
              "#fdca26"
             ],
             [
              1,
              "#f0f921"
             ]
            ],
            "type": "histogram2d"
           }
          ],
          "histogram2dcontour": [
           {
            "colorbar": {
             "outlinewidth": 0,
             "ticks": ""
            },
            "colorscale": [
             [
              0,
              "#0d0887"
             ],
             [
              0.1111111111111111,
              "#46039f"
             ],
             [
              0.2222222222222222,
              "#7201a8"
             ],
             [
              0.3333333333333333,
              "#9c179e"
             ],
             [
              0.4444444444444444,
              "#bd3786"
             ],
             [
              0.5555555555555556,
              "#d8576b"
             ],
             [
              0.6666666666666666,
              "#ed7953"
             ],
             [
              0.7777777777777778,
              "#fb9f3a"
             ],
             [
              0.8888888888888888,
              "#fdca26"
             ],
             [
              1,
              "#f0f921"
             ]
            ],
            "type": "histogram2dcontour"
           }
          ],
          "mesh3d": [
           {
            "colorbar": {
             "outlinewidth": 0,
             "ticks": ""
            },
            "type": "mesh3d"
           }
          ],
          "parcoords": [
           {
            "line": {
             "colorbar": {
              "outlinewidth": 0,
              "ticks": ""
             }
            },
            "type": "parcoords"
           }
          ],
          "pie": [
           {
            "automargin": true,
            "type": "pie"
           }
          ],
          "scatter": [
           {
            "fillpattern": {
             "fillmode": "overlay",
             "size": 10,
             "solidity": 0.2
            },
            "type": "scatter"
           }
          ],
          "scatter3d": [
           {
            "line": {
             "colorbar": {
              "outlinewidth": 0,
              "ticks": ""
             }
            },
            "marker": {
             "colorbar": {
              "outlinewidth": 0,
              "ticks": ""
             }
            },
            "type": "scatter3d"
           }
          ],
          "scattercarpet": [
           {
            "marker": {
             "colorbar": {
              "outlinewidth": 0,
              "ticks": ""
             }
            },
            "type": "scattercarpet"
           }
          ],
          "scattergeo": [
           {
            "marker": {
             "colorbar": {
              "outlinewidth": 0,
              "ticks": ""
             }
            },
            "type": "scattergeo"
           }
          ],
          "scattergl": [
           {
            "marker": {
             "colorbar": {
              "outlinewidth": 0,
              "ticks": ""
             }
            },
            "type": "scattergl"
           }
          ],
          "scattermapbox": [
           {
            "marker": {
             "colorbar": {
              "outlinewidth": 0,
              "ticks": ""
             }
            },
            "type": "scattermapbox"
           }
          ],
          "scatterpolar": [
           {
            "marker": {
             "colorbar": {
              "outlinewidth": 0,
              "ticks": ""
             }
            },
            "type": "scatterpolar"
           }
          ],
          "scatterpolargl": [
           {
            "marker": {
             "colorbar": {
              "outlinewidth": 0,
              "ticks": ""
             }
            },
            "type": "scatterpolargl"
           }
          ],
          "scatterternary": [
           {
            "marker": {
             "colorbar": {
              "outlinewidth": 0,
              "ticks": ""
             }
            },
            "type": "scatterternary"
           }
          ],
          "surface": [
           {
            "colorbar": {
             "outlinewidth": 0,
             "ticks": ""
            },
            "colorscale": [
             [
              0,
              "#0d0887"
             ],
             [
              0.1111111111111111,
              "#46039f"
             ],
             [
              0.2222222222222222,
              "#7201a8"
             ],
             [
              0.3333333333333333,
              "#9c179e"
             ],
             [
              0.4444444444444444,
              "#bd3786"
             ],
             [
              0.5555555555555556,
              "#d8576b"
             ],
             [
              0.6666666666666666,
              "#ed7953"
             ],
             [
              0.7777777777777778,
              "#fb9f3a"
             ],
             [
              0.8888888888888888,
              "#fdca26"
             ],
             [
              1,
              "#f0f921"
             ]
            ],
            "type": "surface"
           }
          ],
          "table": [
           {
            "cells": {
             "fill": {
              "color": "#EBF0F8"
             },
             "line": {
              "color": "white"
             }
            },
            "header": {
             "fill": {
              "color": "#C8D4E3"
             },
             "line": {
              "color": "white"
             }
            },
            "type": "table"
           }
          ]
         },
         "layout": {
          "annotationdefaults": {
           "arrowcolor": "#2a3f5f",
           "arrowhead": 0,
           "arrowwidth": 1
          },
          "autotypenumbers": "strict",
          "coloraxis": {
           "colorbar": {
            "outlinewidth": 0,
            "ticks": ""
           }
          },
          "colorscale": {
           "diverging": [
            [
             0,
             "#8e0152"
            ],
            [
             0.1,
             "#c51b7d"
            ],
            [
             0.2,
             "#de77ae"
            ],
            [
             0.3,
             "#f1b6da"
            ],
            [
             0.4,
             "#fde0ef"
            ],
            [
             0.5,
             "#f7f7f7"
            ],
            [
             0.6,
             "#e6f5d0"
            ],
            [
             0.7,
             "#b8e186"
            ],
            [
             0.8,
             "#7fbc41"
            ],
            [
             0.9,
             "#4d9221"
            ],
            [
             1,
             "#276419"
            ]
           ],
           "sequential": [
            [
             0,
             "#0d0887"
            ],
            [
             0.1111111111111111,
             "#46039f"
            ],
            [
             0.2222222222222222,
             "#7201a8"
            ],
            [
             0.3333333333333333,
             "#9c179e"
            ],
            [
             0.4444444444444444,
             "#bd3786"
            ],
            [
             0.5555555555555556,
             "#d8576b"
            ],
            [
             0.6666666666666666,
             "#ed7953"
            ],
            [
             0.7777777777777778,
             "#fb9f3a"
            ],
            [
             0.8888888888888888,
             "#fdca26"
            ],
            [
             1,
             "#f0f921"
            ]
           ],
           "sequentialminus": [
            [
             0,
             "#0d0887"
            ],
            [
             0.1111111111111111,
             "#46039f"
            ],
            [
             0.2222222222222222,
             "#7201a8"
            ],
            [
             0.3333333333333333,
             "#9c179e"
            ],
            [
             0.4444444444444444,
             "#bd3786"
            ],
            [
             0.5555555555555556,
             "#d8576b"
            ],
            [
             0.6666666666666666,
             "#ed7953"
            ],
            [
             0.7777777777777778,
             "#fb9f3a"
            ],
            [
             0.8888888888888888,
             "#fdca26"
            ],
            [
             1,
             "#f0f921"
            ]
           ]
          },
          "colorway": [
           "#636efa",
           "#EF553B",
           "#00cc96",
           "#ab63fa",
           "#FFA15A",
           "#19d3f3",
           "#FF6692",
           "#B6E880",
           "#FF97FF",
           "#FECB52"
          ],
          "font": {
           "color": "#2a3f5f"
          },
          "geo": {
           "bgcolor": "white",
           "lakecolor": "white",
           "landcolor": "#E5ECF6",
           "showlakes": true,
           "showland": true,
           "subunitcolor": "white"
          },
          "hoverlabel": {
           "align": "left"
          },
          "hovermode": "closest",
          "mapbox": {
           "style": "light"
          },
          "paper_bgcolor": "white",
          "plot_bgcolor": "#E5ECF6",
          "polar": {
           "angularaxis": {
            "gridcolor": "white",
            "linecolor": "white",
            "ticks": ""
           },
           "bgcolor": "#E5ECF6",
           "radialaxis": {
            "gridcolor": "white",
            "linecolor": "white",
            "ticks": ""
           }
          },
          "scene": {
           "xaxis": {
            "backgroundcolor": "#E5ECF6",
            "gridcolor": "white",
            "gridwidth": 2,
            "linecolor": "white",
            "showbackground": true,
            "ticks": "",
            "zerolinecolor": "white"
           },
           "yaxis": {
            "backgroundcolor": "#E5ECF6",
            "gridcolor": "white",
            "gridwidth": 2,
            "linecolor": "white",
            "showbackground": true,
            "ticks": "",
            "zerolinecolor": "white"
           },
           "zaxis": {
            "backgroundcolor": "#E5ECF6",
            "gridcolor": "white",
            "gridwidth": 2,
            "linecolor": "white",
            "showbackground": true,
            "ticks": "",
            "zerolinecolor": "white"
           }
          },
          "shapedefaults": {
           "line": {
            "color": "#2a3f5f"
           }
          },
          "ternary": {
           "aaxis": {
            "gridcolor": "white",
            "linecolor": "white",
            "ticks": ""
           },
           "baxis": {
            "gridcolor": "white",
            "linecolor": "white",
            "ticks": ""
           },
           "bgcolor": "#E5ECF6",
           "caxis": {
            "gridcolor": "white",
            "linecolor": "white",
            "ticks": ""
           }
          },
          "title": {
           "x": 0.05
          },
          "xaxis": {
           "automargin": true,
           "gridcolor": "white",
           "linecolor": "white",
           "ticks": "",
           "title": {
            "standoff": 15
           },
           "zerolinecolor": "white",
           "zerolinewidth": 2
          },
          "yaxis": {
           "automargin": true,
           "gridcolor": "white",
           "linecolor": "white",
           "ticks": "",
           "title": {
            "standoff": 15
           },
           "zerolinecolor": "white",
           "zerolinewidth": 2
          }
         }
        },
        "title": {
         "text": "Goals scored against favorite opponents by famous goalscorers"
        }
       }
      }
     },
     "metadata": {},
     "output_type": "display_data"
    }
   ],
   "source": [
    "df_goalscorers['opponent'] = df_goalscorers.apply(lambda row: row['away_team'] if row['team'] == row['home_team'] else row['home_team'], axis=1)\n",
    "\n",
    "fav_opp = df_goalscorers.groupby(['scorer', 'opponent']).size().reset_index(name='goals')\n",
    "fav_opp = fav_opp.loc[fav_opp.groupby('scorer')['goals'].idxmax()]\n",
    "\n",
    "players = ['Lionel Messi', 'Romelu Lukaku', 'Cristiano Ronaldo', 'Robert Lewandowski', 'Neymar', 'Harry Kane', 'Diego Maradona', 'Kylian Mbappé',\n",
    "           'Olivier Giroud', 'Thomas Müller', 'Pelé', 'Son Heung-min', 'Lê Công Vinh', 'Luis Suárez',\n",
    "           'Edin Džeko', 'Miroslav Klose']\n",
    "\n",
    "top_players_stats = fav_opp[fav_opp['scorer'].isin(players)]\n",
    "top_players_stats['label'] = top_players_stats['opponent'] + ': ' + top_players_stats['goals'].astype(str) + ' goals'\n",
    "\n",
    "# Radar chart\n",
    "fig = go.Figure()\n",
    "\n",
    "for player in players:\n",
    "    player_data = top_players_stats[top_players_stats['scorer'] == player]\n",
    "    fig.add_trace(go.Scatterpolar(\n",
    "        r=player_data['goals'],\n",
    "        theta=player_data['opponent'],\n",
    "        fill='toself',\n",
    "        name=player\n",
    "    ))\n",
    "\n",
    "fig.update_layout(\n",
    "    polar=dict(\n",
    "        radialaxis=dict(\n",
    "            visible=True,\n",
    "            range=[0, max(top_players_stats['goals']) + 1]\n",
    "        )\n",
    "    ),\n",
    "    showlegend=True,\n",
    "    title='Goals scored against favorite opponents by famous goalscorers'\n",
    ")\n",
    "\n",
    "fig.show()"
   ]
  },
  {
   "cell_type": "code",
   "execution_count": 114,
   "metadata": {},
   "outputs": [
    {
     "name": "stderr",
     "output_type": "stream",
     "text": [
      "C:\\Users\\sophi\\AppData\\Local\\Temp\\ipykernel_15648\\2011534026.py:10: SettingWithCopyWarning:\n",
      "\n",
      "\n",
      "A value is trying to be set on a copy of a slice from a DataFrame.\n",
      "Try using .loc[row_indexer,col_indexer] = value instead\n",
      "\n",
      "See the caveats in the documentation: https://pandas.pydata.org/pandas-docs/stable/user_guide/indexing.html#returning-a-view-versus-a-copy\n",
      "\n"
     ]
    },
    {
     "data": {
      "application/vnd.plotly.v1+json": {
       "config": {
        "plotlyServerURL": "https://plot.ly"
       },
       "data": [
        {
         "alignmentgroup": "True",
         "hovertemplate": "goals=%{marker.color}<br>scorer=%{y}<br>label=%{text}<extra></extra>",
         "legendgroup": "",
         "marker": {
          "color": [
           10,
           3,
           7,
           5,
           6,
           6,
           8,
           7,
           5,
           6,
           4,
           4,
           6,
           8,
           5,
           4
          ],
          "coloraxis": "coloraxis",
          "pattern": {
           "shape": ""
          }
         },
         "name": "",
         "offsetgroup": "",
         "orientation": "h",
         "showlegend": false,
         "text": [
          "Luxembourg: 10 goals",
          "Venezuela: 3 goals",
          "Liechtenstein: 7 goals",
          "San Marino: 5 goals",
          "Netherlands: 6 goals",
          "Bolivia: 6 goals",
          "Chile: 8 goals",
          "Macau: 7 goals",
          "Azerbaijan: 5 goals",
          "Peru: 6 goals",
          "Iceland: 4 goals",
          "Paraguay: 4 goals",
          "Gibraltar: 6 goals",
          "Estonia: 8 goals",
          "Laos: 5 goals",
          "Kazakhstan: 4 goals"
         ],
         "textposition": "auto",
         "type": "bar",
         "x": [
          10,
          3,
          7,
          5,
          6,
          6,
          8,
          7,
          5,
          6,
          4,
          4,
          6,
          8,
          5,
          4
         ],
         "xaxis": "x",
         "y": [
          "Cristiano Ronaldo",
          "Diego Maradona",
          "Edin Džeko",
          "Harry Kane",
          "Kylian Mbappé",
          "Lionel Messi",
          "Luis Suárez",
          "Lê Công Vinh",
          "Miroslav Klose",
          "Neymar",
          "Olivier Giroud",
          "Pelé",
          "Robert Lewandowski",
          "Romelu Lukaku",
          "Son Heung-min",
          "Thomas Müller"
         ],
         "yaxis": "y"
        }
       ],
       "layout": {
        "barmode": "relative",
        "coloraxis": {
         "colorbar": {
          "title": {
           "text": "goals"
          }
         },
         "colorscale": [
          [
           0,
           "#0d0887"
          ],
          [
           0.1111111111111111,
           "#46039f"
          ],
          [
           0.2222222222222222,
           "#7201a8"
          ],
          [
           0.3333333333333333,
           "#9c179e"
          ],
          [
           0.4444444444444444,
           "#bd3786"
          ],
          [
           0.5555555555555556,
           "#d8576b"
          ],
          [
           0.6666666666666666,
           "#ed7953"
          ],
          [
           0.7777777777777778,
           "#fb9f3a"
          ],
          [
           0.8888888888888888,
           "#fdca26"
          ],
          [
           1,
           "#f0f921"
          ]
         ]
        },
        "legend": {
         "tracegroupgap": 0
        },
        "template": {
         "data": {
          "bar": [
           {
            "error_x": {
             "color": "#2a3f5f"
            },
            "error_y": {
             "color": "#2a3f5f"
            },
            "marker": {
             "line": {
              "color": "#E5ECF6",
              "width": 0.5
             },
             "pattern": {
              "fillmode": "overlay",
              "size": 10,
              "solidity": 0.2
             }
            },
            "type": "bar"
           }
          ],
          "barpolar": [
           {
            "marker": {
             "line": {
              "color": "#E5ECF6",
              "width": 0.5
             },
             "pattern": {
              "fillmode": "overlay",
              "size": 10,
              "solidity": 0.2
             }
            },
            "type": "barpolar"
           }
          ],
          "carpet": [
           {
            "aaxis": {
             "endlinecolor": "#2a3f5f",
             "gridcolor": "white",
             "linecolor": "white",
             "minorgridcolor": "white",
             "startlinecolor": "#2a3f5f"
            },
            "baxis": {
             "endlinecolor": "#2a3f5f",
             "gridcolor": "white",
             "linecolor": "white",
             "minorgridcolor": "white",
             "startlinecolor": "#2a3f5f"
            },
            "type": "carpet"
           }
          ],
          "choropleth": [
           {
            "colorbar": {
             "outlinewidth": 0,
             "ticks": ""
            },
            "type": "choropleth"
           }
          ],
          "contour": [
           {
            "colorbar": {
             "outlinewidth": 0,
             "ticks": ""
            },
            "colorscale": [
             [
              0,
              "#0d0887"
             ],
             [
              0.1111111111111111,
              "#46039f"
             ],
             [
              0.2222222222222222,
              "#7201a8"
             ],
             [
              0.3333333333333333,
              "#9c179e"
             ],
             [
              0.4444444444444444,
              "#bd3786"
             ],
             [
              0.5555555555555556,
              "#d8576b"
             ],
             [
              0.6666666666666666,
              "#ed7953"
             ],
             [
              0.7777777777777778,
              "#fb9f3a"
             ],
             [
              0.8888888888888888,
              "#fdca26"
             ],
             [
              1,
              "#f0f921"
             ]
            ],
            "type": "contour"
           }
          ],
          "contourcarpet": [
           {
            "colorbar": {
             "outlinewidth": 0,
             "ticks": ""
            },
            "type": "contourcarpet"
           }
          ],
          "heatmap": [
           {
            "colorbar": {
             "outlinewidth": 0,
             "ticks": ""
            },
            "colorscale": [
             [
              0,
              "#0d0887"
             ],
             [
              0.1111111111111111,
              "#46039f"
             ],
             [
              0.2222222222222222,
              "#7201a8"
             ],
             [
              0.3333333333333333,
              "#9c179e"
             ],
             [
              0.4444444444444444,
              "#bd3786"
             ],
             [
              0.5555555555555556,
              "#d8576b"
             ],
             [
              0.6666666666666666,
              "#ed7953"
             ],
             [
              0.7777777777777778,
              "#fb9f3a"
             ],
             [
              0.8888888888888888,
              "#fdca26"
             ],
             [
              1,
              "#f0f921"
             ]
            ],
            "type": "heatmap"
           }
          ],
          "heatmapgl": [
           {
            "colorbar": {
             "outlinewidth": 0,
             "ticks": ""
            },
            "colorscale": [
             [
              0,
              "#0d0887"
             ],
             [
              0.1111111111111111,
              "#46039f"
             ],
             [
              0.2222222222222222,
              "#7201a8"
             ],
             [
              0.3333333333333333,
              "#9c179e"
             ],
             [
              0.4444444444444444,
              "#bd3786"
             ],
             [
              0.5555555555555556,
              "#d8576b"
             ],
             [
              0.6666666666666666,
              "#ed7953"
             ],
             [
              0.7777777777777778,
              "#fb9f3a"
             ],
             [
              0.8888888888888888,
              "#fdca26"
             ],
             [
              1,
              "#f0f921"
             ]
            ],
            "type": "heatmapgl"
           }
          ],
          "histogram": [
           {
            "marker": {
             "pattern": {
              "fillmode": "overlay",
              "size": 10,
              "solidity": 0.2
             }
            },
            "type": "histogram"
           }
          ],
          "histogram2d": [
           {
            "colorbar": {
             "outlinewidth": 0,
             "ticks": ""
            },
            "colorscale": [
             [
              0,
              "#0d0887"
             ],
             [
              0.1111111111111111,
              "#46039f"
             ],
             [
              0.2222222222222222,
              "#7201a8"
             ],
             [
              0.3333333333333333,
              "#9c179e"
             ],
             [
              0.4444444444444444,
              "#bd3786"
             ],
             [
              0.5555555555555556,
              "#d8576b"
             ],
             [
              0.6666666666666666,
              "#ed7953"
             ],
             [
              0.7777777777777778,
              "#fb9f3a"
             ],
             [
              0.8888888888888888,
              "#fdca26"
             ],
             [
              1,
              "#f0f921"
             ]
            ],
            "type": "histogram2d"
           }
          ],
          "histogram2dcontour": [
           {
            "colorbar": {
             "outlinewidth": 0,
             "ticks": ""
            },
            "colorscale": [
             [
              0,
              "#0d0887"
             ],
             [
              0.1111111111111111,
              "#46039f"
             ],
             [
              0.2222222222222222,
              "#7201a8"
             ],
             [
              0.3333333333333333,
              "#9c179e"
             ],
             [
              0.4444444444444444,
              "#bd3786"
             ],
             [
              0.5555555555555556,
              "#d8576b"
             ],
             [
              0.6666666666666666,
              "#ed7953"
             ],
             [
              0.7777777777777778,
              "#fb9f3a"
             ],
             [
              0.8888888888888888,
              "#fdca26"
             ],
             [
              1,
              "#f0f921"
             ]
            ],
            "type": "histogram2dcontour"
           }
          ],
          "mesh3d": [
           {
            "colorbar": {
             "outlinewidth": 0,
             "ticks": ""
            },
            "type": "mesh3d"
           }
          ],
          "parcoords": [
           {
            "line": {
             "colorbar": {
              "outlinewidth": 0,
              "ticks": ""
             }
            },
            "type": "parcoords"
           }
          ],
          "pie": [
           {
            "automargin": true,
            "type": "pie"
           }
          ],
          "scatter": [
           {
            "fillpattern": {
             "fillmode": "overlay",
             "size": 10,
             "solidity": 0.2
            },
            "type": "scatter"
           }
          ],
          "scatter3d": [
           {
            "line": {
             "colorbar": {
              "outlinewidth": 0,
              "ticks": ""
             }
            },
            "marker": {
             "colorbar": {
              "outlinewidth": 0,
              "ticks": ""
             }
            },
            "type": "scatter3d"
           }
          ],
          "scattercarpet": [
           {
            "marker": {
             "colorbar": {
              "outlinewidth": 0,
              "ticks": ""
             }
            },
            "type": "scattercarpet"
           }
          ],
          "scattergeo": [
           {
            "marker": {
             "colorbar": {
              "outlinewidth": 0,
              "ticks": ""
             }
            },
            "type": "scattergeo"
           }
          ],
          "scattergl": [
           {
            "marker": {
             "colorbar": {
              "outlinewidth": 0,
              "ticks": ""
             }
            },
            "type": "scattergl"
           }
          ],
          "scattermapbox": [
           {
            "marker": {
             "colorbar": {
              "outlinewidth": 0,
              "ticks": ""
             }
            },
            "type": "scattermapbox"
           }
          ],
          "scatterpolar": [
           {
            "marker": {
             "colorbar": {
              "outlinewidth": 0,
              "ticks": ""
             }
            },
            "type": "scatterpolar"
           }
          ],
          "scatterpolargl": [
           {
            "marker": {
             "colorbar": {
              "outlinewidth": 0,
              "ticks": ""
             }
            },
            "type": "scatterpolargl"
           }
          ],
          "scatterternary": [
           {
            "marker": {
             "colorbar": {
              "outlinewidth": 0,
              "ticks": ""
             }
            },
            "type": "scatterternary"
           }
          ],
          "surface": [
           {
            "colorbar": {
             "outlinewidth": 0,
             "ticks": ""
            },
            "colorscale": [
             [
              0,
              "#0d0887"
             ],
             [
              0.1111111111111111,
              "#46039f"
             ],
             [
              0.2222222222222222,
              "#7201a8"
             ],
             [
              0.3333333333333333,
              "#9c179e"
             ],
             [
              0.4444444444444444,
              "#bd3786"
             ],
             [
              0.5555555555555556,
              "#d8576b"
             ],
             [
              0.6666666666666666,
              "#ed7953"
             ],
             [
              0.7777777777777778,
              "#fb9f3a"
             ],
             [
              0.8888888888888888,
              "#fdca26"
             ],
             [
              1,
              "#f0f921"
             ]
            ],
            "type": "surface"
           }
          ],
          "table": [
           {
            "cells": {
             "fill": {
              "color": "#EBF0F8"
             },
             "line": {
              "color": "white"
             }
            },
            "header": {
             "fill": {
              "color": "#C8D4E3"
             },
             "line": {
              "color": "white"
             }
            },
            "type": "table"
           }
          ]
         },
         "layout": {
          "annotationdefaults": {
           "arrowcolor": "#2a3f5f",
           "arrowhead": 0,
           "arrowwidth": 1
          },
          "autotypenumbers": "strict",
          "coloraxis": {
           "colorbar": {
            "outlinewidth": 0,
            "ticks": ""
           }
          },
          "colorscale": {
           "diverging": [
            [
             0,
             "#8e0152"
            ],
            [
             0.1,
             "#c51b7d"
            ],
            [
             0.2,
             "#de77ae"
            ],
            [
             0.3,
             "#f1b6da"
            ],
            [
             0.4,
             "#fde0ef"
            ],
            [
             0.5,
             "#f7f7f7"
            ],
            [
             0.6,
             "#e6f5d0"
            ],
            [
             0.7,
             "#b8e186"
            ],
            [
             0.8,
             "#7fbc41"
            ],
            [
             0.9,
             "#4d9221"
            ],
            [
             1,
             "#276419"
            ]
           ],
           "sequential": [
            [
             0,
             "#0d0887"
            ],
            [
             0.1111111111111111,
             "#46039f"
            ],
            [
             0.2222222222222222,
             "#7201a8"
            ],
            [
             0.3333333333333333,
             "#9c179e"
            ],
            [
             0.4444444444444444,
             "#bd3786"
            ],
            [
             0.5555555555555556,
             "#d8576b"
            ],
            [
             0.6666666666666666,
             "#ed7953"
            ],
            [
             0.7777777777777778,
             "#fb9f3a"
            ],
            [
             0.8888888888888888,
             "#fdca26"
            ],
            [
             1,
             "#f0f921"
            ]
           ],
           "sequentialminus": [
            [
             0,
             "#0d0887"
            ],
            [
             0.1111111111111111,
             "#46039f"
            ],
            [
             0.2222222222222222,
             "#7201a8"
            ],
            [
             0.3333333333333333,
             "#9c179e"
            ],
            [
             0.4444444444444444,
             "#bd3786"
            ],
            [
             0.5555555555555556,
             "#d8576b"
            ],
            [
             0.6666666666666666,
             "#ed7953"
            ],
            [
             0.7777777777777778,
             "#fb9f3a"
            ],
            [
             0.8888888888888888,
             "#fdca26"
            ],
            [
             1,
             "#f0f921"
            ]
           ]
          },
          "colorway": [
           "#636efa",
           "#EF553B",
           "#00cc96",
           "#ab63fa",
           "#FFA15A",
           "#19d3f3",
           "#FF6692",
           "#B6E880",
           "#FF97FF",
           "#FECB52"
          ],
          "font": {
           "color": "#2a3f5f"
          },
          "geo": {
           "bgcolor": "white",
           "lakecolor": "white",
           "landcolor": "#E5ECF6",
           "showlakes": true,
           "showland": true,
           "subunitcolor": "white"
          },
          "hoverlabel": {
           "align": "left"
          },
          "hovermode": "closest",
          "mapbox": {
           "style": "light"
          },
          "paper_bgcolor": "white",
          "plot_bgcolor": "#E5ECF6",
          "polar": {
           "angularaxis": {
            "gridcolor": "white",
            "linecolor": "white",
            "ticks": ""
           },
           "bgcolor": "#E5ECF6",
           "radialaxis": {
            "gridcolor": "white",
            "linecolor": "white",
            "ticks": ""
           }
          },
          "scene": {
           "xaxis": {
            "backgroundcolor": "#E5ECF6",
            "gridcolor": "white",
            "gridwidth": 2,
            "linecolor": "white",
            "showbackground": true,
            "ticks": "",
            "zerolinecolor": "white"
           },
           "yaxis": {
            "backgroundcolor": "#E5ECF6",
            "gridcolor": "white",
            "gridwidth": 2,
            "linecolor": "white",
            "showbackground": true,
            "ticks": "",
            "zerolinecolor": "white"
           },
           "zaxis": {
            "backgroundcolor": "#E5ECF6",
            "gridcolor": "white",
            "gridwidth": 2,
            "linecolor": "white",
            "showbackground": true,
            "ticks": "",
            "zerolinecolor": "white"
           }
          },
          "shapedefaults": {
           "line": {
            "color": "#2a3f5f"
           }
          },
          "ternary": {
           "aaxis": {
            "gridcolor": "white",
            "linecolor": "white",
            "ticks": ""
           },
           "baxis": {
            "gridcolor": "white",
            "linecolor": "white",
            "ticks": ""
           },
           "bgcolor": "#E5ECF6",
           "caxis": {
            "gridcolor": "white",
            "linecolor": "white",
            "ticks": ""
           }
          },
          "title": {
           "x": 0.05
          },
          "xaxis": {
           "automargin": true,
           "gridcolor": "white",
           "linecolor": "white",
           "ticks": "",
           "title": {
            "standoff": 15
           },
           "zerolinecolor": "white",
           "zerolinewidth": 2
          },
          "yaxis": {
           "automargin": true,
           "gridcolor": "white",
           "linecolor": "white",
           "ticks": "",
           "title": {
            "standoff": 15
           },
           "zerolinecolor": "white",
           "zerolinewidth": 2
          }
         }
        },
        "title": {
         "text": "Goals scored against favorite opponents by famous goalscorers"
        },
        "xaxis": {
         "anchor": "y",
         "domain": [
          0,
          1
         ],
         "title": {
          "text": "goals"
         }
        },
        "yaxis": {
         "anchor": "x",
         "domain": [
          0,
          1
         ],
         "title": {
          "text": "scorer"
         }
        }
       }
      }
     },
     "metadata": {},
     "output_type": "display_data"
    }
   ],
   "source": [
    "df_goalscorers['opponent'] = df_goalscorers.apply(lambda row: row['away_team'] if row['team'] == row['home_team'] else row['home_team'], axis=1)\n",
    "\n",
    "fav_opp = df_goalscorers.groupby(['scorer', 'opponent']).size().reset_index(name='goals')\n",
    "fav_opp = fav_opp.loc[fav_opp.groupby('scorer')['goals'].idxmax()]\n",
    "\n",
    "players = ['Lionel Messi', 'Romelu Lukaku', 'Cristiano Ronaldo', 'Robert Lewandowski', 'Neymar', 'Harry Kane', 'Diego Maradona', 'Kylian Mbappé',\n",
    "           'Olivier Giroud', 'Thomas Müller', 'Pelé', 'Son Heung-min', 'Lê Công Vinh','Luis Suárez',\n",
    "           'Edin Džeko', 'Miroslav Klose']\n",
    "top_players_stats = fav_opp[fav_opp['scorer'].isin(players)]\n",
    "top_players_stats['label'] = top_players_stats['opponent'] + ': ' + top_players_stats['goals'].astype(str) + ' goals'\n",
    "\n",
    "fig = px.bar(top_players_stats, x='goals',\n",
    "             y= 'scorer',\n",
    "             color = 'goals',\n",
    "             title = 'Goals scored against favorite opponents by famous goalscorers',\n",
    "             text = 'label',\n",
    "             orientation = 'h')\n",
    "            \n",
    "fig.show()"
   ]
  },
  {
   "cell_type": "code",
   "execution_count": null,
   "metadata": {},
   "outputs": [],
   "source": []
  }
 ],
 "metadata": {
  "kernelspec": {
   "display_name": "Python 3",
   "language": "python",
   "name": "python3"
  },
  "language_info": {
   "codemirror_mode": {
    "name": "ipython",
    "version": 3
   },
   "file_extension": ".py",
   "mimetype": "text/x-python",
   "name": "python",
   "nbconvert_exporter": "python",
   "pygments_lexer": "ipython3",
   "version": "3.11.0"
  }
 },
 "nbformat": 4,
 "nbformat_minor": 2
}
